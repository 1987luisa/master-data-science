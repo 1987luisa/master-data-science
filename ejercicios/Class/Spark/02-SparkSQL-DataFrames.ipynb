{
 "cells": [
  {
   "cell_type": "code",
   "execution_count": 4,
   "metadata": {},
   "outputs": [
    {
     "name": "stdout",
     "output_type": "stream",
     "text": [
      "^C\r\n"
     ]
    }
   ],
   "source": [
    "!git add ."
   ]
  },
  {
   "cell_type": "markdown",
   "metadata": {},
   "source": [
    "# SparkSQL and DataFrames \n",
    "\n",
    "<a href = \"http://yogen.io\"><img src=\"http://yogen.io/assets/logo.svg\" alt=\"yogen\" style=\"width: 200px; float: right;\"/></a>"
   ]
  },
  {
   "cell_type": "markdown",
   "metadata": {},
   "source": [
    "## RDDs, DataSets, and DataFrames\n",
    "\n",
    "RDDs are the original interface for Spark programming.\n",
    "\n",
    "DataFrames were introduced in 1.3\n",
    "\n",
    "Datasets were introduced in 1.6, and unified with DataFrames in 2.0"
   ]
  },
  {
   "cell_type": "markdown",
   "metadata": {},
   "source": [
    "### Advantages of DataFrames:\n",
    "\n",
    "from https://www.datacamp.com/community/tutorials/apache-spark-python:\n",
    "\n",
    "> More specifically, the performance improvements are due to two things, which you’ll often come across when you’re reading up DataFrames: custom memory management (project Tungsten), which will make sure that your Spark jobs much faster given CPU constraints, and optimized execution plans (Catalyst optimizer), of which the logical plan of the DataFrame is a part."
   ]
  },
  {
   "cell_type": "markdown",
   "metadata": {},
   "source": [
    "## SparkSQL and DataFrames \n",
    "\n",
    "\n",
    "pyspark does not have the Dataset API, which is available only if you use Spark from a statically typed language: Scala or Java.\n",
    "\n",
    "From https://spark.apache.org/docs/2.2.0/sql-programming-guide.html:\n",
    "\n",
    "> A DataFrame is a Dataset organized into named columns. It is conceptually equivalent to a table in a relational database or a data frame in R/Python, but with richer optimizations under the hood. DataFrames can be constructed from a wide array of sources such as: structured data files, tables in Hive, external databases, or existing RDDs. The DataFrame API is available in Scala, Java, Python, and R. In Scala and Java, a DataFrame is represented by a Dataset of Rows. In the Scala API, DataFrame is simply a type alias of Dataset[Row]. While, in Java API, users need to use Dataset&lt;Row> to represent a DataFrame.\n"
   ]
  },
  {
   "cell_type": "markdown",
   "metadata": {},
   "source": [
    "### The pyspark.sql module"
   ]
  },
  {
   "cell_type": "markdown",
   "metadata": {},
   "source": [
    "Important classes of Spark SQL and DataFrames:\n",
    "\n",
    "* `pyspark.sql.SparkSession` Main entry point for DataFrame and SQL functionality.\n",
    "\n",
    "* `pyspark.sql.DataFrame` A distributed collection of data grouped into named columns.\n",
    "\n",
    "* `pyspark.sql.Column` A column expression in a DataFrame.\n",
    "\n",
    "* `pyspark.sql.Row` A row of data in a DataFrame.\n",
    "\n",
    "* `pyspark.sql.GroupedData` Aggregation methods, returned by DataFrame.groupBy().\n",
    "\n",
    "* `pyspark.sql.DataFrameNaFunctions` Methods for handling missing data (null values).\n",
    "\n",
    "* `pyspark.sql.DataFrameStatFunctions` Methods for statistics functionality.\n",
    "\n",
    "* `pyspark.sql.functions` List of built-in functions available for DataFrame.\n",
    "\n",
    "* `pyspark.sql.types` List of data types available.\n",
    "\n",
    "* `pyspark.sql.Window` For working with window functions."
   ]
  },
  {
   "cell_type": "markdown",
   "metadata": {},
   "source": [
    "http://spark.apache.org/docs/2.2.0/api/python/pyspark.sql.html\n",
    "\n",
    "https://spark.apache.org/docs/2.2.0/sql-programming-guide.html"
   ]
  },
  {
   "cell_type": "markdown",
   "metadata": {},
   "source": [
    "## SparkSession\n",
    "\n",
    "The traditional way to interact with Spark is the SparkContext. In the notebooks we get that from the pyspark driver.\n",
    "\n",
    "From 2.0 we can use SparkSession to replace SparkConf, SparkContext and SQLContext"
   ]
  },
  {
   "cell_type": "code",
   "execution_count": 1,
   "metadata": {
    "scrolled": false
   },
   "outputs": [
    {
     "data": {
      "text/html": [
       "\n",
       "        <div>\n",
       "            <p><b>SparkContext</b></p>\n",
       "\n",
       "            <p><a href=\"http://10.0.2.15:4040\">Spark UI</a></p>\n",
       "\n",
       "            <dl>\n",
       "              <dt>Version</dt>\n",
       "                <dd><code>v2.2.0</code></dd>\n",
       "              <dt>Master</dt>\n",
       "                <dd><code>local[*]</code></dd>\n",
       "              <dt>AppName</dt>\n",
       "                <dd><code>PySparkShell</code></dd>\n",
       "            </dl>\n",
       "        </div>\n",
       "        "
      ],
      "text/plain": [
       "<SparkContext master=local[*] appName=PySparkShell>"
      ]
     },
     "execution_count": 1,
     "metadata": {},
     "output_type": "execute_result"
    }
   ],
   "source": [
    "sc"
   ]
  },
  {
   "cell_type": "code",
   "execution_count": 5,
   "metadata": {},
   "outputs": [
    {
     "data": {
      "text/html": [
       "\n",
       "        <div>\n",
       "            <p><b>SparkContext</b></p>\n",
       "\n",
       "            <p><a href=\"http://10.0.2.15:4040\">Spark UI</a></p>\n",
       "\n",
       "            <dl>\n",
       "              <dt>Version</dt>\n",
       "                <dd><code>v2.2.0</code></dd>\n",
       "              <dt>Master</dt>\n",
       "                <dd><code>local[*]</code></dd>\n",
       "              <dt>AppName</dt>\n",
       "                <dd><code>PySparkShell</code></dd>\n",
       "            </dl>\n",
       "        </div>\n",
       "        "
      ],
      "text/plain": [
       "<SparkContext master=local[*] appName=PySparkShell>"
      ]
     },
     "execution_count": 5,
     "metadata": {},
     "output_type": "execute_result"
    }
   ],
   "source": [
    "from pyspark.sql import SparkSession\n",
    "session = SparkSession.builder.getOrCreate()\n",
    "session.sparkContext"
   ]
  },
  {
   "cell_type": "markdown",
   "metadata": {},
   "source": [
    "#### Passing other options to spark session:\n",
    "    \n",
    "    "
   ]
  },
  {
   "cell_type": "code",
   "execution_count": 6,
   "metadata": {
    "collapsed": true
   },
   "outputs": [],
   "source": [
    "session = SparkSession.builder.config('comeoption.key','somevalue').getOrCreate()"
   ]
  },
  {
   "cell_type": "markdown",
   "metadata": {},
   "source": [
    "### Creating DataFrames\n",
    "\n",
    "SparkSession.createDataFrame: from an RDD, a list or a pandas.DataFrame."
   ]
  },
  {
   "cell_type": "code",
   "execution_count": 7,
   "metadata": {
    "collapsed": true
   },
   "outputs": [],
   "source": [
    "import random"
   ]
  },
  {
   "cell_type": "code",
   "execution_count": 8,
   "metadata": {},
   "outputs": [
    {
     "name": "stdout",
     "output_type": "stream",
     "text": [
      "+---+--------+\n",
      "| _1|      _2|\n",
      "+---+--------+\n",
      "|  0| manager|\n",
      "|  1|mechanic|\n",
      "|  2|mechanic|\n",
      "|  3| manager|\n",
      "|  4|   sales|\n",
      "+---+--------+\n",
      "only showing top 5 rows\n",
      "\n"
     ]
    }
   ],
   "source": [
    "random.seed(42)\n",
    "ids=range(12)\n",
    "positions = [random.choice(['mechanic','sales','manager']) for id_ in ids]\n",
    "positions\n",
    "\n",
    "rows = zip(ids,positions)\n",
    "\n",
    "df = session.createDataFrame(rows)\n",
    "df.show(5)"
   ]
  },
  {
   "cell_type": "markdown",
   "metadata": {},
   "source": [
    "### Creating DataFrames\n",
    "\n",
    "* From RDDs\n",
    "* from Hive tables\n",
    "* From Spark sources: parquet (default), json, jdbc, orc, libsvm, csv, text\n"
   ]
  },
  {
   "cell_type": "markdown",
   "metadata": {},
   "source": [
    "#### From RDDs"
   ]
  },
  {
   "cell_type": "code",
   "execution_count": 27,
   "metadata": {},
   "outputs": [
    {
     "data": {
      "text/plain": [
       "DataFrame[_1: string, _2: string, _3: string, _4: string, _5: string, _6: string, _7: string, _8: string, _9: string, _10: string, _11: string, _12: string, _13: string, _14: string, _15: string]"
      ]
     },
     "execution_count": 27,
     "metadata": {},
     "output_type": "execute_result"
    }
   ],
   "source": [
    "rdd = session.sparkContext.textFile('../../../../../Data/coupon150720.csv')\n",
    "rdd.take(5)\n",
    "session.createDataFrame(zip(ids,positions),schema=['ids','positions'])\n",
    "split_rdd = rdd.map(lambda line:line.split(','))\n",
    "new_df = session.createDataFrame(split_rdd)\n",
    "new_df"
   ]
  },
  {
   "cell_type": "code",
   "execution_count": 30,
   "metadata": {
    "collapsed": true
   },
   "outputs": [],
   "source": [
    "from pyspark.sql import types\n"
   ]
  },
  {
   "cell_type": "code",
   "execution_count": 31,
   "metadata": {
    "collapsed": true
   },
   "outputs": [],
   "source": [
    "fields = [types.StructField('id',types.IntegerType()),\n",
    "         types.StructField('position',types.StringType())]\n",
    "\n",
    "my_schema = types.StructType(fields)\n",
    "my_schema\n",
    "df1 = session.createDataFrame(zip(ids,positions),schema=my_schema)"
   ]
  },
  {
   "cell_type": "code",
   "execution_count": 36,
   "metadata": {},
   "outputs": [
    {
     "name": "stdout",
     "output_type": "stream",
     "text": [
      "+--------------+---+---+---+---+---+------+---+---+---+----+----+------+----+----+\n",
      "|           _c0|_c1|_c2|_c3|_c4|_c5|   _c6|_c7|_c8|_c9|_c10|_c11|  _c12|_c13|_c14|\n",
      "+--------------+---+---+---+---+---+------+---+---+---+----+----+------+----+----+\n",
      "|79062005698500|  1|MAA|AUH| 9W| 9W| 56.79|USD|  1|  H|   H|0526|150904|  OK|IAF0|\n",
      "|79062005698500|  2|AUH|CDG| 9W| 9W| 84.34|USD|  1|  H|   H|6120|150905|  OK|IAF0|\n",
      "|79062005924069|  1|CJB|MAA| 9W| 9W|  60.0|USD|  1|  H|   H|2768|150721|  OK|IAA0|\n",
      "|79065668570385|  1|DEL|DXB| 9W| 9W|160.63|USD|  2|  S|   S|0546|150804|  OK|INA0|\n",
      "|79065668737021|  1|AUH|IXE| 9W| 9W|152.46|USD|  1|  V|   V|0501|150803|  OK|INA0|\n",
      "+--------------+---+---+---+---+---+------+---+---+---+----+----+------+----+----+\n",
      "only showing top 5 rows\n",
      "\n"
     ]
    }
   ],
   "source": [
    "df_from_csv = session.read.csv('../../../../../Data/coupon150720.csv')\n",
    "df_from_csv.show(5)"
   ]
  },
  {
   "cell_type": "code",
   "execution_count": 37,
   "metadata": {},
   "outputs": [
    {
     "name": "stdout",
     "output_type": "stream",
     "text": [
      "+--------------+---+---+---+----+----+------+---+---+----+----+----+------+----+----+\n",
      "|           _c0|_c1|_c2|_c3| _c4| _c5|   _c6|_c7|_c8| _c9|_c10|_c11|  _c12|_c13|_c14|\n",
      "+--------------+---+---+---+----+----+------+---+---+----+----+----+------+----+----+\n",
      "|79062005698500|  1|MAA|AUH|  9W|  9W| 56.79|USD|  1|   H|   H|0526|150904|  OK|IAF0|\n",
      "|79062005698500|  2|AUH|CDG|  9W|  9W| 84.34|USD|  1|   H|   H|6120|150905|  OK|IAF0|\n",
      "|79062005924069|  1|CJB|MAA|  9W|  9W|  60.0|USD|  1|   H|   H|2768|150721|  OK|IAA0|\n",
      "|79065668570385|  1|DEL|DXB|  9W|  9W|160.63|USD|  2|   S|   S|0546|150804|  OK|INA0|\n",
      "|79065668737021|  1|AUH|IXE|  9W|  9W|152.46|USD|  1|   V|   V|0501|150803|  OK|INA0|\n",
      "|79062006192650|  1|RPR|BOM|  9W|  9W|  68.5|USD|  1|   K|   K|2202|150720|  OK|IAE0|\n",
      "|79062006192650|  2|BOM|RPR|  9W|  9W|  68.5|USD|  1|   H|   H|0377|150721|  OK|IAE0|\n",
      "|79062005733853|  1|DEL|DED|  9W|  9W| 56.16|USD|  1|   V|   V|2839|150801|  OK|INA0|\n",
      "|79062005836987|  1|ATL|LGA|  AA|  AA|  28.3|USD|  1|   V|   V|3237|150903|  OK|INB0|\n",
      "|79062005836987|  2|LGA|EWR|null|null|   0.0|USD|  1|null|null|VOID|  null|null|INA0|\n",
      "|79062005836987|  3|EWR|BOM|  9W|  9W|176.09|USD|  1|   W|   W|0227|150903|  OK|INB0|\n",
      "|79062005836987|  4|BOM|AMD|  9W|  9W| 12.02|USD|  1|   T|   T|2001|150905|  OK|INJ0|\n",
      "|79062005836987|  5|AMD|BOM|  9W|  9W| 12.02|USD|  2|   T|   T|7104|150921|  OK|INJ0|\n",
      "|79062005836987|  6|BOM|EWR|  9W|  9W|176.09|USD|  2|   W|   W|0228|150922|  OK|INB0|\n",
      "|79062005836987|  7|EWR|ATL|  UA|  UA|  28.3|USD|  2|   K|   K|0568|150922|  OK|INB0|\n",
      "|79062005862818|  1|LHR|BOM|  9W|  9W|101.65|USD|  1|   O|   O|0119|150820|  OK|INB0|\n",
      "|79062005862818|  2|BOM|HKG|  9W|  9W| 57.76|USD|  1|   T|   T|0076|150821|  OK|INB0|\n",
      "|79065668498895|  1|DXB|BOM|  9W|  9W| 54.44|USD|  1|   V|   V|0543|151105|  OK|INAQ|\n",
      "|79065668498895|  2|BOM|DXB|  9W|  9W|  73.5|USD|  2|   K|   K|0544|151114|  OK|INAQ|\n",
      "|79062005534346|  1|KTM|DEL|  9W|  9W| 24.92|USD|  1|   W|   W|0259|150722|  OK|INAQ|\n",
      "+--------------+---+---+---+----+----+------+---+---+----+----+----+------+----+----+\n",
      "only showing top 20 rows\n",
      "\n"
     ]
    }
   ],
   "source": [
    "df_with_sql = session.sql('SELECT * FROM csv.`../../../../../Data/coupon150720.csv`')\n",
    "df_with_sql.show()"
   ]
  },
  {
   "cell_type": "markdown",
   "metadata": {},
   "source": [
    "### Inferring and specifying schemas"
   ]
  },
  {
   "cell_type": "code",
   "execution_count": null,
   "metadata": {
    "collapsed": true
   },
   "outputs": [],
   "source": []
  },
  {
   "cell_type": "markdown",
   "metadata": {},
   "source": [
    "#### Fully specifying a schema\n",
    "\n",
    "We need to create a `StructType` composed of `StructField`s. each of those specifies afiled with name, type and `nullable` properties. "
   ]
  },
  {
   "cell_type": "code",
   "execution_count": null,
   "metadata": {
    "collapsed": true
   },
   "outputs": [],
   "source": []
  },
  {
   "cell_type": "markdown",
   "metadata": {},
   "source": [
    "#### From csv files\n",
    "\n",
    "We can either read them directly into dataframes or read them as RDDs and transform that into a DataFrame. This second way will be very useful if we have unstructured data like web server logs."
   ]
  },
  {
   "cell_type": "code",
   "execution_count": null,
   "metadata": {
    "collapsed": true
   },
   "outputs": [],
   "source": []
  },
  {
   "cell_type": "markdown",
   "metadata": {},
   "source": [
    "#### From other types of data"
   ]
  },
  {
   "cell_type": "markdown",
   "metadata": {},
   "source": [
    "Apache Parquet is a free and open-source column-oriented data store of the Apache Hadoop ecosystem. It is similar to the other columnar storage file formats available in Hadoop namely RCFile and Optimized RCFile. It is compatible with most of the data processing frameworks in the Hadoop environment."
   ]
  },
  {
   "cell_type": "code",
   "execution_count": null,
   "metadata": {
    "collapsed": true
   },
   "outputs": [],
   "source": []
  },
  {
   "cell_type": "markdown",
   "metadata": {},
   "source": [
    "### Basic operations with DataFrames"
   ]
  },
  {
   "cell_type": "code",
   "execution_count": null,
   "metadata": {
    "collapsed": true
   },
   "outputs": [],
   "source": []
  },
  {
   "cell_type": "markdown",
   "metadata": {},
   "source": [
    "### Filtering and selecting\n",
    "\n",
    "Syntax inspired in SQL."
   ]
  },
  {
   "cell_type": "code",
   "execution_count": 41,
   "metadata": {},
   "outputs": [
    {
     "name": "stdout",
     "output_type": "stream",
     "text": [
      "+---+--------+\n",
      "| id|position|\n",
      "+---+--------+\n",
      "|  0| manager|\n",
      "|  1|mechanic|\n",
      "|  2|mechanic|\n",
      "|  3| manager|\n",
      "|  4|   sales|\n",
      "|  5|mechanic|\n",
      "|  6|mechanic|\n",
      "|  7|mechanic|\n",
      "|  8| manager|\n",
      "|  9|mechanic|\n",
      "| 10| manager|\n",
      "| 11| manager|\n",
      "+---+--------+\n",
      "\n"
     ]
    }
   ],
   "source": [
    "df1.select('id')\n"
   ]
  },
  {
   "cell_type": "code",
   "execution_count": 55,
   "metadata": {},
   "outputs": [
    {
     "name": "stdout",
     "output_type": "stream",
     "text": [
      "+---+--------+\n",
      "| id|position|\n",
      "+---+--------+\n",
      "|  0| manager|\n",
      "|  3| manager|\n",
      "|  8| manager|\n",
      "| 10| manager|\n",
      "| 11| manager|\n",
      "+---+--------+\n",
      "\n"
     ]
    }
   ],
   "source": [
    "df1[df1['position'] == 'manager'].show()"
   ]
  },
  {
   "cell_type": "code",
   "execution_count": 50,
   "metadata": {},
   "outputs": [
    {
     "name": "stdout",
     "output_type": "stream",
     "text": [
      "+---+--------+\n",
      "| id|position|\n",
      "+---+--------+\n",
      "|  0| manager|\n",
      "|  3| manager|\n",
      "|  8| manager|\n",
      "| 10| manager|\n",
      "| 11| manager|\n",
      "+---+--------+\n",
      "\n",
      "+---+\n",
      "| id|\n",
      "+---+\n",
      "|  0|\n",
      "|  3|\n",
      "|  8|\n",
      "| 10|\n",
      "| 11|\n",
      "+---+\n",
      "\n"
     ]
    }
   ],
   "source": [
    "df1[df1['position'] == 'manager'].show()\n",
    "df1.where(df1['position']=='manager').select('id').show()\n"
   ]
  },
  {
   "cell_type": "markdown",
   "metadata": {},
   "source": [
    "`where` is exactly synonimous with `filter`"
   ]
  },
  {
   "cell_type": "code",
   "execution_count": 58,
   "metadata": {},
   "outputs": [
    {
     "name": "stdout",
     "output_type": "stream",
     "text": [
      "Counting objects: 13, done.\n",
      "Delta compression using up to 4 threads.\n",
      "Compressing objects: 100% (13/13), done.\n",
      "Writing objects: 100% (13/13), 2.82 MiB | 1.64 MiB/s, done.\n",
      "Total 13 (delta 7), reused 0 (delta 0)\n",
      "remote: Resolving deltas: 100% (7/7), completed with 6 local objects.\u001b[K\n",
      "To https://github.com/hguadalupe/master-data-science.git\n",
      "   74c1024..7dbddbc  master -> master\n"
     ]
    }
   ],
   "source": [
    "!git push"
   ]
  },
  {
   "cell_type": "code",
   "execution_count": null,
   "metadata": {
    "collapsed": true
   },
   "outputs": [],
   "source": []
  },
  {
   "cell_type": "markdown",
   "metadata": {},
   "source": [
    "#### Exercise\n",
    "\n",
    "Extract all employee ids which correspond to managers"
   ]
  },
  {
   "cell_type": "code",
   "execution_count": null,
   "metadata": {
    "collapsed": true
   },
   "outputs": [],
   "source": []
  },
  {
   "cell_type": "markdown",
   "metadata": {},
   "source": [
    "### Adding columns\n",
    "\n",
    "Dataframes are immutable, since they are built on top of RDDs, so we not assing to them. We need to create new RDDS with the appropriate columns."
   ]
  },
  {
   "cell_type": "code",
   "execution_count": null,
   "metadata": {
    "collapsed": true
   },
   "outputs": [],
   "source": []
  },
  {
   "cell_type": "markdown",
   "metadata": {},
   "source": [
    "### User defined functions\n",
    "\n",
    "Creating `udf`s allows us to \"vectorize\" operations: write a standard function to process single elements, then build a udf with that that works on columns in a DataFrame, like a SQL function."
   ]
  },
  {
   "cell_type": "code",
   "execution_count": 2,
   "metadata": {
    "collapsed": true
   },
   "outputs": [],
   "source": [
    "from pyspark.sql import functions"
   ]
  },
  {
   "cell_type": "markdown",
   "metadata": {},
   "source": [
    "If we want the resulting columns to be of a particular type, we need to specify the return type. This is because in Python return types can not be inferred."
   ]
  },
  {
   "cell_type": "code",
   "execution_count": 61,
   "metadata": {},
   "outputs": [
    {
     "name": "stdout",
     "output_type": "stream",
     "text": [
      "+------------------+\n",
      "|          SQRT(id)|\n",
      "+------------------+\n",
      "|               0.0|\n",
      "|               1.0|\n",
      "|1.4142135623730951|\n",
      "|1.7320508075688772|\n",
      "|               2.0|\n",
      "|  2.23606797749979|\n",
      "| 2.449489742783178|\n",
      "|2.6457513110645907|\n",
      "|2.8284271247461903|\n",
      "|               3.0|\n",
      "|3.1622776601683795|\n",
      "|   3.3166247903554|\n",
      "+------------------+\n",
      "\n"
     ]
    }
   ],
   "source": [
    "df1.select(functions.sqrt(df1['id'])).show()"
   ]
  },
  {
   "cell_type": "code",
   "execution_count": null,
   "metadata": {
    "collapsed": true
   },
   "outputs": [],
   "source": [
    "udf_log1p = functions.udf(math.log)"
   ]
  },
  {
   "cell_type": "code",
   "execution_count": 62,
   "metadata": {
    "collapsed": true
   },
   "outputs": [
    {
     "ename": "AttributeError",
     "evalue": "'function' object has no attribute '_get_object_id'",
     "output_type": "error",
     "traceback": [
      "\u001b[0;31m---------------------------------------------------------------------------\u001b[0m",
      "\u001b[0;31mAttributeError\u001b[0m                            Traceback (most recent call last)",
      "\u001b[0;32m<ipython-input-62-97b3a03c2889>\u001b[0m in \u001b[0;36m<module>\u001b[0;34m()\u001b[0m\n\u001b[1;32m      1\u001b[0m df1=df.select('id',\n\u001b[1;32m      2\u001b[0m              \u001b[0;34m'position'\u001b[0m\u001b[0;34m,\u001b[0m\u001b[0;34m\u001b[0m\u001b[0m\n\u001b[0;32m----> 3\u001b[0;31m              lambda col: col*2)\n\u001b[0m",
      "\u001b[0;32m/usr/local/spark/python/pyspark/sql/dataframe.py\u001b[0m in \u001b[0;36mselect\u001b[0;34m(self, *cols)\u001b[0m\n\u001b[1;32m   1038\u001b[0m         \u001b[0;34m[\u001b[0m\u001b[0mRow\u001b[0m\u001b[0;34m(\u001b[0m\u001b[0mname\u001b[0m\u001b[0;34m=\u001b[0m\u001b[0;34mu'Alice'\u001b[0m\u001b[0;34m,\u001b[0m \u001b[0mage\u001b[0m\u001b[0;34m=\u001b[0m\u001b[0;36m12\u001b[0m\u001b[0;34m)\u001b[0m\u001b[0;34m,\u001b[0m \u001b[0mRow\u001b[0m\u001b[0;34m(\u001b[0m\u001b[0mname\u001b[0m\u001b[0;34m=\u001b[0m\u001b[0;34mu'Bob'\u001b[0m\u001b[0;34m,\u001b[0m \u001b[0mage\u001b[0m\u001b[0;34m=\u001b[0m\u001b[0;36m15\u001b[0m\u001b[0;34m)\u001b[0m\u001b[0;34m]\u001b[0m\u001b[0;34m\u001b[0m\u001b[0m\n\u001b[1;32m   1039\u001b[0m         \"\"\"\n\u001b[0;32m-> 1040\u001b[0;31m         \u001b[0mjdf\u001b[0m \u001b[0;34m=\u001b[0m \u001b[0mself\u001b[0m\u001b[0;34m.\u001b[0m\u001b[0m_jdf\u001b[0m\u001b[0;34m.\u001b[0m\u001b[0mselect\u001b[0m\u001b[0;34m(\u001b[0m\u001b[0mself\u001b[0m\u001b[0;34m.\u001b[0m\u001b[0m_jcols\u001b[0m\u001b[0;34m(\u001b[0m\u001b[0;34m*\u001b[0m\u001b[0mcols\u001b[0m\u001b[0;34m)\u001b[0m\u001b[0;34m)\u001b[0m\u001b[0;34m\u001b[0m\u001b[0m\n\u001b[0m\u001b[1;32m   1041\u001b[0m         \u001b[0;32mreturn\u001b[0m \u001b[0mDataFrame\u001b[0m\u001b[0;34m(\u001b[0m\u001b[0mjdf\u001b[0m\u001b[0;34m,\u001b[0m \u001b[0mself\u001b[0m\u001b[0;34m.\u001b[0m\u001b[0msql_ctx\u001b[0m\u001b[0;34m)\u001b[0m\u001b[0;34m\u001b[0m\u001b[0m\n\u001b[1;32m   1042\u001b[0m \u001b[0;34m\u001b[0m\u001b[0m\n",
      "\u001b[0;32m/usr/local/spark/python/pyspark/sql/dataframe.py\u001b[0m in \u001b[0;36m_jcols\u001b[0;34m(self, *cols)\u001b[0m\n\u001b[1;32m    893\u001b[0m         \u001b[0;32mif\u001b[0m \u001b[0mlen\u001b[0m\u001b[0;34m(\u001b[0m\u001b[0mcols\u001b[0m\u001b[0;34m)\u001b[0m \u001b[0;34m==\u001b[0m \u001b[0;36m1\u001b[0m \u001b[0;32mand\u001b[0m \u001b[0misinstance\u001b[0m\u001b[0;34m(\u001b[0m\u001b[0mcols\u001b[0m\u001b[0;34m[\u001b[0m\u001b[0;36m0\u001b[0m\u001b[0;34m]\u001b[0m\u001b[0;34m,\u001b[0m \u001b[0mlist\u001b[0m\u001b[0;34m)\u001b[0m\u001b[0;34m:\u001b[0m\u001b[0;34m\u001b[0m\u001b[0m\n\u001b[1;32m    894\u001b[0m             \u001b[0mcols\u001b[0m \u001b[0;34m=\u001b[0m \u001b[0mcols\u001b[0m\u001b[0;34m[\u001b[0m\u001b[0;36m0\u001b[0m\u001b[0;34m]\u001b[0m\u001b[0;34m\u001b[0m\u001b[0m\n\u001b[0;32m--> 895\u001b[0;31m         \u001b[0;32mreturn\u001b[0m \u001b[0mself\u001b[0m\u001b[0;34m.\u001b[0m\u001b[0m_jseq\u001b[0m\u001b[0;34m(\u001b[0m\u001b[0mcols\u001b[0m\u001b[0;34m,\u001b[0m \u001b[0m_to_java_column\u001b[0m\u001b[0;34m)\u001b[0m\u001b[0;34m\u001b[0m\u001b[0m\n\u001b[0m\u001b[1;32m    896\u001b[0m \u001b[0;34m\u001b[0m\u001b[0m\n\u001b[1;32m    897\u001b[0m     \u001b[0;32mdef\u001b[0m \u001b[0m_sort_cols\u001b[0m\u001b[0;34m(\u001b[0m\u001b[0mself\u001b[0m\u001b[0;34m,\u001b[0m \u001b[0mcols\u001b[0m\u001b[0;34m,\u001b[0m \u001b[0mkwargs\u001b[0m\u001b[0;34m)\u001b[0m\u001b[0;34m:\u001b[0m\u001b[0;34m\u001b[0m\u001b[0m\n",
      "\u001b[0;32m/usr/local/spark/python/pyspark/sql/dataframe.py\u001b[0m in \u001b[0;36m_jseq\u001b[0;34m(self, cols, converter)\u001b[0m\n\u001b[1;32m    880\u001b[0m     \u001b[0;32mdef\u001b[0m \u001b[0m_jseq\u001b[0m\u001b[0;34m(\u001b[0m\u001b[0mself\u001b[0m\u001b[0;34m,\u001b[0m \u001b[0mcols\u001b[0m\u001b[0;34m,\u001b[0m \u001b[0mconverter\u001b[0m\u001b[0;34m=\u001b[0m\u001b[0;32mNone\u001b[0m\u001b[0;34m)\u001b[0m\u001b[0;34m:\u001b[0m\u001b[0;34m\u001b[0m\u001b[0m\n\u001b[1;32m    881\u001b[0m         \u001b[0;34m\"\"\"Return a JVM Seq of Columns from a list of Column or names\"\"\"\u001b[0m\u001b[0;34m\u001b[0m\u001b[0m\n\u001b[0;32m--> 882\u001b[0;31m         \u001b[0;32mreturn\u001b[0m \u001b[0m_to_seq\u001b[0m\u001b[0;34m(\u001b[0m\u001b[0mself\u001b[0m\u001b[0;34m.\u001b[0m\u001b[0msql_ctx\u001b[0m\u001b[0;34m.\u001b[0m\u001b[0m_sc\u001b[0m\u001b[0;34m,\u001b[0m \u001b[0mcols\u001b[0m\u001b[0;34m,\u001b[0m \u001b[0mconverter\u001b[0m\u001b[0;34m)\u001b[0m\u001b[0;34m\u001b[0m\u001b[0m\n\u001b[0m\u001b[1;32m    883\u001b[0m \u001b[0;34m\u001b[0m\u001b[0m\n\u001b[1;32m    884\u001b[0m     \u001b[0;32mdef\u001b[0m \u001b[0m_jmap\u001b[0m\u001b[0;34m(\u001b[0m\u001b[0mself\u001b[0m\u001b[0;34m,\u001b[0m \u001b[0mjm\u001b[0m\u001b[0;34m)\u001b[0m\u001b[0;34m:\u001b[0m\u001b[0;34m\u001b[0m\u001b[0m\n",
      "\u001b[0;32m/usr/local/spark/python/pyspark/sql/column.py\u001b[0m in \u001b[0;36m_to_seq\u001b[0;34m(sc, cols, converter)\u001b[0m\n\u001b[1;32m     58\u001b[0m     \"\"\"\n\u001b[1;32m     59\u001b[0m     \u001b[0;32mif\u001b[0m \u001b[0mconverter\u001b[0m\u001b[0;34m:\u001b[0m\u001b[0;34m\u001b[0m\u001b[0m\n\u001b[0;32m---> 60\u001b[0;31m         \u001b[0mcols\u001b[0m \u001b[0;34m=\u001b[0m \u001b[0;34m[\u001b[0m\u001b[0mconverter\u001b[0m\u001b[0;34m(\u001b[0m\u001b[0mc\u001b[0m\u001b[0;34m)\u001b[0m \u001b[0;32mfor\u001b[0m \u001b[0mc\u001b[0m \u001b[0;32min\u001b[0m \u001b[0mcols\u001b[0m\u001b[0;34m]\u001b[0m\u001b[0;34m\u001b[0m\u001b[0m\n\u001b[0m\u001b[1;32m     61\u001b[0m     \u001b[0;32mreturn\u001b[0m \u001b[0msc\u001b[0m\u001b[0;34m.\u001b[0m\u001b[0m_jvm\u001b[0m\u001b[0;34m.\u001b[0m\u001b[0mPythonUtils\u001b[0m\u001b[0;34m.\u001b[0m\u001b[0mtoSeq\u001b[0m\u001b[0;34m(\u001b[0m\u001b[0mcols\u001b[0m\u001b[0;34m)\u001b[0m\u001b[0;34m\u001b[0m\u001b[0m\n\u001b[1;32m     62\u001b[0m \u001b[0;34m\u001b[0m\u001b[0m\n",
      "\u001b[0;32m/usr/local/spark/python/pyspark/sql/column.py\u001b[0m in \u001b[0;36m<listcomp>\u001b[0;34m(.0)\u001b[0m\n\u001b[1;32m     58\u001b[0m     \"\"\"\n\u001b[1;32m     59\u001b[0m     \u001b[0;32mif\u001b[0m \u001b[0mconverter\u001b[0m\u001b[0;34m:\u001b[0m\u001b[0;34m\u001b[0m\u001b[0m\n\u001b[0;32m---> 60\u001b[0;31m         \u001b[0mcols\u001b[0m \u001b[0;34m=\u001b[0m \u001b[0;34m[\u001b[0m\u001b[0mconverter\u001b[0m\u001b[0;34m(\u001b[0m\u001b[0mc\u001b[0m\u001b[0;34m)\u001b[0m \u001b[0;32mfor\u001b[0m \u001b[0mc\u001b[0m \u001b[0;32min\u001b[0m \u001b[0mcols\u001b[0m\u001b[0;34m]\u001b[0m\u001b[0;34m\u001b[0m\u001b[0m\n\u001b[0m\u001b[1;32m     61\u001b[0m     \u001b[0;32mreturn\u001b[0m \u001b[0msc\u001b[0m\u001b[0;34m.\u001b[0m\u001b[0m_jvm\u001b[0m\u001b[0;34m.\u001b[0m\u001b[0mPythonUtils\u001b[0m\u001b[0;34m.\u001b[0m\u001b[0mtoSeq\u001b[0m\u001b[0;34m(\u001b[0m\u001b[0mcols\u001b[0m\u001b[0;34m)\u001b[0m\u001b[0;34m\u001b[0m\u001b[0m\n\u001b[1;32m     62\u001b[0m \u001b[0;34m\u001b[0m\u001b[0m\n",
      "\u001b[0;32m/usr/local/spark/python/pyspark/sql/column.py\u001b[0m in \u001b[0;36m_to_java_column\u001b[0;34m(col)\u001b[0m\n\u001b[1;32m     46\u001b[0m         \u001b[0mjcol\u001b[0m \u001b[0;34m=\u001b[0m \u001b[0mcol\u001b[0m\u001b[0;34m.\u001b[0m\u001b[0m_jc\u001b[0m\u001b[0;34m\u001b[0m\u001b[0m\n\u001b[1;32m     47\u001b[0m     \u001b[0;32melse\u001b[0m\u001b[0;34m:\u001b[0m\u001b[0;34m\u001b[0m\u001b[0m\n\u001b[0;32m---> 48\u001b[0;31m         \u001b[0mjcol\u001b[0m \u001b[0;34m=\u001b[0m \u001b[0m_create_column_from_name\u001b[0m\u001b[0;34m(\u001b[0m\u001b[0mcol\u001b[0m\u001b[0;34m)\u001b[0m\u001b[0;34m\u001b[0m\u001b[0m\n\u001b[0m\u001b[1;32m     49\u001b[0m     \u001b[0;32mreturn\u001b[0m \u001b[0mjcol\u001b[0m\u001b[0;34m\u001b[0m\u001b[0m\n\u001b[1;32m     50\u001b[0m \u001b[0;34m\u001b[0m\u001b[0m\n",
      "\u001b[0;32m/usr/local/spark/python/pyspark/sql/column.py\u001b[0m in \u001b[0;36m_create_column_from_name\u001b[0;34m(name)\u001b[0m\n\u001b[1;32m     39\u001b[0m \u001b[0;32mdef\u001b[0m \u001b[0m_create_column_from_name\u001b[0m\u001b[0;34m(\u001b[0m\u001b[0mname\u001b[0m\u001b[0;34m)\u001b[0m\u001b[0;34m:\u001b[0m\u001b[0;34m\u001b[0m\u001b[0m\n\u001b[1;32m     40\u001b[0m     \u001b[0msc\u001b[0m \u001b[0;34m=\u001b[0m \u001b[0mSparkContext\u001b[0m\u001b[0;34m.\u001b[0m\u001b[0m_active_spark_context\u001b[0m\u001b[0;34m\u001b[0m\u001b[0m\n\u001b[0;32m---> 41\u001b[0;31m     \u001b[0;32mreturn\u001b[0m \u001b[0msc\u001b[0m\u001b[0;34m.\u001b[0m\u001b[0m_jvm\u001b[0m\u001b[0;34m.\u001b[0m\u001b[0mfunctions\u001b[0m\u001b[0;34m.\u001b[0m\u001b[0mcol\u001b[0m\u001b[0;34m(\u001b[0m\u001b[0mname\u001b[0m\u001b[0;34m)\u001b[0m\u001b[0;34m\u001b[0m\u001b[0m\n\u001b[0m\u001b[1;32m     42\u001b[0m \u001b[0;34m\u001b[0m\u001b[0m\n\u001b[1;32m     43\u001b[0m \u001b[0;34m\u001b[0m\u001b[0m\n",
      "\u001b[0;32m/usr/local/spark/python/lib/py4j-0.10.4-src.zip/py4j/java_gateway.py\u001b[0m in \u001b[0;36m__call__\u001b[0;34m(self, *args)\u001b[0m\n\u001b[1;32m   1122\u001b[0m \u001b[0;34m\u001b[0m\u001b[0m\n\u001b[1;32m   1123\u001b[0m     \u001b[0;32mdef\u001b[0m \u001b[0m__call__\u001b[0m\u001b[0;34m(\u001b[0m\u001b[0mself\u001b[0m\u001b[0;34m,\u001b[0m \u001b[0;34m*\u001b[0m\u001b[0margs\u001b[0m\u001b[0;34m)\u001b[0m\u001b[0;34m:\u001b[0m\u001b[0;34m\u001b[0m\u001b[0m\n\u001b[0;32m-> 1124\u001b[0;31m         \u001b[0margs_command\u001b[0m\u001b[0;34m,\u001b[0m \u001b[0mtemp_args\u001b[0m \u001b[0;34m=\u001b[0m \u001b[0mself\u001b[0m\u001b[0;34m.\u001b[0m\u001b[0m_build_args\u001b[0m\u001b[0;34m(\u001b[0m\u001b[0;34m*\u001b[0m\u001b[0margs\u001b[0m\u001b[0;34m)\u001b[0m\u001b[0;34m\u001b[0m\u001b[0m\n\u001b[0m\u001b[1;32m   1125\u001b[0m \u001b[0;34m\u001b[0m\u001b[0m\n\u001b[1;32m   1126\u001b[0m         \u001b[0mcommand\u001b[0m \u001b[0;34m=\u001b[0m \u001b[0mproto\u001b[0m\u001b[0;34m.\u001b[0m\u001b[0mCALL_COMMAND_NAME\u001b[0m \u001b[0;34m+\u001b[0m\u001b[0;31m\\\u001b[0m\u001b[0;34m\u001b[0m\u001b[0m\n",
      "\u001b[0;32m/usr/local/spark/python/lib/py4j-0.10.4-src.zip/py4j/java_gateway.py\u001b[0m in \u001b[0;36m_build_args\u001b[0;34m(self, *args)\u001b[0m\n\u001b[1;32m   1092\u001b[0m \u001b[0;34m\u001b[0m\u001b[0m\n\u001b[1;32m   1093\u001b[0m         args_command = \"\".join(\n\u001b[0;32m-> 1094\u001b[0;31m             [get_command_part(arg, self.pool) for arg in new_args])\n\u001b[0m\u001b[1;32m   1095\u001b[0m \u001b[0;34m\u001b[0m\u001b[0m\n\u001b[1;32m   1096\u001b[0m         \u001b[0;32mreturn\u001b[0m \u001b[0margs_command\u001b[0m\u001b[0;34m,\u001b[0m \u001b[0mtemp_args\u001b[0m\u001b[0;34m\u001b[0m\u001b[0m\n",
      "\u001b[0;32m/usr/local/spark/python/lib/py4j-0.10.4-src.zip/py4j/java_gateway.py\u001b[0m in \u001b[0;36m<listcomp>\u001b[0;34m(.0)\u001b[0m\n\u001b[1;32m   1092\u001b[0m \u001b[0;34m\u001b[0m\u001b[0m\n\u001b[1;32m   1093\u001b[0m         args_command = \"\".join(\n\u001b[0;32m-> 1094\u001b[0;31m             [get_command_part(arg, self.pool) for arg in new_args])\n\u001b[0m\u001b[1;32m   1095\u001b[0m \u001b[0;34m\u001b[0m\u001b[0m\n\u001b[1;32m   1096\u001b[0m         \u001b[0;32mreturn\u001b[0m \u001b[0margs_command\u001b[0m\u001b[0;34m,\u001b[0m \u001b[0mtemp_args\u001b[0m\u001b[0;34m\u001b[0m\u001b[0m\n",
      "\u001b[0;32m/usr/local/spark/python/lib/py4j-0.10.4-src.zip/py4j/protocol.py\u001b[0m in \u001b[0;36mget_command_part\u001b[0;34m(parameter, python_proxy_pool)\u001b[0m\n\u001b[1;32m    287\u001b[0m             \u001b[0mcommand_part\u001b[0m \u001b[0;34m+=\u001b[0m \u001b[0;34m\";\"\u001b[0m \u001b[0;34m+\u001b[0m \u001b[0minterface\u001b[0m\u001b[0;34m\u001b[0m\u001b[0m\n\u001b[1;32m    288\u001b[0m     \u001b[0;32melse\u001b[0m\u001b[0;34m:\u001b[0m\u001b[0;34m\u001b[0m\u001b[0m\n\u001b[0;32m--> 289\u001b[0;31m         \u001b[0mcommand_part\u001b[0m \u001b[0;34m=\u001b[0m \u001b[0mREFERENCE_TYPE\u001b[0m \u001b[0;34m+\u001b[0m \u001b[0mparameter\u001b[0m\u001b[0;34m.\u001b[0m\u001b[0m_get_object_id\u001b[0m\u001b[0;34m(\u001b[0m\u001b[0;34m)\u001b[0m\u001b[0;34m\u001b[0m\u001b[0m\n\u001b[0m\u001b[1;32m    290\u001b[0m \u001b[0;34m\u001b[0m\u001b[0m\n\u001b[1;32m    291\u001b[0m     \u001b[0mcommand_part\u001b[0m \u001b[0;34m+=\u001b[0m \u001b[0;34m\"\\n\"\u001b[0m\u001b[0;34m\u001b[0m\u001b[0m\n",
      "\u001b[0;31mAttributeError\u001b[0m: 'function' object has no attribute '_get_object_id'"
     ]
    }
   ],
   "source": [
    "df1=df.select('id',\n",
    "             'position',\n",
    "             lambda col: col*2)"
   ]
  },
  {
   "cell_type": "markdown",
   "metadata": {},
   "source": [
    "Think about this function: what is its return type?"
   ]
  },
  {
   "cell_type": "code",
   "execution_count": null,
   "metadata": {
    "collapsed": true
   },
   "outputs": [],
   "source": []
  },
  {
   "cell_type": "markdown",
   "metadata": {},
   "source": [
    "#### Exercise: \n",
    "\n",
    "Create a 'salary' field in our df. make it 30000 for mechanics, 40000 for salespeople and 70000 for managers.\n",
    "\n"
   ]
  },
  {
   "cell_type": "code",
   "execution_count": 28,
   "metadata": {},
   "outputs": [
    {
     "ename": "NameError",
     "evalue": "name 'df1' is not defined",
     "output_type": "error",
     "traceback": [
      "\u001b[0;31m---------------------------------------------------------------------------\u001b[0m",
      "\u001b[0;31mNameError\u001b[0m                                 Traceback (most recent call last)",
      "\u001b[0;32m<ipython-input-28-ce2f4827e8e2>\u001b[0m in \u001b[0;36m<module>\u001b[0;34m()\u001b[0m\n\u001b[1;32m      6\u001b[0m \u001b[0;34m\u001b[0m\u001b[0m\n\u001b[1;32m      7\u001b[0m \u001b[0msalary\u001b[0m \u001b[0;34m=\u001b[0m \u001b[0mfunctions\u001b[0m\u001b[0;34m.\u001b[0m\u001b[0mudf\u001b[0m\u001b[0;34m(\u001b[0m\u001b[0massign_salary\u001b[0m\u001b[0;34m)\u001b[0m\u001b[0;34m\u001b[0m\u001b[0m\n\u001b[0;32m----> 8\u001b[0;31m \u001b[0mdf1\u001b[0m\u001b[0;34m.\u001b[0m\u001b[0mselect\u001b[0m\u001b[0;34m(\u001b[0m\u001b[0;34m'id'\u001b[0m\u001b[0;34m,\u001b[0m\u001b[0;34m'position'\u001b[0m\u001b[0;34m,\u001b[0m\u001b[0massign_salary\u001b[0m\u001b[0;34m(\u001b[0m\u001b[0;34m'position'\u001b[0m\u001b[0;34m)\u001b[0m\u001b[0;34m)\u001b[0m\u001b[0;34m.\u001b[0m\u001b[0mshow\u001b[0m\u001b[0;34m(\u001b[0m\u001b[0;34m)\u001b[0m\u001b[0;34m\u001b[0m\u001b[0m\n\u001b[0m",
      "\u001b[0;31mNameError\u001b[0m: name 'df1' is not defined"
     ]
    }
   ],
   "source": [
    "def assign_salary(position):\n",
    "    salaries={'manager':70000,'sales':40000,'mechanic':30000}\n",
    "    return salaries.get(position,'cuc')\n",
    "\n",
    "assign_salary('mana')\n",
    "\n",
    "salary = functions.udf(assign_salary)\n",
    "df1.select('id','position',assign_salary('position')).show()"
   ]
  },
  {
   "cell_type": "code",
   "execution_count": 32,
   "metadata": {},
   "outputs": [
    {
     "data": {
      "text/plain": [
       "<function __main__.assign_salary>"
      ]
     },
     "execution_count": 32,
     "metadata": {},
     "output_type": "execute_result"
    }
   ],
   "source": [
    "def assign_salary(position):\n",
    "    if role == 'manager':\n",
    "        return 70000\n",
    "    elif role == 'mechanic':\n",
    "        return 30000\n",
    "    else:\n",
    "        return 40000\n",
    "    \n",
    "salary = functions.udf(assign_salary)\n",
    "salary"
   ]
  },
  {
   "cell_type": "code",
   "execution_count": null,
   "metadata": {
    "collapsed": true
   },
   "outputs": [],
   "source": []
  },
  {
   "cell_type": "markdown",
   "metadata": {},
   "source": [
    "### Summary statistics\n",
    "\n",
    "https://databricks.com/blog/2015/06/02/statistical-and-mathematical-functions-with-dataframes-in-spark.html"
   ]
  },
  {
   "cell_type": "code",
   "execution_count": null,
   "metadata": {
    "collapsed": true
   },
   "outputs": [],
   "source": []
  },
  {
   "cell_type": "markdown",
   "metadata": {},
   "source": [
    "### .crosstab()"
   ]
  },
  {
   "cell_type": "code",
   "execution_count": null,
   "metadata": {
    "collapsed": true
   },
   "outputs": [],
   "source": []
  },
  {
   "cell_type": "markdown",
   "metadata": {},
   "source": [
    "### Grouping"
   ]
  },
  {
   "cell_type": "code",
   "execution_count": null,
   "metadata": {
    "collapsed": true
   },
   "outputs": [],
   "source": []
  },
  {
   "cell_type": "markdown",
   "metadata": {},
   "source": [
    "### Intersections\n",
    "\n",
    "Ver much like SQL joins."
   ]
  },
  {
   "cell_type": "code",
   "execution_count": 78,
   "metadata": {
    "collapsed": true
   },
   "outputs": [],
   "source": [
    "data = list(zip([10,11,12,10,12,20,11,23,40],\n",
    "           [5000,10000,2000,0,1000,500,3000,2000,2000],\n",
    "           [random.choice(['madrid','barcelona','sevilla']) for _ in range(9)]))\n",
    "\n",
    "data2 = list(zip([10,11,12,10,12],\n",
    "           [5000,10000,2000,0,1000],\n",
    "           [random.choice(['madrid','barcelona','sevilla']) for _ in range(5)]))\n",
    "\n"
   ]
  },
  {
   "cell_type": "code",
   "execution_count": 77,
   "metadata": {
    "collapsed": true
   },
   "outputs": [],
   "source": [
    "new_df = session.createDataFrame(data,schema=['id','salary','city'])\n",
    "new_df2 = session.createDataFrame(data2,schema=['id','bonus','position']).cache()"
   ]
  },
  {
   "cell_type": "code",
   "execution_count": 74,
   "metadata": {},
   "outputs": [
    {
     "name": "stdout",
     "output_type": "stream",
     "text": [
      "+---+-----+---------+\n",
      "| id|bonus| position|\n",
      "+---+-----+---------+\n",
      "| 10| 5000|barcelona|\n",
      "| 11|10000|   madrid|\n",
      "| 12| 2000|  sevilla|\n",
      "| 10|    0|barcelona|\n",
      "| 12| 1000|  sevilla|\n",
      "| 20|  500|  sevilla|\n",
      "| 11| 3000|barcelona|\n",
      "| 23| 2000|  sevilla|\n",
      "| 40| 2000|   madrid|\n",
      "+---+-----+---------+\n",
      "\n"
     ]
    }
   ],
   "source": [
    "new_df.show()"
   ]
  },
  {
   "cell_type": "code",
   "execution_count": 66,
   "metadata": {},
   "outputs": [
    {
     "ename": "AnalysisException",
     "evalue": "'Detected cartesian product for INNER join between logical plans\\nInMemoryRelation [id#277L, bonus#278L, position#279], true, 10000, StorageLevel(disk, memory, deserialized, 1 replicas)\\n   +- Scan ExistingRDD[id#277L,bonus#278L,position#279]\\nand\\nInMemoryRelation [id#299L, bonus#300L, position#301], true, 10000, StorageLevel(disk, memory, deserialized, 1 replicas)\\n   +- Scan ExistingRDD[id#299L,bonus#300L,position#301]\\nJoin condition is missing or trivial.\\nUse the CROSS JOIN syntax to allow cartesian products between these relations.;'",
     "output_type": "error",
     "traceback": [
      "\u001b[0;31m---------------------------------------------------------------------------\u001b[0m",
      "\u001b[0;31mPy4JJavaError\u001b[0m                             Traceback (most recent call last)",
      "\u001b[0;32m/usr/local/spark/python/pyspark/sql/utils.py\u001b[0m in \u001b[0;36mdeco\u001b[0;34m(*a, **kw)\u001b[0m\n\u001b[1;32m     62\u001b[0m         \u001b[0;32mtry\u001b[0m\u001b[0;34m:\u001b[0m\u001b[0;34m\u001b[0m\u001b[0m\n\u001b[0;32m---> 63\u001b[0;31m             \u001b[0;32mreturn\u001b[0m \u001b[0mf\u001b[0m\u001b[0;34m(\u001b[0m\u001b[0;34m*\u001b[0m\u001b[0ma\u001b[0m\u001b[0;34m,\u001b[0m \u001b[0;34m**\u001b[0m\u001b[0mkw\u001b[0m\u001b[0;34m)\u001b[0m\u001b[0;34m\u001b[0m\u001b[0m\n\u001b[0m\u001b[1;32m     64\u001b[0m         \u001b[0;32mexcept\u001b[0m \u001b[0mpy4j\u001b[0m\u001b[0;34m.\u001b[0m\u001b[0mprotocol\u001b[0m\u001b[0;34m.\u001b[0m\u001b[0mPy4JJavaError\u001b[0m \u001b[0;32mas\u001b[0m \u001b[0me\u001b[0m\u001b[0;34m:\u001b[0m\u001b[0;34m\u001b[0m\u001b[0m\n",
      "\u001b[0;32m/usr/local/spark/python/lib/py4j-0.10.4-src.zip/py4j/protocol.py\u001b[0m in \u001b[0;36mget_return_value\u001b[0;34m(answer, gateway_client, target_id, name)\u001b[0m\n\u001b[1;32m    318\u001b[0m                     \u001b[0;34m\"An error occurred while calling {0}{1}{2}.\\n\"\u001b[0m\u001b[0;34m.\u001b[0m\u001b[0;34m\u001b[0m\u001b[0m\n\u001b[0;32m--> 319\u001b[0;31m                     format(target_id, \".\", name), value)\n\u001b[0m\u001b[1;32m    320\u001b[0m             \u001b[0;32melse\u001b[0m\u001b[0;34m:\u001b[0m\u001b[0;34m\u001b[0m\u001b[0m\n",
      "\u001b[0;31mPy4JJavaError\u001b[0m: An error occurred while calling o367.showString.\n: org.apache.spark.sql.AnalysisException: Detected cartesian product for INNER join between logical plans\nInMemoryRelation [id#277L, bonus#278L, position#279], true, 10000, StorageLevel(disk, memory, deserialized, 1 replicas)\n   +- Scan ExistingRDD[id#277L,bonus#278L,position#279]\nand\nInMemoryRelation [id#299L, bonus#300L, position#301], true, 10000, StorageLevel(disk, memory, deserialized, 1 replicas)\n   +- Scan ExistingRDD[id#299L,bonus#300L,position#301]\nJoin condition is missing or trivial.\nUse the CROSS JOIN syntax to allow cartesian products between these relations.;\n\tat org.apache.spark.sql.catalyst.optimizer.CheckCartesianProducts$$anonfun$apply$20.applyOrElse(Optimizer.scala:1080)\n\tat org.apache.spark.sql.catalyst.optimizer.CheckCartesianProducts$$anonfun$apply$20.applyOrElse(Optimizer.scala:1077)\n\tat org.apache.spark.sql.catalyst.trees.TreeNode$$anonfun$2.apply(TreeNode.scala:267)\n\tat org.apache.spark.sql.catalyst.trees.TreeNode$$anonfun$2.apply(TreeNode.scala:267)\n\tat org.apache.spark.sql.catalyst.trees.CurrentOrigin$.withOrigin(TreeNode.scala:70)\n\tat org.apache.spark.sql.catalyst.trees.TreeNode.transformDown(TreeNode.scala:266)\n\tat org.apache.spark.sql.catalyst.trees.TreeNode$$anonfun$transformDown$1.apply(TreeNode.scala:272)\n\tat org.apache.spark.sql.catalyst.trees.TreeNode$$anonfun$transformDown$1.apply(TreeNode.scala:272)\n\tat org.apache.spark.sql.catalyst.trees.TreeNode$$anonfun$4.apply(TreeNode.scala:306)\n\tat org.apache.spark.sql.catalyst.trees.TreeNode.mapProductIterator(TreeNode.scala:187)\n\tat org.apache.spark.sql.catalyst.trees.TreeNode.mapChildren(TreeNode.scala:304)\n\tat org.apache.spark.sql.catalyst.trees.TreeNode.transformDown(TreeNode.scala:272)\n\tat org.apache.spark.sql.catalyst.trees.TreeNode$$anonfun$transformDown$1.apply(TreeNode.scala:272)\n\tat org.apache.spark.sql.catalyst.trees.TreeNode$$anonfun$transformDown$1.apply(TreeNode.scala:272)\n\tat org.apache.spark.sql.catalyst.trees.TreeNode$$anonfun$4.apply(TreeNode.scala:306)\n\tat org.apache.spark.sql.catalyst.trees.TreeNode.mapProductIterator(TreeNode.scala:187)\n\tat org.apache.spark.sql.catalyst.trees.TreeNode.mapChildren(TreeNode.scala:304)\n\tat org.apache.spark.sql.catalyst.trees.TreeNode.transformDown(TreeNode.scala:272)\n\tat org.apache.spark.sql.catalyst.trees.TreeNode.transform(TreeNode.scala:256)\n\tat org.apache.spark.sql.catalyst.optimizer.CheckCartesianProducts.apply(Optimizer.scala:1077)\n\tat org.apache.spark.sql.catalyst.optimizer.CheckCartesianProducts.apply(Optimizer.scala:1062)\n\tat org.apache.spark.sql.catalyst.rules.RuleExecutor$$anonfun$execute$1$$anonfun$apply$1.apply(RuleExecutor.scala:85)\n\tat org.apache.spark.sql.catalyst.rules.RuleExecutor$$anonfun$execute$1$$anonfun$apply$1.apply(RuleExecutor.scala:82)\n\tat scala.collection.IndexedSeqOptimized$class.foldl(IndexedSeqOptimized.scala:57)\n\tat scala.collection.IndexedSeqOptimized$class.foldLeft(IndexedSeqOptimized.scala:66)\n\tat scala.collection.mutable.WrappedArray.foldLeft(WrappedArray.scala:35)\n\tat org.apache.spark.sql.catalyst.rules.RuleExecutor$$anonfun$execute$1.apply(RuleExecutor.scala:82)\n\tat org.apache.spark.sql.catalyst.rules.RuleExecutor$$anonfun$execute$1.apply(RuleExecutor.scala:74)\n\tat scala.collection.immutable.List.foreach(List.scala:381)\n\tat org.apache.spark.sql.catalyst.rules.RuleExecutor.execute(RuleExecutor.scala:74)\n\tat org.apache.spark.sql.execution.QueryExecution.optimizedPlan$lzycompute(QueryExecution.scala:78)\n\tat org.apache.spark.sql.execution.QueryExecution.optimizedPlan(QueryExecution.scala:78)\n\tat org.apache.spark.sql.execution.QueryExecution.sparkPlan$lzycompute(QueryExecution.scala:84)\n\tat org.apache.spark.sql.execution.QueryExecution.sparkPlan(QueryExecution.scala:80)\n\tat org.apache.spark.sql.execution.QueryExecution.executedPlan$lzycompute(QueryExecution.scala:89)\n\tat org.apache.spark.sql.execution.QueryExecution.executedPlan(QueryExecution.scala:89)\n\tat org.apache.spark.sql.Dataset.withAction(Dataset.scala:2832)\n\tat org.apache.spark.sql.Dataset.head(Dataset.scala:2153)\n\tat org.apache.spark.sql.Dataset.take(Dataset.scala:2366)\n\tat org.apache.spark.sql.Dataset.showString(Dataset.scala:245)\n\tat sun.reflect.NativeMethodAccessorImpl.invoke0(Native Method)\n\tat sun.reflect.NativeMethodAccessorImpl.invoke(NativeMethodAccessorImpl.java:62)\n\tat sun.reflect.DelegatingMethodAccessorImpl.invoke(DelegatingMethodAccessorImpl.java:43)\n\tat java.lang.reflect.Method.invoke(Method.java:498)\n\tat py4j.reflection.MethodInvoker.invoke(MethodInvoker.java:244)\n\tat py4j.reflection.ReflectionEngine.invoke(ReflectionEngine.java:357)\n\tat py4j.Gateway.invoke(Gateway.java:280)\n\tat py4j.commands.AbstractCommand.invokeMethod(AbstractCommand.java:132)\n\tat py4j.commands.CallCommand.execute(CallCommand.java:79)\n\tat py4j.GatewayConnection.run(GatewayConnection.java:214)\n\tat java.lang.Thread.run(Thread.java:748)\n",
      "\nDuring handling of the above exception, another exception occurred:\n",
      "\u001b[0;31mAnalysisException\u001b[0m                         Traceback (most recent call last)",
      "\u001b[0;32m<ipython-input-66-5ef8581ba0b9>\u001b[0m in \u001b[0;36m<module>\u001b[0;34m()\u001b[0m\n\u001b[1;32m      1\u001b[0m \u001b[0mnew3\u001b[0m \u001b[0;34m=\u001b[0m \u001b[0mnew_df\u001b[0m\u001b[0;34m.\u001b[0m\u001b[0mjoin\u001b[0m\u001b[0;34m(\u001b[0m\u001b[0mnew_df2\u001b[0m\u001b[0;34m)\u001b[0m\u001b[0;34m\u001b[0m\u001b[0m\n\u001b[0;32m----> 2\u001b[0;31m \u001b[0mnew3\u001b[0m\u001b[0;34m.\u001b[0m\u001b[0mshow\u001b[0m\u001b[0;34m(\u001b[0m\u001b[0;34m)\u001b[0m\u001b[0;34m\u001b[0m\u001b[0m\n\u001b[0m",
      "\u001b[0;32m/usr/local/spark/python/pyspark/sql/dataframe.py\u001b[0m in \u001b[0;36mshow\u001b[0;34m(self, n, truncate)\u001b[0m\n\u001b[1;32m    334\u001b[0m         \"\"\"\n\u001b[1;32m    335\u001b[0m         \u001b[0;32mif\u001b[0m \u001b[0misinstance\u001b[0m\u001b[0;34m(\u001b[0m\u001b[0mtruncate\u001b[0m\u001b[0;34m,\u001b[0m \u001b[0mbool\u001b[0m\u001b[0;34m)\u001b[0m \u001b[0;32mand\u001b[0m \u001b[0mtruncate\u001b[0m\u001b[0;34m:\u001b[0m\u001b[0;34m\u001b[0m\u001b[0m\n\u001b[0;32m--> 336\u001b[0;31m             \u001b[0mprint\u001b[0m\u001b[0;34m(\u001b[0m\u001b[0mself\u001b[0m\u001b[0;34m.\u001b[0m\u001b[0m_jdf\u001b[0m\u001b[0;34m.\u001b[0m\u001b[0mshowString\u001b[0m\u001b[0;34m(\u001b[0m\u001b[0mn\u001b[0m\u001b[0;34m,\u001b[0m \u001b[0;36m20\u001b[0m\u001b[0;34m)\u001b[0m\u001b[0;34m)\u001b[0m\u001b[0;34m\u001b[0m\u001b[0m\n\u001b[0m\u001b[1;32m    337\u001b[0m         \u001b[0;32melse\u001b[0m\u001b[0;34m:\u001b[0m\u001b[0;34m\u001b[0m\u001b[0m\n\u001b[1;32m    338\u001b[0m             \u001b[0mprint\u001b[0m\u001b[0;34m(\u001b[0m\u001b[0mself\u001b[0m\u001b[0;34m.\u001b[0m\u001b[0m_jdf\u001b[0m\u001b[0;34m.\u001b[0m\u001b[0mshowString\u001b[0m\u001b[0;34m(\u001b[0m\u001b[0mn\u001b[0m\u001b[0;34m,\u001b[0m \u001b[0mint\u001b[0m\u001b[0;34m(\u001b[0m\u001b[0mtruncate\u001b[0m\u001b[0;34m)\u001b[0m\u001b[0;34m)\u001b[0m\u001b[0;34m)\u001b[0m\u001b[0;34m\u001b[0m\u001b[0m\n",
      "\u001b[0;32m/usr/local/spark/python/lib/py4j-0.10.4-src.zip/py4j/java_gateway.py\u001b[0m in \u001b[0;36m__call__\u001b[0;34m(self, *args)\u001b[0m\n\u001b[1;32m   1131\u001b[0m         \u001b[0manswer\u001b[0m \u001b[0;34m=\u001b[0m \u001b[0mself\u001b[0m\u001b[0;34m.\u001b[0m\u001b[0mgateway_client\u001b[0m\u001b[0;34m.\u001b[0m\u001b[0msend_command\u001b[0m\u001b[0;34m(\u001b[0m\u001b[0mcommand\u001b[0m\u001b[0;34m)\u001b[0m\u001b[0;34m\u001b[0m\u001b[0m\n\u001b[1;32m   1132\u001b[0m         return_value = get_return_value(\n\u001b[0;32m-> 1133\u001b[0;31m             answer, self.gateway_client, self.target_id, self.name)\n\u001b[0m\u001b[1;32m   1134\u001b[0m \u001b[0;34m\u001b[0m\u001b[0m\n\u001b[1;32m   1135\u001b[0m         \u001b[0;32mfor\u001b[0m \u001b[0mtemp_arg\u001b[0m \u001b[0;32min\u001b[0m \u001b[0mtemp_args\u001b[0m\u001b[0;34m:\u001b[0m\u001b[0;34m\u001b[0m\u001b[0m\n",
      "\u001b[0;32m/usr/local/spark/python/pyspark/sql/utils.py\u001b[0m in \u001b[0;36mdeco\u001b[0;34m(*a, **kw)\u001b[0m\n\u001b[1;32m     67\u001b[0m                                              e.java_exception.getStackTrace()))\n\u001b[1;32m     68\u001b[0m             \u001b[0;32mif\u001b[0m \u001b[0ms\u001b[0m\u001b[0;34m.\u001b[0m\u001b[0mstartswith\u001b[0m\u001b[0;34m(\u001b[0m\u001b[0;34m'org.apache.spark.sql.AnalysisException: '\u001b[0m\u001b[0;34m)\u001b[0m\u001b[0;34m:\u001b[0m\u001b[0;34m\u001b[0m\u001b[0m\n\u001b[0;32m---> 69\u001b[0;31m                 \u001b[0;32mraise\u001b[0m \u001b[0mAnalysisException\u001b[0m\u001b[0;34m(\u001b[0m\u001b[0ms\u001b[0m\u001b[0;34m.\u001b[0m\u001b[0msplit\u001b[0m\u001b[0;34m(\u001b[0m\u001b[0;34m': '\u001b[0m\u001b[0;34m,\u001b[0m \u001b[0;36m1\u001b[0m\u001b[0;34m)\u001b[0m\u001b[0;34m[\u001b[0m\u001b[0;36m1\u001b[0m\u001b[0;34m]\u001b[0m\u001b[0;34m,\u001b[0m \u001b[0mstackTrace\u001b[0m\u001b[0;34m)\u001b[0m\u001b[0;34m\u001b[0m\u001b[0m\n\u001b[0m\u001b[1;32m     70\u001b[0m             \u001b[0;32mif\u001b[0m \u001b[0ms\u001b[0m\u001b[0;34m.\u001b[0m\u001b[0mstartswith\u001b[0m\u001b[0;34m(\u001b[0m\u001b[0;34m'org.apache.spark.sql.catalyst.analysis'\u001b[0m\u001b[0;34m)\u001b[0m\u001b[0;34m:\u001b[0m\u001b[0;34m\u001b[0m\u001b[0m\n\u001b[1;32m     71\u001b[0m                 \u001b[0;32mraise\u001b[0m \u001b[0mAnalysisException\u001b[0m\u001b[0;34m(\u001b[0m\u001b[0ms\u001b[0m\u001b[0;34m.\u001b[0m\u001b[0msplit\u001b[0m\u001b[0;34m(\u001b[0m\u001b[0;34m': '\u001b[0m\u001b[0;34m,\u001b[0m \u001b[0;36m1\u001b[0m\u001b[0;34m)\u001b[0m\u001b[0;34m[\u001b[0m\u001b[0;36m1\u001b[0m\u001b[0;34m]\u001b[0m\u001b[0;34m,\u001b[0m \u001b[0mstackTrace\u001b[0m\u001b[0;34m)\u001b[0m\u001b[0;34m\u001b[0m\u001b[0m\n",
      "\u001b[0;31mAnalysisException\u001b[0m: 'Detected cartesian product for INNER join between logical plans\\nInMemoryRelation [id#277L, bonus#278L, position#279], true, 10000, StorageLevel(disk, memory, deserialized, 1 replicas)\\n   +- Scan ExistingRDD[id#277L,bonus#278L,position#279]\\nand\\nInMemoryRelation [id#299L, bonus#300L, position#301], true, 10000, StorageLevel(disk, memory, deserialized, 1 replicas)\\n   +- Scan ExistingRDD[id#299L,bonus#300L,position#301]\\nJoin condition is missing or trivial.\\nUse the CROSS JOIN syntax to allow cartesian products between these relations.;'"
     ]
    }
   ],
   "source": [
    "new3 = new_df.join(new_df2)\n",
    "new3.show()"
   ]
  },
  {
   "cell_type": "code",
   "execution_count": 42,
   "metadata": {},
   "outputs": [
    {
     "data": {
      "text/plain": [
       "'http://10.0.2.15:4040'"
      ]
     },
     "execution_count": 42,
     "metadata": {},
     "output_type": "execute_result"
    }
   ],
   "source": [
    "sc.uiWebUrl"
   ]
  },
  {
   "cell_type": "code",
   "execution_count": null,
   "metadata": {
    "collapsed": true
   },
   "outputs": [],
   "source": []
  },
  {
   "cell_type": "markdown",
   "metadata": {},
   "source": [
    "#### Exercise\n",
    "\n",
    "Calculate the [z-score](http://www.statisticshowto.com/probability-and-statistics/z-score/) of each employee's salary for their location"
   ]
  },
  {
   "cell_type": "code",
   "execution_count": 48,
   "metadata": {},
   "outputs": [
    {
     "ename": "AttributeError",
     "evalue": "'function' object has no attribute 'show'",
     "output_type": "error",
     "traceback": [
      "\u001b[0;31m---------------------------------------------------------------------------\u001b[0m",
      "\u001b[0;31mAttributeError\u001b[0m                            Traceback (most recent call last)",
      "\u001b[0;32m<ipython-input-48-b45a4490fa1d>\u001b[0m in \u001b[0;36m<module>\u001b[0;34m()\u001b[0m\n\u001b[0;32m----> 1\u001b[0;31m \u001b[0mnew_df2\u001b[0m\u001b[0;34m.\u001b[0m\u001b[0mshow\u001b[0m\u001b[0;34m(\u001b[0m\u001b[0;34m)\u001b[0m\u001b[0;34m\u001b[0m\u001b[0m\n\u001b[0m",
      "\u001b[0;31mAttributeError\u001b[0m: 'function' object has no attribute 'show'"
     ]
    }
   ],
   "source": [
    "new_df2.show()"
   ]
  },
  {
   "cell_type": "markdown",
   "metadata": {},
   "source": [
    "We can do each aggregation as in individual step, with a number of different syntaxes:"
   ]
  },
  {
   "cell_type": "code",
   "execution_count": null,
   "metadata": {
    "collapsed": true
   },
   "outputs": [],
   "source": []
  },
  {
   "cell_type": "markdown",
   "metadata": {},
   "source": [
    "Or we can use the built-in functions defined in [the `pyspark.sql` module](http://spark.apache.org/docs/2.2.0/api/python/pyspark.sql.html#module-pyspark.sql.functions)"
   ]
  },
  {
   "cell_type": "code",
   "execution_count": null,
   "metadata": {
    "collapsed": true
   },
   "outputs": [],
   "source": []
  },
  {
   "cell_type": "markdown",
   "metadata": {},
   "source": [
    "Once calculated, we annotate each employee with the values for their location and calculate their z-score"
   ]
  },
  {
   "cell_type": "code",
   "execution_count": null,
   "metadata": {
    "collapsed": true
   },
   "outputs": [],
   "source": []
  },
  {
   "cell_type": "markdown",
   "metadata": {},
   "source": [
    "Note that we can build more complex boolean conditions for joining, as well as joining on columns that do not have the same name:"
   ]
  },
  {
   "cell_type": "code",
   "execution_count": null,
   "metadata": {
    "collapsed": true
   },
   "outputs": [],
   "source": []
  },
  {
   "cell_type": "markdown",
   "metadata": {},
   "source": [
    "### Handling null values"
   ]
  },
  {
   "cell_type": "code",
   "execution_count": null,
   "metadata": {
    "collapsed": true
   },
   "outputs": [],
   "source": []
  },
  {
   "cell_type": "markdown",
   "metadata": {},
   "source": [
    "## SQL querying\n",
    "\n",
    "We need to register our DataFrame as a table in the SQL context in order to be able to query against it."
   ]
  },
  {
   "cell_type": "code",
   "execution_count": null,
   "metadata": {
    "collapsed": true
   },
   "outputs": [],
   "source": []
  },
  {
   "cell_type": "markdown",
   "metadata": {},
   "source": [
    "Once registered, we can perform queries as complex as we want."
   ]
  },
  {
   "cell_type": "code",
   "execution_count": null,
   "metadata": {
    "collapsed": true
   },
   "outputs": [],
   "source": []
  },
  {
   "cell_type": "markdown",
   "metadata": {},
   "source": [
    "#### Exercise:\n",
    "\n",
    "replicate the previous exercise, but with SparkSQL instead of dataframe methods."
   ]
  },
  {
   "cell_type": "code",
   "execution_count": 79,
   "metadata": {},
   "outputs": [
    {
     "name": "stdout",
     "output_type": "stream",
     "text": [
      "+---+------+---------+\n",
      "| id|salary|     city|\n",
      "+---+------+---------+\n",
      "| 10|  5000|barcelona|\n",
      "| 11| 10000|   madrid|\n",
      "| 12|  2000|  sevilla|\n",
      "| 10|     0|barcelona|\n",
      "| 12|  1000|  sevilla|\n",
      "| 20|   500|  sevilla|\n",
      "| 11|  3000|barcelona|\n",
      "| 23|  2000|  sevilla|\n",
      "| 40|  2000|   madrid|\n",
      "+---+------+---------+\n",
      "\n"
     ]
    }
   ],
   "source": [
    "new_df.show()"
   ]
  },
  {
   "cell_type": "code",
   "execution_count": 92,
   "metadata": {},
   "outputs": [
    {
     "name": "stdout",
     "output_type": "stream",
     "text": [
      "+---------+------------------+------------------+\n",
      "|     city|       avg(salary)|stddev_pop(salary)|\n",
      "+---------+------------------+------------------+\n",
      "|  sevilla|            1375.0|  649.519052838329|\n",
      "|   madrid|            6000.0|            4000.0|\n",
      "|barcelona|2666.6666666666665|2054.8046676563254|\n",
      "+---------+------------------+------------------+\n",
      "\n"
     ]
    }
   ],
   "source": [
    "df1 = new_df.groupby('city').agg(functions.mean('salary'),functions.stddev_pop('salary'))\n",
    "df1.show()"
   ]
  },
  {
   "cell_type": "code",
   "execution_count": 99,
   "metadata": {},
   "outputs": [
    {
     "name": "stdout",
     "output_type": "stream",
     "text": [
      "+---------+---+------+------------------+------------------+\n",
      "|     city| id|salary|       avg(salary)|stddev_pop(salary)|\n",
      "+---------+---+------+------------------+------------------+\n",
      "|  sevilla| 12|  2000|            1375.0|  649.519052838329|\n",
      "|  sevilla| 12|  1000|            1375.0|  649.519052838329|\n",
      "|  sevilla| 20|   500|            1375.0|  649.519052838329|\n",
      "|  sevilla| 23|  2000|            1375.0|  649.519052838329|\n",
      "|   madrid| 11| 10000|            6000.0|            4000.0|\n",
      "|   madrid| 40|  2000|            6000.0|            4000.0|\n",
      "|barcelona| 10|  5000|2666.6666666666665|2054.8046676563254|\n",
      "|barcelona| 10|     0|2666.6666666666665|2054.8046676563254|\n",
      "|barcelona| 11|  3000|2666.6666666666665|2054.8046676563254|\n",
      "+---------+---+------+------------------+------------------+\n",
      "\n"
     ]
    }
   ],
   "source": [
    "joineddf = new_df.join(df1, 'city' )\n",
    "joineddf.show()"
   ]
  },
  {
   "cell_type": "code",
   "execution_count": 105,
   "metadata": {},
   "outputs": [
    {
     "ename": "SyntaxError",
     "evalue": "invalid syntax (<ipython-input-105-67827e98e489>, line 1)",
     "output_type": "error",
     "traceback": [
      "\u001b[0;36m  File \u001b[0;32m\"<ipython-input-105-67827e98e489>\"\u001b[0;36m, line \u001b[0;32m1\u001b[0m\n\u001b[0;31m    result = joineddf.select('id','city','salary').joineddf ['salary'] - joineddf ['salary'] /\u001b[0m\n\u001b[0m                                                                                               ^\u001b[0m\n\u001b[0;31mSyntaxError\u001b[0m\u001b[0;31m:\u001b[0m invalid syntax\n"
     ]
    }
   ],
   "source": [
    "result = joineddf.select('id','city','salary').((joineddf ['salary'] - joineddf ['salary']) / \n",
    "                                              joineddf ['stddev_pop(salary)']).alias('z-score')\n",
    "result.show()"
   ]
  },
  {
   "cell_type": "code",
   "execution_count": null,
   "metadata": {
    "collapsed": true
   },
   "outputs": [],
   "source": []
  },
  {
   "cell_type": "code",
   "execution_count": null,
   "metadata": {
    "collapsed": true
   },
   "outputs": [],
   "source": []
  },
  {
   "cell_type": "markdown",
   "metadata": {},
   "source": [
    "## Interoperation with Pandas\n",
    "\n",
    "Easy peasy. We can convert a spark DataFrame into a Pandas one, which will `collect` it, and viceversa, which will distribute it."
   ]
  },
  {
   "cell_type": "code",
   "execution_count": null,
   "metadata": {
    "collapsed": true
   },
   "outputs": [],
   "source": []
  },
  {
   "cell_type": "markdown",
   "metadata": {},
   "source": [
    "## Writing out\n"
   ]
  },
  {
   "cell_type": "code",
   "execution_count": 12,
   "metadata": {
    "collapsed": true
   },
   "outputs": [],
   "source": [
    "raw_coupons = session.read.csv('../../../../../Data/coupon150720.csv')"
   ]
  },
  {
   "cell_type": "code",
   "execution_count": 35,
   "metadata": {},
   "outputs": [
    {
     "name": "stdout",
     "output_type": "stream",
     "text": [
      "+--------------+---+---+---+----+----+------+---+---+----+----+----+------+----+----+\n",
      "|           _c0|_c1|_c2|_c3| _c4| _c5|   _c6|_c7|_c8| _c9|_c10|_c11|  _c12|_c13|_c14|\n",
      "+--------------+---+---+---+----+----+------+---+---+----+----+----+------+----+----+\n",
      "|79062005698500|  1|MAA|AUH|  9W|  9W| 56.79|USD|  1|   H|   H|0526|150904|  OK|IAF0|\n",
      "|79062005698500|  2|AUH|CDG|  9W|  9W| 84.34|USD|  1|   H|   H|6120|150905|  OK|IAF0|\n",
      "|79062005924069|  1|CJB|MAA|  9W|  9W|  60.0|USD|  1|   H|   H|2768|150721|  OK|IAA0|\n",
      "|79065668570385|  1|DEL|DXB|  9W|  9W|160.63|USD|  2|   S|   S|0546|150804|  OK|INA0|\n",
      "|79065668737021|  1|AUH|IXE|  9W|  9W|152.46|USD|  1|   V|   V|0501|150803|  OK|INA0|\n",
      "|79062006192650|  1|RPR|BOM|  9W|  9W|  68.5|USD|  1|   K|   K|2202|150720|  OK|IAE0|\n",
      "|79062006192650|  2|BOM|RPR|  9W|  9W|  68.5|USD|  1|   H|   H|0377|150721|  OK|IAE0|\n",
      "|79062005733853|  1|DEL|DED|  9W|  9W| 56.16|USD|  1|   V|   V|2839|150801|  OK|INA0|\n",
      "|79062005836987|  1|ATL|LGA|  AA|  AA|  28.3|USD|  1|   V|   V|3237|150903|  OK|INB0|\n",
      "|79062005836987|  2|LGA|EWR|null|null|   0.0|USD|  1|null|null|VOID|  null|null|INA0|\n",
      "|79062005836987|  3|EWR|BOM|  9W|  9W|176.09|USD|  1|   W|   W|0227|150903|  OK|INB0|\n",
      "|79062005836987|  4|BOM|AMD|  9W|  9W| 12.02|USD|  1|   T|   T|2001|150905|  OK|INJ0|\n",
      "|79062005836987|  5|AMD|BOM|  9W|  9W| 12.02|USD|  2|   T|   T|7104|150921|  OK|INJ0|\n",
      "|79062005836987|  6|BOM|EWR|  9W|  9W|176.09|USD|  2|   W|   W|0228|150922|  OK|INB0|\n",
      "|79062005836987|  7|EWR|ATL|  UA|  UA|  28.3|USD|  2|   K|   K|0568|150922|  OK|INB0|\n",
      "|79062005862818|  1|LHR|BOM|  9W|  9W|101.65|USD|  1|   O|   O|0119|150820|  OK|INB0|\n",
      "|79062005862818|  2|BOM|HKG|  9W|  9W| 57.76|USD|  1|   T|   T|0076|150821|  OK|INB0|\n",
      "|79065668498895|  1|DXB|BOM|  9W|  9W| 54.44|USD|  1|   V|   V|0543|151105|  OK|INAQ|\n",
      "|79065668498895|  2|BOM|DXB|  9W|  9W|  73.5|USD|  2|   K|   K|0544|151114|  OK|INAQ|\n",
      "|79062005534346|  1|KTM|DEL|  9W|  9W| 24.92|USD|  1|   W|   W|0259|150722|  OK|INAQ|\n",
      "|79062005534346|  2|DEL|KTM|  9W|  9W| 24.92|USD|  2|   W|   W|0260|150729|  OK|INAQ|\n",
      "|79062005563920|  1|KTM|DEL|  9W|  9W| 32.44|USD|  1|   V|   V|0263|150720|  OK|INA0|\n",
      "|79065668577637|  1|DXB|BOM|  9W|  9W|145.65|USD|  1|   Q|   Q|0537|150820|  OK|INAQ|\n",
      "|79065668577637|  2|BOM|DXB|  9W|  9W|145.65|USD|  2|   Q|   Q|0538|150829|  OK|INAQ|\n",
      "|79065668699963|  1|DXB|BOM|  9W|  9W| 83.03|USD|  1|   S|   S|0535|150726|  OK|INA0|\n",
      "|79065668699963|  2|BOM|KUL|  MH|  9W|132.92|USD|  2|   H|   H|4211|150726|  OK|INA0|\n",
      "|79065668699963|  3|KUL|BOM|  MH|  9W|117.28|USD|  3|   V|   V|4210|150809|  OK|INA0|\n",
      "|79065668699963|  4|BOM|DXB|  9W|  9W| 40.83|USD|  4|   V|   V|0580|150810|  OK|INA0|\n",
      "|79065668463100|  1|COK|DXB|  9W|  9W| 84.16|USD|  1|   V|   V|0528|150727|  OK|INA0|\n",
      "|79065668514750|  1|TRV|AUH|  EY|  9W|  63.7|USD|  1|   O|   O|6627|150917|  OK|INA0|\n",
      "|79065668523139|  1|KTM|BOM|  9W|  9W| 60.32|USD|  1|   O|   O|0265|150819|  OK|INAQ|\n",
      "|79065668534777|  1|DXB|BOM|  9W|  9W|383.88|USD|  1|   N|   N|0579|150815|  OK|INA0|\n",
      "|79065668481746|  1|DXB|BOM|  9W|  9W|107.24|USD|  1|   H|   H|0541|150721|  OK|INJ0|\n",
      "|79065668481746|  2|BOM|CMB|  9W|  9W| 75.14|USD|  1|   T|   T|0252|150721|  OK|INJ0|\n",
      "|79065668588534|  1|DXB|BOM|  9W|  9W| 59.89|USD|  1|   K|   K|0579|150916|  OK|INA0|\n",
      "|79065668588534|  2|BOM|DXB|  9W|  9W| 65.33|USD|  2|   H|   H|0544|151031|  OK|INAQ|\n",
      "|79065668779870|  1|DXB|DEL|  9W|  9W| 27.22|USD|  1|   W|   W|0547|150807|  OK|INAQ|\n",
      "|79065668779870|  2|DEL|IDR|  9W|  9W| 62.55|USD|  2|   H|   H|2337|150808|  OK|INA0|\n",
      "|79065668802947|  1|AUH|DEL|  9W|  9W|174.24|USD|  1|   V|   V|0581|150721|  OK|INA0|\n",
      "|79065668802947|  2|DEL|HYD|  9W|  9W| 84.44|USD|  2|   H|   H|2627|150722|  OK|INA0|\n",
      "|79062006158682|  1|UDR|BOM|  9W|  9W| 130.0|USD|  1|   L|   L|7026|151027|  OK|IAA0|\n",
      "|79062005519973|  1|KTM|DEL|  9W|  9W| 31.06|USD|  1|   K|   K|0259|150719|  OK|INA0|\n",
      "|79062005519973|  2|DEL|KTM|  9W|  9W| 24.92|USD|  2|   W|   W|0260|150722|  OK|INAQ|\n",
      "|79065668652098|  1|SHJ|COK|  9W|  9W|313.09|USD|  1|   L|   L|0561|150719|  OK|INA0|\n",
      "|79065668652098|  2|COK|SHJ|  9W|  9W|148.37|USD|  2|   V|   V|0562|150726|  OK|INA0|\n",
      "|79065668653108|  1|DXB|DEL|  9W|  9W| 89.55|USD|  1|   O|   O|0547|150923|  OK|INJ0|\n",
      "|79065668653108|  2|DEL|LKO|  9W|  9W| 22.05|USD|  1|   T|   T|2453|150924|  OK|INJ0|\n",
      "|79065668749873|  1|LKO|AUH|  9W|  9W| 93.42|USD|  1|   W|   W|0512|150724|  OK|INAQ|\n",
      "|79062005403464|  1|GOI|BOM|  9W|  9W|  39.0|USD|  1|   V|   V|0627|151123|  OK|IAA0|\n",
      "|79065668462403|  1|YYZ|BRU|  9W|  9W| 88.98|USD|  1|   H|   H|0229|150907|  OK|IAF0|\n",
      "|79065668462403|  2|BRU|ZAG|  OU|  OU| 22.34|USD|  1|   W|   W|0457|150908|  OK|IAN0|\n",
      "|79065668462403|  3|ZAG|BRU|  OU|  OU| 22.34|USD|  1|   W|   W|0456|151006|  OK|IAN0|\n",
      "|79065668462403|  4|BRU|YYZ|  9W|  9W| 88.98|USD|  1|   O|   O|0230|151006|  OK|IAF0|\n",
      "|79065668462908|  1|DXB|DEL|  9W|  9W| 44.92|USD|  1|   H|   H|0547|151003|  OK|INA0|\n",
      "|79065668462908|  2|DEL|KTM|  9W|  9W| 55.12|USD|  2|   H|   H|0264|151004|  OK|INAQ|\n",
      "|79065668462908|  3|KTM|DEL|  9W|  9W| 42.61|USD|  3|   H|   H|0259|151203|  OK|INA0|\n",
      "|79065668462908|  4|DEL|DXB|  9W|  9W| 35.39|USD|  4|   V|   V|0548|151203|  OK|INA0|\n",
      "|79065668465916|  1|BLR|IXE|  9W|  9W| 49.08|USD|  1|   V|   V|2755|150811|  OK|INA0|\n",
      "|79065668721431|  1|DXB|DEL|  9W|  9W| 40.83|USD|  1|   O|   O|0545|151120|  OK|INAQ|\n",
      "|79065668721431|  2|DEL|DXB|  9W|  9W| 58.53|USD|  2|   H|   H|0548|151128|  OK|INAQ|\n",
      "|79062005305018|  1|MAA|BOM|  9W|  9W|  48.5|USD|  1|   O|   O|0460|150821|  OK|IAE0|\n",
      "|79062005305018|  2|BOM|MAA|  9W|  9W|  48.5|USD|  1|   W|   W|0469|150824|  OK|IAE0|\n",
      "|79062005348349|  1|MAA|BOM|  9W|  9W|  56.0|USD|  1|   V|   V|0466|150808|  OK|IAE0|\n",
      "|79062005348349|  2|BOM|MAA|  9W|  9W|  56.0|USD|  1|   W|   W|0481|150810|  OK|IAE0|\n",
      "|79062005790140|  1|CDG|BOM|  9W|  9W|238.83|USD|  1|   K|   K|0125|150807|  OK|IAF0|\n",
      "|79062005790140|  2|BOM|BLR|  9W|  9W|  41.4|USD|  1|   Y|   Y|0381|150808|  OK|IAN0|\n",
      "|79062005790140|  3|BLR|BOM|  9W|  9W|  41.4|USD|  1|   T|   T|0478|150825|  OK|IAN0|\n",
      "|79062005790140|  4|BOM|CDG|  9W|  9W|238.83|USD|  1|   L|   L|0124|150825|  OK|IAF0|\n",
      "|79065668485324|  1|DXB|DEL|  9W|  9W| 27.22|USD|  1|   O|   O|0547|150926|  OK|INA0|\n",
      "|79065668562607|  1|DEL|BOM|  9W|  9W| 62.45|USD|  1|   W|   W|0308|150812|  OK|INA0|\n",
      "|79065668658624|  1|DXB|BOM|  9W|  9W|  24.5|USD|  1|   W|   W|0543|150808|  OK|INA0|\n",
      "|79065668760260|  1|AUH|DEL|  9W|  9W|  73.5|USD|  1|   W|   W|0581|150728|  OK|INA0|\n",
      "|79062006186866|  1|DEL|BKK|  9W|  9W| 97.45|USD|  1|   H|   H|0064|151208|  OK|INA0|\n",
      "|79062006107411|  1|AMD|BOM|  9W|  9W|  24.4|USD|  1|   K|   K|0338|150730|  OK|INJ0|\n",
      "|79062006107411|  2|BOM|SIN|  9W|  9W|122.19|USD|  1|   V|   V|0010|150730|  OK|INB0|\n",
      "|79062006120180|  1|HYD|BLR|  9W|  9W|  75.5|USD|  1|   K|   K|2802|150728|  OK|IAE0|\n",
      "|79062006120180|  2|BLR|HYD|  9W|  9W|  75.5|USD|  1|   K|   K|2741|150731|  OK|IAE0|\n",
      "|79062005658478|  1|KTM|DEL|  9W|  9W| 32.44|USD|  1|   V|   V|0263|150720|  OK|INA0|\n",
      "|79062005331455|  1|BOM|DEL|  9W|  9W| 294.0|USD|  1|   P|   P|0353|160411|  OK|IAA0|\n",
      "|79065668512355|  1|BOM|BHO|  9W|  9W| 72.36|USD|  1|   H|   H|2625|150814|  OK|INA0|\n",
      "|79065668582903|  1|SHJ|COK|  9W|  9W| 65.34|USD|  1|   V|   V|0561|150823|  OK|INA0|\n",
      "|79065668582903|  2|COK|SHJ|  9W|  9W|238.22|USD|  2|   Q|   Q|0562|150908|  OK|INA0|\n",
      "|79062005974573|  1|CDG|BOM|  9W|  9W|1057.6|USD|  1|   Y|   Y|0123|150823|  OK|INB0|\n",
      "|79062005974573|  2|BOM|DAC|  9W|  9W|334.86|USD|  1|   Y|   Y|0276|150824|  OK|INJ0|\n",
      "|79062005974573|  3|DAC|CCU|  9W|  9W|  71.7|USD|  1|   Y|   Y|0273|150828|  OK|INJ0|\n",
      "|79062005974573|  4|CCU|BOM|  9W|  9W|118.09|USD|  2|   T|   T|0628|150828|  OK|INJ0|\n",
      "|79062005974573|  5|BOM|CDG|  9W|  9W|408.59|USD|  2|   U|   U|0126|150829|  OK|INB0|\n",
      "|79062006060658|  1|GOI|BOM|  9W|  9W| 34.39|USD|  1|   V|   V|0627|150728|  OK|IAJ0|\n",
      "|79062006060658|  2|BOM|CJB|  9W|  9W|  66.6|USD|  1|   V|   V|2645|150728|  OK|IAB0|\n",
      "|79062006149937|  1|BOM|GOI|  9W|  9W|  28.0|USD|  1|   W|   W|0479|151007|  OK|IAA0|\n",
      "|79062005410298|  1|CMB|BOM|  9W|  9W|118.89|USD|  1|   W|   W|0251|150719|  OK|INAQ|\n",
      "|79062005410298|  2|BOM|CMB|  9W|  9W| 98.89|USD|  2|   W|   W|0256|150723|  OK|INA0|\n",
      "|79065668535124|  1|BOM|DXB|  9W|  9W|106.18|USD|  1|   H|   H|0580|150721|  OK|INA0|\n",
      "|79065668796523|  1|DXB|BOM|  9W|  9W| 60.07|USD|  1|   K|   K|0543|150728|  OK|INJ0|\n",
      "|79065668796523|  2|BOM|TRV|  9W|  9W| 36.55|USD|  1|   T|   T|0388|150729|  OK|INJ0|\n",
      "|79065668796523|  3|TRV|BOM|  9W|  9W| 46.85|USD|  2|   T|   T|0389|150811|  OK|INJ0|\n",
      "|79065668796523|  4|BOM|DXB|  9W|  9W| 77.01|USD|  2|   S|   S|0544|150811|  OK|INJ0|\n",
      "|79065668457575|  1|TRZ|MAA|  9W|  9W| 66.07|USD|  1|   H|   H|2790|150721|  OK|INA0|\n",
      "|79065668473823|  1|DXB|DEL|  9W|  9W| 62.61|USD|  1|   H|   H|0547|151012|  OK|INA0|\n",
      "|79065668473823|  2|DEL|KTM|  9W|  9W| 55.43|USD|  2|   H|   H|0264|151013|  OK|INA0|\n",
      "|79062005483551|  1|KTM|DEL|  9W|  9W| 32.44|USD|  1|   V|   V|0259|150719|  OK|INA0|\n",
      "|79062005542388|  1|DAC|DEL|  9W|  9W|262.06|USD|  1|   T|   T|0271|150720|  OK|INJ0|\n",
      "|79062005542388|  2|DEL|KTM|  9W|  9W|172.93|USD|  1|   T|   T|0260|150720|  OK|INJ0|\n",
      "|79062005542388|  3|KTM|DEL|  9W|  9W| 11.92|USD|  2|   O|   O|0263|150724|  OK|INJ0|\n",
      "|79062005542388|  4|DEL|DAC|  9W|  9W| 18.07|USD|  2|   O|   O|0272|150724|  OK|INJ0|\n",
      "|79065668687888|  1|DXB|BOM|  9W|  9W|111.62|USD|  1|   V|   V|0579|150722|  OK|INA0|\n",
      "|79065668687888|  2|BOM|GOI|  9W|  9W| 46.13|USD|  2|   H|   H|0626|150722|  OK|INA0|\n",
      "|79065668761721|  1|YYZ|DEL|  9W|  9W| 493.3|USD|  1|   Q|   Q|0229|150820|  OK|IAE0|\n",
      "|79065668761721|  2|DEL|YYZ|  9W|  9W| 493.3|USD|  1|   L|   L|0230|150906|  OK|IAE0|\n",
      "|79065668789389|  1|DXB|BOM|  9W|  9W|106.17|USD|  1|   V|   V|0541|150723|  OK|INAQ|\n",
      "|79065668789389|  2|BOM|DXB|  9W|  9W|228.69|USD|  2|   Q|   Q|0538|150824|  OK|INA0|\n",
      "|79065668500569|  1|COK|AUH|  9W|  9W|191.94|USD|  1|   H|   H|0576|150724|  OK|IAE0|\n",
      "|79065668509532|  1|BOM|HYD|  9W|  9W|103.83|USD|  1|   S|   S|7017|150727|  OK|INA0|\n",
      "|79065668884987|  1|BOM|CMB|  9W|  9W| 97.42|USD|  1|   W|   W|0256|151216|  OK|INJ0|\n",
      "|79065668884987|  2|CMB|MLE|  UL|  UL| 59.25|USD|  1|   N|   N|0101|151216|  OK|INJ0|\n",
      "|79065668559922|  1|DXB|BOM|  9W|  9W| 92.56|USD|  1|   V|   V|0543|150722|  OK|INA0|\n",
      "|79065668559922|  2|BOM|DXB|  9W|  9W|153.82|USD|  2|   K|   K|0544|150727|  OK|INA0|\n",
      "|79065668790698|  1|AUH|LKO|  9W|  9W| 157.9|USD|  1|   W|   W|0511|150923|  OK|INA0|\n",
      "|79062006018926|  1|MAA|SIN|  9W|  9W| 31.46|USD|  1|   W|   W|0016|150806|  OK|INA0|\n",
      "|79062006086118|  1|IXC|DEL|  9W|  9W|  35.0|USD|  1|   O|   O|2235|150818|  OK|IAA0|\n",
      "|79062006091967|  1|BOM|BLR|  9W|  9W|  55.0|USD|  1|   O|   O|2056|150825|  OK|IAA0|\n",
      "|79062005397115|  1|BOM|GOI|  9W|  9W|  26.5|USD|  1|   W|   W|0446|150913|  OK|IAE0|\n",
      "|79062005397115|  2|GOI|BOM|  9W|  9W|  26.5|USD|  1|   W|   W|0427|150929|  OK|IAE0|\n",
      "|79062005397116|  1|BOM|GOI|  9W|  9W|  26.5|USD|  1|   W|   W|0446|150913|  OK|IAE0|\n",
      "|79062005397116|  2|GOI|BOM|  9W|  9W|  26.5|USD|  1|   W|   W|0427|150929|  OK|IAE0|\n",
      "|79062005397119|  1|BOM|GOI|  9W|  9W|  26.5|USD|  1|   W|   W|0446|150913|  OK|IAE0|\n",
      "|79062005397119|  2|GOI|BOM|  9W|  9W|  26.5|USD|  1|   W|   W|0427|150929|  OK|IAE0|\n",
      "|79065668464592|  1|COK|SHJ|  9W|  9W| 92.63|USD|  1|   H|   H|0562|150725|  OK|INAQ|\n",
      "|79065668472942|  1|BKK|BOM|  9W|  9W|100.19|USD|  1|   S|   S|0067|150804|  OK|INA0|\n",
      "|79065668472942|  2|BOM|AUH|  9W|  9W|103.35|USD|  2|   K|   K|0586|150805|  OK|INB0|\n",
      "|79065668472942|  3|AUH|MAN|  EY|  9W|243.64|USD|  2|   K|   K|6388|150805|  OK|INBQ|\n",
      "|79065668743478|  1|AUH|LKO|  9W|  9W| 157.9|USD|  1|   W|   W|0511|150722|  OK|INA0|\n",
      "|79062006019440|  1|BOM|AMD|  9W|  9W|  27.0|USD|  1|   W|   W|0375|150728|  OK|IAA0|\n",
      "|79065668503406|  1|GVA|CDG|  AF|  9W| 15.28|USD|  1|   O|   O|6874|151003|  OK|INB0|\n",
      "|79065668503406|  2|CDG|BOM|  9W|  9W|137.86|USD|  1|   O|   O|0123|151003|  OK|INB0|\n",
      "|79065668503406|  3|BOM|CDG|  9W|  9W| 86.58|USD|  2|   B|   B|0124|151108|  OK|INB0|\n",
      "|79065668503406|  4|CDG|GVA|  AF|  9W|  9.59|USD|  2|   B|   B|6857|151108|  OK|INB0|\n",
      "|79065668605504|  1|DXB|BOM|  9W|  9W| 83.03|USD|  1|   S|   S|0535|150806|  OK|INA0|\n",
      "|79065668605504|  2|BOM|DXB|  9W|  9W| 83.03|USD|  2|   S|   S|0538|150816|  OK|INA0|\n",
      "|79065668788764|  1|DXB|BOM|  9W|  9W|  2.45|USD|  1|   W|   W|0579|150809|  NS|INA0|\n",
      "|79062006073163|  1|MCT|TRV|  9W|  9W| 80.62|USD|  1|   H|   H|0529|150815|  OK|INA0|\n",
      "|79062006073163|  2|TRV|MCT|  9W|  9W|117.04|USD|  2|   S|   S|0530|150822|  OK|INA0|\n",
      "|79065668666200|  1|DXB|DEL|  9W|  9W| 40.83|USD|  1|   O|   O|0547|150925|  OK|INAQ|\n",
      "|79065668666200|  2|DEL|KTM|  9W|  9W| 55.12|USD|  2|   H|   H|0264|150926|  OK|INAQ|\n",
      "|79065668666200|  3|KTM|DEL|  9W|  9W| 42.61|USD|  3|   H|   H|0259|151123|  OK|INA0|\n",
      "|79065668666200|  4|DEL|DXB|  9W|  9W| 35.39|USD|  4|   V|   V|0548|151123|  OK|INA0|\n",
      "|79065668718208|  1|DXB|BOM|  9W|  9W| 65.33|USD|  1|   H|   H|0543|151126|  OK|INAQ|\n",
      "|79065668718208|  2|BOM|DXB|  9W|  9W| 83.03|USD|  2|   S|   S|0536|151227|  OK|INA0|\n",
      "|79065668767505|  1|AUH|BOM|  9W|  9W|  98.0|USD|  1|   W|   W|0583|150806|  OK|INAQ|\n",
      "|79065668767505|  2|BOM|BDQ|  9W|  9W| 35.96|USD|  2|   H|   H|0341|150807|  OK|INA0|\n",
      "|79065668601567|  1|YQR|YYZ|  AC|  AC| 70.63|USD|  1|   L|   L|1114|150820|  OK|IAN0|\n",
      "|79065668601567|  2|YYZ|DEL|  9W|  9W|269.53|USD|  1|   V|   V|0229|150820|  OK|IAF0|\n",
      "|79065668601567|  3|DEL|AMD|  9W|  9W| 30.59|USD|  1|   T|   T|0688|150822|  OK|IAN0|\n",
      "|79065668601567|  4|AMD|DEL|  9W|  9W| 30.59|USD|  1|   T|   T|0689|160331|  OK|IAN0|\n",
      "|79065668601567|  5|DEL|YYZ|  9W|  9W|269.53|USD|  1|   V|   V|0230|160401|  OK|IAF0|\n",
      "|79065668601567|  6|YYZ|YQR|  WS|  WS| 70.63|USD|  1|   D|   D|0605|160401|  OK|IAF0|\n",
      "|79065668674214|  1|BOM|IXE|  9W|  9W|179.49|USD|  1|   J|   J|0433|150720|  OK|INA0|\n",
      "|79065668737499|  1|DXB|BOM|  9W|  9W|147.01|USD|  1|   H|   H|0579|150720|  OK|INA0|\n",
      "|79065668460805|  1|AUH|CCJ|  EY|  9W|201.47|USD|  1|   K|   K|6622|150728|  OK|IAA0|\n",
      "|79062005443274|  1|DXB|DEL|  9W|  9W|115.63|USD|  1|   H|   H|0547|150719|  OK|INJ0|\n",
      "|79062005443274|  2|DEL|HKG|  9W|  9W|142.99|USD|  1|   H|   H|0078|150721|  OK|INB0|\n",
      "|79065668498656|  1|HKG|BOM|  9W|  9W|179.22|USD|  1|   V|   V|0075|150720|  OK|INBQ|\n",
      "|79065668498656|  2|BOM|DXB|  9W|  9W|115.54|USD|  1|   T|   T|0580|150721|  OK|INJ0|\n",
      "|79065668522212|  1|DXB|BOM|  9W|  9W| 51.72|USD|  1|   H|   H|0543|151003|  OK|INA0|\n",
      "|79065668522212|  2|BOM|DEL|null|null|   0.0|USD|  1|null|null|VOID|  null|null|INA0|\n",
      "|79065668522212|  3|DEL|DXB|  9W|  9W| 35.39|USD|  2|   V|   V|0548|151019|  OK|INA0|\n",
      "|79062005382873|  1|BOM|BLR|  9W|  9W|  65.0|USD|  1|   V|   V|0381|150721|  OK|IAA0|\n",
      "|79065668463074|  1|DXB|DEL|  9W|  9W| 27.22|USD|  1|   O|   O|0545|151104|  OK|INA0|\n",
      "|79065668463074|  2|DEL|KTM|  9W|  9W| 42.61|USD|  2|   H|   H|0264|151104|  OK|INA0|\n",
      "|79065668463074|  3|KTM|DEL|  9W|  9W| 55.12|USD|  3|   H|   H|0259|151206|  OK|INAQ|\n",
      "|79065668463074|  4|DEL|DXB|  9W|  9W| 35.39|USD|  4|   V|   V|0548|151206|  OK|INA0|\n",
      "|79062005428495|  1|KTM|DEL|  9W|  9W| 21.63|USD|  1|   W|   W|0259|150721|  OK|INA0|\n",
      "|79065668493054|  1|MAA|AUH|  9W|  9W|137.64|USD|  1|   H|   H|0526|150720|  OK|INA0|\n",
      "|79062005477805|  1|BLR|COK|  9W|  9W|  23.5|USD|  1|   W|   W|2655|150722|  OK|IAE0|\n",
      "|79062005477805|  2|COK|BLR|  9W|  9W|  23.5|USD|  1|   O|   O|2656|150725|  OK|IAE0|\n",
      "|79065668568508|  1|DXB|COK|  9W|  9W| 217.8|USD|  1|   H|   H|0527|150725|  OK|INA0|\n",
      "|79065668568508|  2|COK|BOM|  9W|  9W|110.25|USD|  2|   H|   H|0408|150903|  OK|INA0|\n",
      "|79065668568508|  3|BOM|DXB|  9W|  9W| 87.12|USD|  3|   K|   K|0538|150903|  OK|INA0|\n",
      "|79065668591073|  1|DXB|IXE|  9W|  9W|112.98|USD|  1|   H|   H|0531|150813|  OK|INAQ|\n",
      "|79065668591073|  2|IXE|BOM|  9W|  9W| 78.19|USD|  2|   H|   H|0436|150822|  OK|INA0|\n",
      "|79065668591073|  3|BOM|DXB|  9W|  9W|227.33|USD|  3|   L|   L|0544|150822|  OK|INAQ|\n",
      "|79065668647348|  1|DXB|DEL|  9W|  9W| 40.83|USD|  1|   O|   O|0547|151023|  OK|INAQ|\n",
      "|79065668647348|  2|DEL|IXB|  9W|  9W| 114.0|USD|  2|   K|   K|0711|151024|  OK|INA0|\n",
      "|79065668647348|  3|IXB|DEL|  9W|  9W| 114.0|USD|  3|   K|   K|0712|151031|  OK|INA0|\n",
      "|79065668647348|  4|DEL|DXB|  9W|  9W| 58.53|USD|  4|   H|   H|0548|151031|  OK|INAQ|\n",
      "|79065668667040|  1|DXB|BOM|  9W|  9W|111.62|USD|  1|   V|   V|0537|150722|  OK|INA0|\n",
      "|79065668667040|  2|BOM|AMD|  9W|  9W| 53.17|USD|  2|   H|   H|2001|150723|  OK|INA0|\n",
      "|79065668533618|  1|AUH|LKO|  9W|  9W|153.82|USD|  1|   O|   O|0511|150918|  OK|INAQ|\n",
      "|79065668533618|  2|LKO|AUH|  9W|  9W|178.32|USD|  2|   H|   H|0512|151010|  OK|INAQ|\n",
      "|79065668448969|  1|BKK|DEL|  9W|  9W|143.77|USD|  1|   L|   L|0063|150719|  OK|INA0|\n",
      "|79065668458324|  1|DEL|DXB|  9W|  9W| 133.4|USD|  2|   K|   K|0548|150727|  OK|INA0|\n",
      "|79065668477437|  1|AUH|LKO|  9W|  9W| 157.9|USD|  1|   W|   W|0511|150902|  OK|INA0|\n",
      "|79065668563947|  1|BDQ|BOM|  9W|  9W| 90.45|USD|  1|   K|   K|0346|150724|  OK|INA0|\n",
      "|79062005691775|  1|BOM|BKK|  9W|  9W| 43.25|USD|  1|   W|   W|0070|150729|  OK|INA0|\n",
      "|79062005691775|  2|BKK|BOM|  9W|  9W| 43.25|USD|  2|   W|   W|0061|150825|  OK|INA0|\n",
      "|79065668718959|  1|AUH|DEL|  9W|  9W|174.24|USD|  1|   V|   V|0581|150722|  OK|INA0|\n",
      "|79062005874124|  1|HYD|BOM|  9W|  9W|  59.1|USD|  1|   T|   T|0456|150831|  OK|INJQ|\n",
      "|79062005874124|  2|BOM|EWR|  9W|  9W|495.94|USD|  1|   L|   L|0228|150901|  OK|INB0|\n",
      "|79065668794786|  1|BOM|PNQ|  9W|  9W|381.02|USD|  1|   J|   J|0618|150720|  OK|INA0|\n",
      "|79065668682281|  1|DMM|CCJ|  9W|  9W|435.44|USD|  1|   L|   L|0577|150720|  OK|INA0|\n",
      "|79065668702907|  1|DMM|COK|  9W|  9W|190.92|USD|  1|   K|   K|0569|150727|  OK|INA0|\n",
      "|79065668723645|  1|DMM|DEL|  9W|  9W|188.77|USD|  1|   S|   S|0567|150721|  OK|INJ0|\n",
      "|79065668723645|  2|DEL|GAU|  9W|  9W| 99.72|USD|  1|   T|   T|0721|150722|  OK|INJ0|\n",
      "|79065668723645|  3|GAU|DEL|  9W|  9W|151.98|USD|  2|   T|   T|7080|150823|  OK|INJ0|\n",
      "|79065668723645|  4|DEL|DMM|  9W|  9W|287.69|USD|  2|   U|   U|0568|150823|  OK|INJ0|\n",
      "|79065668828741|  1|DMM|TRV|  9W|  9W|121.32|USD|  1|   V|   V|0565|150803|  OK|INA0|\n",
      "|79065668828741|  2|TRV|DMM|  9W|  9W| 96.66|USD|  2|   O|   O|0566|151007|  OK|INA0|\n",
      "|79065668468485|  1|TRV|DMM|  9W|  9W|511.59|USD|  1|   J|   J|0566|150725|  OK|INAQ|\n",
      "|79065668468485|  2|DMM|TRV|  9W|  9W|310.22|USD|  2|   I|   I|0565|150805|  OK|INA0|\n",
      "|79065668504883|  1|JED|BOM|  9W|  9W| 97.42|USD|  1|   O|   O|0521|150823|  OK|INBQ|\n",
      "|79065668504883|  2|BOM|KTM|  9W|  9W| 40.96|USD|  1|   O|   O|0266|150824|  OK|INJ0|\n",
      "|79065668511957|  1|JED|BOM|  9W|  9W|165.73|USD|  1|   S|   S|0521|150727|  OK|INA0|\n",
      "|79065668511957|  2|BOM|CCJ|  9W|  9W|130.26|USD|  2|   H|   H|0423|150728|  OK|INAQ|\n",
      "|79065668517163|  1|DMM|TRV|  9W|  9W|204.59|USD|  1|   Q|   Q|0565|150720|  OK|INA0|\n",
      "|79065668517163|  2|TRV|DMM|  9W|  9W|  68.2|USD|  2|   W|   W|0566|151021|  OK|INA0|\n",
      "|79065668530337|  1|DMM|COK|  9W|  9W| 92.96|USD|  1|   V|   V|0569|150804|  OK|INA0|\n",
      "|79065668530337|  2|COK|DMM|  9W|  9W|136.35|USD|  2|   K|   K|0570|150901|  OK|INA0|\n",
      "|79065668586691|  1|DMM|CCJ|  9W|  9W|371.98|USD|  1|   Q|   Q|0577|150722|  OK|INA0|\n",
      "|79065668617456|  1|DMS|BAH|  9W|  9W| 19.46|USD|  1|   S|   S|7483|150917|  OK|INB0|\n",
      "|79065668617456|  2|BAH|BOM|  9W|  9W|205.22|USD|  1|   S|   S|0591|150917|  OK|INJ0|\n",
      "|79065668617456|  3|BOM|BDQ|  9W|  9W| 42.13|USD|  1|   S|   S|0341|150918|  OK|INJ0|\n",
      "|79065668617456|  4|BDQ|BOM|  9W|  9W| 24.56|USD|  2|   T|   T|0461|151017|  OK|INJ0|\n",
      "|79065668617456|  5|BOM|DMM|  9W|  9W|122.73|USD|  2|   H|   H|0564|151017|  OK|INJ0|\n",
      "|79065668682378|  1|DMM|CCJ|  9W|  9W|273.57|USD|  1|   Q|   Q|0577|150723|  OK|INA0|\n",
      "|79065668682378|  2|CCJ|DMM|  9W|  9W|117.87|USD|  2|   V|   V|0578|151123|  OK|INA0|\n",
      "|79065668707705|  1|DMM|TRV|  9W|  9W|146.39|USD|  1|   V|   V|0565|150728|  OK|IAA0|\n",
      "|79065668709386|  1|DMM|CCJ|  9W|  9W| 99.19|USD|  1|   W|   W|0577|150909|  OK|INA0|\n",
      "|79065668742425|  1|DMM|BOM|  9W|  9W|117.71|USD|  1|   K|   K|0563|150724|  OK|INA0|\n",
      "|79065668742425|  2|BOM|DMM|  9W|  9W| 68.15|USD|  2|   V|   V|0564|151123|  OK|INA0|\n",
      "|79065668742572|  1|JED|BOM|  9W|  9W|119.62|USD|  1|   K|   K|0521|150806|  OK|INBQ|\n",
      "|79065668742572|  2|BOM|COK|  9W|  9W| 38.48|USD|  1|   T|   T|0407|150807|  OK|INJ0|\n",
      "|79065668742572|  3|COK|BOM|  9W|  9W| 79.22|USD|  2|   T|   T|0406|150823|  OK|INJ0|\n",
      "|79065668742572|  4|BOM|JED|  9W|  9W|227.11|USD|  2|   T|   T|0522|150823|  OK|INB0|\n",
      "|79065668779543|  1|RUJ|DMM|  9W|  9W| 43.23|USD|  1|   L|   L|7487|150720|  OK|INB0|\n",
      "|79065668779543|  2|DMM|BOM|  9W|  9W|165.54|USD|  1|   L|   L|0563|150720|  OK|INJ0|\n",
      "|79065668785858|  1|COK|DMM|  9W|  9W|137.59|USD|  1|   K|   K|0570|150721|  OK|INA0|\n",
      "|79065668785858|  2|DMM|COK|  9W|  9W|137.59|USD|  2|   K|   K|0569|150729|  OK|INA0|\n",
      "|79065668802059|  1|JED|BOM|  9W|  9W| 70.35|USD|  1|   H|   H|0521|150803|  OK|INB0|\n",
      "|79065668802059|  2|BOM|HYD|  9W|  9W| 16.29|USD|  1|   T|   T|2601|150804|  OK|INJ0|\n",
      "|79065668802059|  3|HYD|BOM|  S2|  9W|  19.8|USD|  2|   T|   T|7058|150814|  OK|INJ0|\n",
      "|79065668802059|  4|BOM|JED|  9W|  9W| 85.51|USD|  2|   K|   K|0522|150814|  OK|INB0|\n",
      "|79065668818582|  1|DXB|DEL|  9W|  9W|201.46|USD|  1|   K|   K|0547|150921|  OK|INA0|\n",
      "|79065668818582|  2|DEL|CCU|  9W|  9W| 78.19|USD|  2|   H|   H|0903|150922|  OK|INA0|\n",
      "|79065668822965|  1|SIN|BOM|  9W|  9W| 89.59|USD|  1|   V|   V|0011|150915|  OK|INA0|\n",
      "|79065668822965|  2|BOM|GOI|  9W|  9W| 41.84|USD|  2|   H|   H|0446|150916|  OK|INA0|\n",
      "|79065668822965|  3|GOI|BOM|  9W|  9W| 41.84|USD|  3|   H|   H|2374|150927|  OK|INA0|\n",
      "|79065668822965|  4|BOM|SIN|  9W|  9W| 73.16|USD|  4|   O|   O|0010|150927|  OK|INAQ|\n",
      "|79065668885696|  1|DMM|COK|  9W|  9W| 99.99|USD|  1|   V|   V|0569|150818|  OK|INA0|\n",
      "|79065668885696|  2|COK|DMM|  9W|  9W| 79.99|USD|  2|   O|   O|0570|150906|  OK|INA0|\n",
      "|79065668924843|  1|DEL|LKO|  9W|  9W|163.13|USD|  1|   T|   T|0646|150730|  OK|INA0|\n",
      "|79065668943022|  1|DMM|CCJ|  9W|  9W|273.39|USD|  1|   Q|   Q|0577|150723|  OK|INA0|\n",
      "|79065668943022|  2|CCJ|DMM|  9W|  9W|117.79|USD|  2|   V|   V|0578|150808|  OK|INA0|\n",
      "|79065668454576|  1|DEL|IXJ|  9W|  9W|  52.7|USD|  1|   V|   V|0607|150721|  OK|INA0|\n",
      "|79065668456961|  1|CCU|DEL|  9W|  9W|664.64|USD|  1|   C|   C|0904|150719|  OK|INA0|\n",
      "|79065668462050|  1|BLR|DEL|  S2|  9W|114.84|USD|  1|   S|   S|7038|150721|  OK|INA0|\n",
      "|79065668465539|  1|CCU|BOM|  9W|  9W| 14.99|USD|  1|   B|   B|0610|150819|  NS|INAQ|\n",
      "|79065668468973|  1|LKO|DEL|  9W|  9W| 31.86|USD|  1|   W|   W|0688|150721|  OK|INA0|\n",
      "|79065668472321|  1|JRH|CCU|  9W|  9W|198.21|USD|  1|   T|   T|2642|150720|  OK|INA0|\n",
      "|79065668467073|  1|DIB|GAU|  9W|  9W| 48.77|USD|  1|   H|   H|7080|150721|  OK|INA0|\n",
      "|79065668468599|  1|BOM|MAA|  9W|  9W|  43.5|USD|  1|   W|   W|0481|150925|  OK|INA0|\n",
      "|79065668470655|  1|AMD|BOM|  S2|  9W| 16.06|USD|  1|   B|   B|7104|151022|  OK|INA0|\n",
      "|79065668472944|  1|DEL|BOM|  9W|  9W| 44.99|USD|  1|   B|   B|0358|150721|  OK|INA0|\n",
      "|79065668473338|  1|DEL|BLR|  9W|  9W|  64.5|USD|  1|   W|   W|0834|150725|  OK|INA0|\n",
      "|79065668510386|  1|HYD|BOM|  9W|  9W| 25.96|USD|  1|   W|   W|0456|151220|  OK|INA0|\n",
      "|79065668510387|  1|HYD|BOM|  9W|  9W| 25.96|USD|  1|   W|   W|0456|151220|  OK|INA0|\n",
      "|79065668511692|  1|BOM|DXB|  9W|  9W| 47.97|USD|  1|   O|   O|0542|150720|  OK|INA0|\n",
      "|79065668511692|  2|DXB|BOM|  9W|  9W|104.09|USD|  2|   K|   K|0543|150720|  OK|INA0|\n",
      "|79065668511692|  3|BOM|BKK|  9W|  9W|171.39|USD|  3|   L|   L|0070|150721|  OK|INA0|\n",
      "|79065668511692|  4|BKK|BOM|  9W|  9W| 81.01|USD|  4|   H|   H|0067|150721|  OK|INAQ|\n",
      "|79065668511692|  5|BOM|AUH|  9W|  9W| 54.27|USD|  5|   O|   O|0586|150722|  OK|INA0|\n",
      "|79065668470472|  1|DEL|IDR|  S2|  9W|  40.9|USD|  1|   O|   O|7027|150813|  OK|INA0|\n",
      "|79065668472148|  1|BLR|MAA|  9W|  9W| 80.23|USD|  1|   H|   H|2352|150720|  OK|INA0|\n",
      "|79065668473294|  1|MAA|PNQ|  9W|  9W| 70.79|USD|  1|   H|   H|0493|150720|  OK|INA0|\n",
      "|79065668481425|  1|BOM|BLR|  9W|  9W|  64.5|USD|  1|   V|   V|0381|150720|  OK|INA0|\n",
      "|79065668499505|  1|BOM|DEL|  9W|  9W| 44.99|USD|  1|   B|   B|0357|150719|  OK|INA0|\n",
      "|79065668509203|  1|BOM|DOH|  9W|  9W| 85.26|USD|  1|   W|   W|0552|150719|  OK|INA0|\n",
      "|79065668515413|  1|BOM|DXB|  9W|  9W|105.22|USD|  1|   H|   H|0542|151106|  OK|INAQ|\n",
      "|79065668515413|  2|DXB|BOM|  9W|  9W| 47.97|USD|  2|   O|   O|0537|151110|  OK|INA0|\n",
      "|79065668488274|  1|CCU|BOM|  9W|  9W|  82.2|USD|  1|   W|   W|0626|150721|  OK|INA0|\n",
      "|79065668502092|  1|DEL|BOM|  9W|  9W| 62.45|USD|  1|   W|   W|0308|150720|  OK|INA0|\n",
      "|79065668512998|  1|AMD|PNQ|  9W|  9W| 72.36|USD|  1|   K|   K|2821|150719|  OK|INA0|\n",
      "|79062005509791|  1|KWI|AUH|  9W|  9W|  46.5|USD|  1|   H|   H|0525|150729|  OK|INJ0|\n",
      "|79062005509791|  2|AUH|IXE|  9W|  9W| 94.18|USD|  1|   H|   H|0501|150729|  OK|INJ0|\n",
      "|79062005509791|  3|IXE|AUH|  9W|  9W|  82.0|USD|  2|   O|   O|0502|150906|  OK|INJ0|\n",
      "|79062005509791|  4|AUH|KWI|  9W|  9W| 40.49|USD|  2|   O|   O|0526|150906|  OK|INJ0|\n",
      "|79065668518787|  1|DXB|DEL|  9W|  9W| 13.61|USD|  1|   W|   W|0545|151104|  OK|INA0|\n",
      "|79065668518788|  1|DXB|DEL|  9W|  9W| 13.61|USD|  1|   W|   W|0545|151104|  OK|INA0|\n",
      "|79065668528922|  1|BOM|DEL|  9W|  9W| 44.99|USD|  1|   B|   B|0311|150719|  OK|INA0|\n",
      "|79065668533321|  1|DEL|IXC|  9W|  9W| 26.74|USD|  1|   W|   W|7126|150720|  OK|INA0|\n",
      "|79065668417132|  1|LHR|DEL|  9W|  9W| 47.96|USD|  1|   H|   H|0121|151006|  OK|IAF0|\n",
      "|79065668417132|  2|DEL|CCU|  9W|  9W| 11.98|USD|  1|   T|   T|0903|151015|  OK|IAN0|\n",
      "|79065668417132|  3|CCU|BOM|  9W|  9W| 13.24|USD|  1|   T|   T|0628|151025|  OK|IAN0|\n",
      "|79065668417132|  4|BOM|LHR|  9W|  9W| 46.75|USD|  1|   V|   V|0120|151026|  OK|IAF0|\n",
      "|79065668433887|  1|HYD|BOM|  9W|  9W| 42.47|USD|  1|   O|   O|0452|150727|  OK|INA0|\n",
      "|79065668438976|  1|GOI|MAA|  9W|  9W|124.28|USD|  1|   Q|   Q|2352|150720|  OK|INA0|\n",
      "|79065668439692|  1|PNQ|AMD|  9W|  9W| 28.16|USD|  1|   B|   B|2822|151120|  OK|INA0|\n",
      "|79065668440054|  1|IXC|DEL|  9W|  9W| 42.47|USD|  1|   V|   V|2658|150722|  OK|INA0|\n",
      "|79065668448849|  1|DEL|DIB|  9W|  9W|504.18|USD|  1|   P|   P|7079|150720|  OK|INA0|\n",
      "|79065668453878|  1|BLR|BOM|  9W|  9W| 44.05|USD|  1|   W|   W|0393|150916|  OK|INA0|\n",
      "|79065668424839|  1|BLR|MAA|  9W|  9W| 55.06|USD|  1|   O|   O|2780|150719|  OK|INA0|\n",
      "|79065668429426|  1|BOM|JAI|  9W|  9W|  64.5|USD|  1|   V|   V|0416|150804|  OK|INA0|\n",
      "|79065668515858|  1|IMF|GAU|  9W|  9W| 28.32|USD|  1|   W|   W|7049|150721|  OK|INA0|\n",
      "|79065668515976|  1|CJB|MAA|  9W|  9W| 78.95|USD|  1|   Q|   Q|2350|150720|  OK|INA0|\n",
      "|79065668516723|  1|PNQ|BOM|  9W|  9W| 16.61|USD|  1|   V|   V|0617|150720|  OK|INJ0|\n",
      "|79065668516723|  2|BOM|AMD|  9W|  9W| 42.37|USD|  1|   V|   V|0375|150720|  OK|INJ0|\n",
      "|79065668516982|  1|BOM|AMD|  S2|  9W| 26.74|USD|  1|   W|   W|7003|151213|  OK|INA0|\n",
      "|79065668516984|  1|BOM|AMD|  S2|  9W| 26.74|USD|  1|   W|   W|7003|151213|  OK|INA0|\n",
      "|79065668517340|  1|BLR|JDH|  9W|  9W|132.14|USD|  1|   H|   H|0412|150727|  OK|INA0|\n",
      "|79065668518209|  1|BOM|DEL|  9W|  9W| 39.33|USD|  1|   B|   B|0339|150805|  OK|INA0|\n",
      "|79065668518414|  1|BOM|AMD|  S2|  9W| 16.06|USD|  1|   B|   B|7099|150806|  OK|INA0|\n",
      "|79065668518995|  1|TRZ|MAA|  9W|  9W| 59.78|USD|  1|   H|   H|2790|150720|  OK|INA0|\n",
      "|79065668519899|  1|BOM|GOI|  9W|  9W| 30.68|USD|  1|   O|   O|0426|150719|  OK|INA0|\n",
      "|79065668412725|  1|KWI|BOM|  9W|  9W|139.04|USD|  1|   S|   S|0573|150722|  OK|INA0|\n",
      "|79065668412725|  2|BOM|AMD|  9W|  9W|  53.2|USD|  2|   H|   H|2321|150722|  OK|INA0|\n",
      "|79065668433611|  1|DEL|GAU|  9W|  9W|106.97|USD|  1|   O|   O|7079|151026|  OK|INA0|\n",
      "|79065668459222|  1|MAA|DEL|  9W|  9W|112.38|USD|  1|   H|   H|0820|150727|  OK|INA0|\n",
      "|79065668462397|  1|IXU|BOM|  9W|  9W|140.01|USD|  1|   U|   U|2512|150724|  OK|INA0|\n",
      "|79065668467652|  1|CCU|DEL|  9W|  9W| 101.7|USD|  1|   V|   V|0904|151016|  OK|INA0|\n",
      "|79065668469257|  1|DEL|CCU|  9W|  9W| 78.66|USD|  1|   H|   H|2263|150720|  OK|INA0|\n",
      "|79065668459043|  1|BOM|AUH|  9W|  9W|105.22|USD|  1|   H|   H|0584|150731|  OK|INAQ|\n",
      "|79065668459043|  2|AUH|BOM|  9W|  EY|134.11|USD|  2|   E|   E|7600|150829|  OK|INAQ|\n",
      "|79065668459542|  1|HYD|DEL|  S2|  9W| 122.7|USD|  1|   S|   S|7010|150719|  OK|INA0|\n",
      "|79065668466386|  1|LKO|DEL|  9W|  9W| 36.16|USD|  1|   V|   V|0688|150725|  OK|INJ0|\n",
      "|79065668466386|  2|DEL|PNQ|  9W|  9W| 76.15|USD|  1|   V|   V|0367|150725|  OK|INJ0|\n",
      "|79065668468328|  1|PNQ|IDR|  9W|  9W| 72.36|USD|  1|   O|   O|2491|150722|  OK|INA0|\n",
      "|79065668469899|  1|TRV|BOM|  9W|  9W|129.78|USD|  1|   K|   K|0389|151115|  OK|INA0|\n",
      "|79065668471393|  1|BOM|MAA|  9W|  9W| 289.5|USD|  1|   M|   M|0465|150720|  OK|INAQ|\n",
      "|79065668472272|  1|CCJ|BOM|  9W|  9W| 46.85|USD|  1|   O|   O|0424|150720|  OK|INJ0|\n",
      "|79065668472272|  2|BOM|DEL|  9W|  9W|  54.6|USD|  1|   O|   O|0357|150720|  OK|INJ0|\n",
      "|79065668483772|  1|IXE|BOM|  9W|  9W| 62.92|USD|  1|   V|   V|0434|150725|  OK|INA0|\n",
      "|79065668485465|  1|IXE|BLR|  9W|  9W|115.15|USD|  1|   L|   L|0816|150720|  OK|INA0|\n",
      "|79065668520179|  1|BOM|JAI|  9W|  9W|  64.5|USD|  1|   V|   V|0416|150719|  OK|INA0|\n",
      "|79065668520979|  1|PNQ|CCU|  9W|  9W|141.58|USD|  1|   V|   V|0617|150722|  OK|INA0|\n",
      "|79065668520976|  1|BLR|BOM|  9W|  9W| 32.56|USD|  1|   T|   T|0393|150908|  OK|INJ0|\n",
      "|79065668520976|  2|BOM|CDG|  AF|  9W|187.87|USD|  1|   K|   K|0126|150909|  OK|INB0|\n",
      "|79065668520976|  3|CDG|BOM|  9W|  9W| 43.56|USD|  2|   W|   W|0123|150915|  OK|INB0|\n",
      "|79065668520976|  4|BOM|BLR|  9W|  9W|  7.55|USD|  2|   T|   T|2056|150916|  OK|INJ0|\n",
      "|79065668521014|  1|HYD|DEL|  9W|  9W| 66.07|USD|  1|   O|   O|0646|150722|  OK|INA0|\n",
      "|79065668521279|  1|BOM|IXE|  9W|  9W| 62.92|USD|  1|   V|   V|0435|150721|  OK|INA0|\n",
      "|79062005518507|  1|KWI|AUH|  9W|  9W| 36.57|USD|  1|   O|   O|0525|150801|  OK|INJ0|\n",
      "|79062005518507|  2|AUH|LKO|  9W|  9W| 77.61|USD|  1|   O|   O|0511|150801|  OK|INJ0|\n",
      "|79062005518507|  3|LKO|BOM|  9W|  9W| 28.57|USD|  2|   T|   T|0360|151103|  OK|INJ0|\n",
      "|79062005518507|  4|BOM|KWI|  9W|  9W| 64.08|USD|  2|   W|   W|0574|151103|  OK|INJ0|\n",
      "|79065668471958|  1|DEL|BOM|  9W|  9W| 44.99|USD|  1|   B|   B|0358|150720|  OK|INA0|\n",
      "|79065668529726|  1|BLR|DEL|  9W|  9W| 98.63|USD|  1|   H|   H|7126|150720|  OK|INA0|\n",
      "|79062005529382|  1|KWI|BOM|  9W|  9W|  96.0|USD|  1|   K|   K|0573|150723|  OK|INA0|\n",
      "|79062005529382|  2|BOM|COK|  9W|  9W|110.31|USD|  2|   H|   H|0403|150723|  OK|INA0|\n",
      "|79062005529382|  3|COK|BOM|  9W|  9W| 70.68|USD|  3|   T|   T|0406|150823|  OK|INJ0|\n",
      "|79062005529382|  4|BOM|KWI|  9W|  9W| 169.3|USD|  3|   L|   L|0572|150823|  OK|INJ0|\n",
      "|79065668541500|  1|BOM|RAJ|  9W|  9W| 78.95|USD|  1|   Q|   Q|7001|150720|  OK|INA0|\n",
      "|79065668543393|  1|PNQ|BOM|  9W|  9W| 78.95|USD|  1|   Q|   Q|0617|150720|  OK|INA0|\n",
      "|79065668475680|  1|RPR|BHO|  9W|  9W| 67.64|USD|  1|   H|   H|2121|150816|  OK|INA0|\n",
      "|79065668478352|  1|MAA|CJB|  9W|  9W| 59.78|USD|  1|   H|   H|2763|150720|  OK|INA0|\n",
      "|79065668479084|  1|BOM|DEL|  9W|  9W| 84.95|USD|  1|   V|   V|0361|150722|  OK|INA0|\n",
      "|79065668479112|  1|HYD|BOM|  9W|  9W| 27.69|USD|  1|   W|   W|7349|150810|  OK|INA0|\n",
      "|79065668479113|  1|HYD|BOM|  9W|  9W| 27.69|USD|  1|   W|   W|7349|150810|  OK|INA0|\n",
      "|79065668481527|  1|BDQ|BOM|  9W|  9W| 43.26|USD|  1|   O|   O|0397|151101|  OK|INA0|\n",
      "|79065668481562|  1|BLR|DEL|  9W|  9W| 75.51|USD|  1|   O|   O|0818|150722|  OK|INA0|\n",
      "|79065668481565|  1|ATQ|DEL|  9W|  9W| 27.75|USD|  1|   O|   O|0373|150720|  OK|INJ0|\n",
      "|79065668481565|  2|DEL|LKO|  9W|  9W|  28.1|USD|  1|   O|   O|0689|150720|  OK|INJ0|\n",
      "|79065668482074|  1|ATQ|DEL|  9W|  9W| 25.17|USD|  1|   B|   B|0373|150720|  OK|INA0|\n",
      "|79065668482228|  1|CJB|BLR|  9W|  9W| 73.46|USD|  1|   H|   H|2326|150802|  OK|INA0|\n",
      "|79065668443876|  1|IXS|CCU|  9W|  9W| 86.52|USD|  1|   H|   H|2876|150722|  OK|INA0|\n",
      "|79065668447087|  1|MAA|IXM|  9W|  9W|110.12|USD|  1|   S|   S|2727|150719|  OK|INA0|\n",
      "|79065668447094|  1|DEL|IXJ|  9W|  9W|  52.7|USD|  1|   V|   V|0607|150721|  OK|INA0|\n",
      "|79065668447768|  1|COK|BLR|  9W|  9W| 20.45|USD|  1|   W|   W|2730|150723|  OK|INA0|\n",
      "|79065668448350|  1|CCJ|BOM|  9W|  9W|  64.5|USD|  1|   O|   O|0424|150720|  OK|INA0|\n",
      "|79065668451023|  1|MAA|BOM|  9W|  9W| 84.95|USD|  1|   H|   H|0460|150720|  OK|INA0|\n",
      "|79065668452457|  1|MAA|BOM|  9W|  9W|  43.5|USD|  1|   W|   W|0460|150901|  OK|INA0|\n",
      "|79065668453288|  1|CJB|MAA|  9W|  9W| 36.18|USD|  1|   W|   W|2766|150917|  OK|INA0|\n",
      "|79065668453822|  1|IXJ|DEL|  9W|  9W| 30.68|USD|  1|   B|   B|0608|150722|  OK|INA0|\n",
      "|79065668477494|  1|HYD|DEL|  9W|  9W|  40.9|USD|  1|   B|   B|2622|150730|  OK|INA0|\n",
      "|79065668487237|  1|CCU|BOM|  9W|  9W|  82.2|USD|  1|   W|   W|0630|150723|  OK|INA0|\n",
      "|79065668488264|  1|BOM|CCU|  9W|  9W| 70.79|USD|  1|   B|   B|0484|150720|  OK|INA0|\n",
      "|79065668547692|  1|PNQ|BLR|  S2|  9W| 56.63|USD|  1|   V|   V|7052|150723|  OK|INA0|\n",
      "|79065668547838|  1|NCE|CDG|  AF|  AF|335.55|USD|  2|   W|   W|7715|150719|  OK|INB0|\n",
      "|79065668547838|  2|CDG|BOM|  9W|  9W|2082.3|USD|  2|   C|   C|0123|150719|  OK|INBQ|\n",
      "|79065668474189|  1|MAA|IXZ|  9W|  9W| 65.28|USD|  1|   B|   B|0613|150722|  OK|INA0|\n",
      "|79065668484361|  1|BOM|GOI|  9W|  9W| 30.68|USD|  1|   O|   O|0426|150725|  OK|INA0|\n",
      "|79065668485068|  1|GAU|BLR|  9W|  9W|132.93|USD|  1|   H|   H|7049|151020|  OK|INA0|\n",
      "|79065668486757|  1|BOM|DEL|  9W|  9W| 44.99|USD|  1|   B|   B|0361|150719|  OK|INA0|\n",
      "|79065668488232|  1|IMF|BLR|  S2|  9W|157.31|USD|  1|   H|   H|7049|151016|  OK|INA0|\n",
      "|79065668488234|  1|BOM|BHO|  9W|  9W| 53.49|USD|  1|   O|   O|0317|150826|  OK|INA0|\n",
      "|79065668453885|  1|DEL|BLR|  9W|  9W| 51.08|USD|  1|   B|   B|0827|151019|  OK|INA0|\n",
      "|79065668455784|  1|BOM|HYD|  9W|  9W| 25.96|USD|  1|   W|   W|7017|151112|  OK|INA0|\n",
      "|79065668460028|  1|CJB|MAA|  9W|  9W|143.15|USD|  1|   N|   N|2766|150719|  OK|INA0|\n",
      "|79065668460583|  1|BOM|HKG|  9W|  9W|203.72|USD|  1|   O|   O|0076|150721|  OK|INA0|\n",
      "|79065668460583|  2|HKG|BOM|  9W|  9W|288.99|USD|  2|   K|   K|0075|150801|  OK|INAQ|\n",
      "|79065668460797|  1|BOM|LKO|  9W|  9W| 45.94|USD|  1|   B|   B|0359|150922|  OK|INA0|\n",
      "|79065668463752|  1|AMD|DEL|  9W|  9W|  40.9|USD|  1|   W|   W|0689|150808|  OK|INA0|\n",
      "|79065668491969|  1|BOM|GOI|  9W|  9W| 20.42|USD|  1|   B|   B|0446|150720|  OK|INA0|\n",
      "|79065668494108|  1|BLR|MAA|  9W|  9W| 70.79|USD|  1|   S|   S|2738|150722|  OK|INA0|\n",
      "|79065668495900|  1|CCU|GAU|  9W|  9W| 56.63|USD|  1|   V|   V|7048|151017|  OK|INA0|\n",
      "|79065668503430|  1|COK|DOH|  9W|  9W|155.74|USD|  1|   O|   O|0556|151117|  OK|INA0|\n",
      "|79065668507474|  1|MAA|BOM|  9W|  9W| 27.29|USD|  1|   W|   W|0464|150902|  OK|INA0|\n",
      "|79065668449712|  1|BOM|UDR|  9W|  9W|121.44|USD|  1|   I|   I|2093|150720|  OK|INA0|\n",
      "|79065668456247|  1|MAA|CJB|  9W|  9W|  40.9|USD|  1|   O|   O|2765|150822|  OK|INA0|\n",
      "|79065668482175|  1|DEL|GAU|  9W|  9W| 91.24|USD|  1|   W|   W|0721|150804|  OK|INA0|\n",
      "|79065668490897|  1|LKO|HYD|  9W|  9W| 62.92|USD|  1|   W|   W|0643|151117|  OK|INA0|\n",
      "|79065668491905|  1|BLR|HYD|  9W|  9W| 39.33|USD|  1|   W|   W|2741|150721|  OK|INA0|\n",
      "|79065668491952|  1|BLR|MAA|  9W|  9W|155.74|USD|  1|   N|   N|2826|150720|  OK|INA0|\n",
      "|79065668492790|  1|IXE|BLR|  9W|  9W|130.88|USD|  1|   N|   N|2400|150720|  OK|INA0|\n",
      "|79065668493161|  1|DEL|BOM|  9W|  9W| 29.89|USD|  1|   B|   B|0308|150930|  OK|INA0|\n",
      "|79065668495067|  1|AMD|PNQ|  9W|  9W| 33.04|USD|  1|   W|   W|2821|150720|  OK|INA0|\n",
      "|79065668496258|  1|CCJ|BOM|  9W|  9W|  64.5|USD|  1|   O|   O|0424|150720|  OK|INA0|\n",
      "|79065668497481|  1|RJA|HYD|  9W|  9W| 146.3|USD|  1|   N|   N|2760|150720|  OK|INA0|\n",
      "|79065668497483|  1|RJA|HYD|  9W|  9W| 146.3|USD|  1|   N|   N|2760|150720|  OK|INA0|\n",
      "|79065668498553|  1|BOM|GOI|  9W|  9W| 30.68|USD|  1|   O|   O|0426|150917|  OK|INA0|\n",
      "|79065668498621|  1|BOM|DEL|  9W|  9W| 39.33|USD|  1|   B|   B|0355|150728|  OK|INA0|\n",
      "|79065668464886|  1|CCU|DEL|  9W|  9W|110.12|USD|  1|   S|   S|0904|150720|  OK|INA0|\n",
      "|79065668465891|  1|DEL|BOM|  9W|  9W| 44.99|USD|  1|   B|   B|0373|150719|  OK|INA0|\n",
      "|79065668466083|  1|BOM|BHJ|  9W|  9W| 71.73|USD|  1|   S|   S|2535|150724|  OK|INA0|\n",
      "|79065668467641|  1|BOM|DEL|  9W|  9W| 44.99|USD|  1|   B|   B|0305|150719|  OK|INA0|\n",
      "|79065668470276|  1|GOI|BOM|  9W|  9W| 27.53|USD|  1|   W|   W|0627|150924|  OK|INA0|\n",
      "|79065668470450|  1|CCU|BOM|  9W|  9W| 58.21|USD|  1|   B|   B|0616|150916|  OK|INA0|\n",
      "|79065668524310|  1|MAA|CJB|  9W|  9W| 89.67|USD|  1|   S|   S|2767|150721|  OK|INA0|\n",
      "|79065668524624|  1|BOM|CCU|  9W|  9W| 58.21|USD|  1|   B|   B|0619|150831|  OK|INA0|\n",
      "|79065668524622|  1|CJB|MAA|  9W|  9W| 89.67|USD|  1|   S|   S|2766|150720|  OK|INA0|\n",
      "|79065668525566|  1|JAI|BOM|  9W|  9W| 34.61|USD|  1|   B|   B|2383|160101|  OK|INA0|\n",
      "|79065668468022|  1|DEL|CCU|  9W|  9W| 50.34|USD|  1|   W|   W|2282|150822|  OK|INA0|\n",
      "|79065668470485|  1|DED|DEL|  9W|  9W| 32.41|USD|  1|   W|   W|0334|150727|  OK|INA0|\n",
      "|79065668490363|  1|DEL|BOM|  9W|  9W| 51.98|USD|  1|   T|   T|0373|150727|  OK|INJ0|\n",
      "|79065668490363|  2|BOM|RUH|  9W|  9W|120.19|USD|  1|   K|   K|0524|150727|  OK|INJ0|\n",
      "|79065668498000|  1|DEL|BOM|  9W|  9W| 39.33|USD|  1|   B|   B|0340|150809|  OK|INA0|\n",
      "|79065668520174|  1|BOM|CCU|  9W|  9W|106.97|USD|  1|   V|   V|0484|150720|  OK|INA0|\n",
      "|79065668501730|  1|BOM|DEL|  9W|  9W|104.55|USD|  1|   H|   H|0337|150721|  OK|INA0|\n",
      "|79065668503741|  1|MAA|GOI|  9W|  9W| 58.21|USD|  1|   V|   V|2354|150902|  OK|INA0|\n",
      "|79065668506677|  1|ATQ|DEL|  9W|  9W| 25.17|USD|  1|   B|   B|0373|150720|  OK|INA0|\n",
      "|79065668471073|  1|DEL|SXR|  S2|  9W| 78.95|USD|  1|   Q|   Q|7019|150728|  OK|INA0|\n",
      "|79065668471149|  1|SXR|DEL|  9W|  9W|103.83|USD|  1|   S|   S|0604|150720|  OK|INA0|\n",
      "|79065668471471|  1|BOM|BLR|  9W|  9W|  64.5|USD|  1|   V|   V|0495|150720|  OK|INA0|\n",
      "|79065668473340|  1|BLR|BOM|  9W|  9W| 36.18|USD|  1|   W|   W|0410|150721|  OK|INA0|\n",
      "|79065668475471|  1|BOM|DEL|  9W|  9W| 60.58|USD|  1|   W|   W|0351|150720|  OK|INA0|\n",
      "|79065668475472|  1|BOM|DEL|  9W|  9W| 60.58|USD|  1|   W|   W|0351|150720|  OK|INA0|\n",
      "|79065668475647|  1|PNQ|IDR|  9W|  9W| 56.63|USD|  1|   W|   W|2491|150724|  OK|INA0|\n",
      "|79065668475681|  1|BOM|DEL|  9W|  9W| 84.95|USD|  1|   V|   V|0390|150720|  OK|INA0|\n",
      "|79065668478747|  1|DEL|UDR|  9W|  9W| 78.95|USD|  1|   Q|   Q|2629|150726|  OK|INA0|\n",
      "|79065668481635|  1|BOM|DEL|  9W|  9W| 44.99|USD|  1|   B|   B|0390|150724|  OK|INA0|\n",
      "|79065668482429|  1|BOM|HYD|  9W|  9W| 27.69|USD|  1|   W|   W|0459|150811|  OK|INA0|\n",
      "|79065668419424|  1|BOM|LKO|  9W|  9W| 78.66|USD|  1|   O|   O|0359|150719|  OK|INA0|\n",
      "|79065668459930|  1|DEL|BOM|  9W|  9W|128.52|USD|  1|   K|   K|0356|150721|  OK|INA0|\n",
      "|79065668465868|  1|DXB|BOM|  9W|  9W|185.13|USD|  1|   Q|   Q|0543|150806|  OK|INAQ|\n",
      "|79065668467791|  1|AMD|BOM|  S2|  9W| 53.48|USD|  1|   H|   H|7104|150906|  OK|INA0|\n",
      "|79065668467791|  2|BOM|LHR|  9W|  9W|259.84|USD|  2|   L|   L|0120|150907|  OK|INB0|\n",
      "|79065668467791|  3|LHR|YYZ|  AC|  9W|216.63|USD|  2|   L|   L|5069|150907|  OK|INB0|\n",
      "|79065668520766|  1|BOM|MAA|  9W|  9W| 27.29|USD|  1|   B|   B|0469|150917|  OK|INA0|\n",
      "|79065668526409|  1|PNQ|MAA|  9W|  9W| 58.21|USD|  1|   V|   V|0496|150722|  OK|INA0|\n",
      "|79065668475293|  1|IXM|MAA|  9W|  9W| 78.03|USD|  1|   H|   H|2346|150724|  OK|INA0|\n",
      "|79065668477036|  1|IXR|CCU|  9W|  9W| 73.94|USD|  1|   H|   H|2859|150720|  OK|INA0|\n",
      "|79065668477872|  1|CJB|MAA|  9W|  9W| 23.58|USD|  1|   O|   O|2762|150731|  OK|INJ0|\n",
      "|79065668477872|  2|MAA|BOM|  9W|  9W|  48.0|USD|  1|   O|   O|0488|150731|  OK|INJ0|\n",
      "|79065668482571|  1|IXS|GAU|  9W|  9W| 47.74|USD|  1|   W|   W|2878|150814|  OK|INA0|\n",
      "|79065668490974|  1|DEL|BOM|  9W|  9W| 44.99|USD|  1|   B|   B|0358|150720|  OK|INA0|\n",
      "|79065668493671|  1|BLR|BOM|  9W|  9W|  64.5|USD|  1|   V|   V|0442|150726|  OK|INA0|\n",
      "|79065668503398|  1|BLR|DEL|  9W|  9W|119.56|USD|  1|   K|   K|0812|150720|  OK|INA0|\n",
      "|79065668507544|  1|GOI|BLR|  9W|  9W|  23.6|USD|  1|   B|   B|2352|151022|  OK|INA0|\n",
      "|79065668509523|  1|HYD|BOM|  9W|  9W| 27.69|USD|  1|   W|   W|0456|150916|  OK|INA0|\n",
      "|79065668441029|  1|DEL|DXB|  9W|  9W|147.24|USD|  1|   K|   K|0546|150723|  OK|INA0|\n",
      "|79065668482478|  1|HYD|DEL|  9W|  9W| 75.51|USD|  1|   V|   V|2622|150823|  OK|INA0|\n",
      "|79065668527461|  1|PNQ|BOM|  9W|  9W|  81.8|USD|  1|   K|   K|0617|150719|  OK|INA0|\n",
      "|79062005526956|  1|KWI|AUH|  EY|  EY| 78.11|USD|  1|   Q|   Q|0306|150723|  OK|INJ0|\n",
      "|79062005526956|  2|AUH|HYD|  9W|  9W|163.54|USD|  1|   S|   S|0549|150723|  OK|INJ0|\n",
      "|79065668528362|  1|CCJ|BOM|  9W|  9W|  64.5|USD|  1|   O|   O|0424|150720|  OK|INA0|\n",
      "|79065668530009|  1|PNQ|AUH|  9W|  9W| 51.73|USD|  1|   W|   W|0514|150726|  OK|INAQ|\n",
      "|79065668475684|  1|DEL|BOM|  9W|  9W| 44.99|USD|  1|   B|   B|0312|150719|  OK|INA0|\n",
      "|79065668483854|  1|BHO|DEL|  9W|  9W| 50.81|USD|  1|   V|   V|2641|150720|  OK|INA0|\n",
      "|79065668486547|  1|HYD|BOM|  S2|  9W| 81.33|USD|  1|   K|   K|7058|150720|  OK|INA0|\n",
      "|79065668507575|  1|PNQ|IDR|  9W|  9W| 44.05|USD|  1|   B|   B|2491|150817|  OK|INA0|\n",
      "|79065668507577|  1|PNQ|IDR|  9W|  9W| 44.05|USD|  1|   B|   B|2491|150817|  OK|INA0|\n",
      "|79065668511997|  1|BOM|DEL|  9W|  9W| 39.33|USD|  1|   B|   B|0390|150822|  OK|INA0|\n",
      "|79065668482430|  1|BOM|HYD|  9W|  9W| 27.69|USD|  1|   W|   W|0459|150811|  OK|INA0|\n",
      "|79065668484813|  1|DXB|BOM|  9W|  9W| 87.12|USD|  1|   K|   K|0537|151120|  OK|INA0|\n",
      "|79065668484933|  1|BOM|MAA|  9W|  9W|128.13|USD|  1|   S|   S|0461|150719|  OK|INA0|\n",
      "|79065668493454|  1|BOM|DEL|  9W|  9W| 44.99|USD|  1|   B|   B|0305|150719|  OK|INA0|\n",
      "|79065668516189|  1|BOM|DXB|  9W|  9W|105.22|USD|  1|   H|   H|0542|151106|  OK|INAQ|\n",
      "|79065668516189|  2|DXB|BOM|  9W|  9W| 47.97|USD|  2|   O|   O|0537|151110|  OK|INA0|\n",
      "|79065668531157|  1|BOM|AMD|  9W|  9W| 26.74|USD|  1|   W|   W|0327|150728|  OK|INA0|\n",
      "|79065668435417|  1|BOM|IXE|  9W|  9W| 62.92|USD|  1|   V|   V|0435|150803|  OK|INA0|\n",
      "|79065668442081|  1|BLR|COK|  9W|  9W| 26.43|USD|  1|   O|   O|2660|150726|  OK|INA0|\n",
      "|79065668460067|  1|PBD|BOM|  9W|  9W|193.49|USD|  1|   N|   N|2500|150719|  OK|INA0|\n",
      "|79065668464335|  1|DEL|DXB|  9W|  9W|107.58|USD|  1|   H|   H|0548|151106|  OK|INAQ|\n",
      "|79065668464335|  2|DXB|DEL|  9W|  9W| 76.12|USD|  2|   O|   O|0545|151114|  OK|INAQ|\n",
      "|79065668473371|  1|IDR|DEL|  9W|  9W| 27.53|USD|  1|   B|   B|0792|151117|  OK|INA0|\n",
      "|79065668473429|  1|MAA|PNQ|  9W|  9W| 50.34|USD|  1|   O|   O|0493|150805|  OK|INA0|\n",
      "|79065668438771|  1|BOM|RAJ|  9W|  9W|113.58|USD|  1|   Q|   Q|7001|150719|  OK|INA0|\n",
      "|79065668453828|  1|DEL|LKO|  9W|  9W| 39.33|USD|  1|   O|   O|0366|150719|  OK|INA0|\n",
      "|79065668453831|  1|DEL|LKO|  9W|  9W| 39.33|USD|  1|   O|   O|0366|150719|  OK|INA0|\n",
      "|79065668447901|  1|NAG|BOM|  S2|  9W|  53.8|USD|  1|   V|   V|7005|150726|  OK|INA0|\n",
      "|79065668461662|  1|ATQ|DEL|  9W|  9W| 45.62|USD|  1|   O|   O|0739|150803|  OK|INA0|\n",
      "|79065668465953|  1|IXC|BOM|  9W|  9W| 81.49|USD|  1|   V|   V|0469|150720|  OK|INA0|\n",
      "|79065668467647|  1|DEL|ATQ|  9W|  9W| 25.17|USD|  1|   B|   B|0390|150720|  OK|INA0|\n",
      "|79065668515029|  1|BHO|BOM|  9W|  9W| 53.49|USD|  1|   O|   O|2268|151112|  OK|INA0|\n",
      "|79065668516599|  1|IXE|DXB|  9W|  9W|174.27|USD|  1|   K|   K|0532|150719|  OK|INAQ|\n",
      "|79065668429902|  1|BOM|MAA|  9W|  9W| 84.95|USD|  1|   H|   H|0485|150719|  OK|INA0|\n",
      "|79065668440690|  1|BOM|HYD|  9W|  9W| 42.47|USD|  1|   O|   O|0455|150724|  OK|INA0|\n",
      "|79065668449140|  1|MAA|DEL|  9W|  9W| 90.67|USD|  1|   O|   O|0736|150721|  OK|INJ0|\n",
      "|79065668449140|  2|DEL|IXC|  9W|  9W| 20.29|USD|  1|   O|   O|7126|150721|  OK|INJ0|\n",
      "|79065668457426|  1|MAA|DEL|  S2|  9W| 65.05|USD|  1|   W|   W|7056|151118|  OK|INA0|\n",
      "|79065668462782|  1|DEL|DED|  9W|  9W| 69.53|USD|  1|   H|   H|0839|150719|  OK|INA0|\n",
      "|79065668464286|  1|JAI|BOM|  9W|  9W|  64.5|USD|  1|   V|   V|0454|150720|  OK|INA0|\n",
      "|79065668458096|  1|BLR|DEL|  9W|  9W| 420.9|USD|  1|   P|   P|0818|150723|  OK|INA0|\n",
      "|79065668459443|  1|GAU|DEL|  9W|  9W| 64.39|USD|  1|   V|   V|0722|150802|  OK|INJ0|\n",
      "|79065668459443|  2|DEL|PNQ|  9W|  9W| 54.36|USD|  1|   V|   V|0363|150802|  OK|INJ0|\n",
      "|79065668467448|  1|PNQ|HYD|  9W|  9W| 53.49|USD|  1|   V|   V|2821|150721|  OK|INA0|\n",
      "|79065668476523|  1|DEL|BOM|  9W|  9W|111.22|USD|  1|   H|   H|0302|150720|  OK|INA0|\n",
      "|79065668492600|  1|BOM|IXE|  9W|  9W| 62.92|USD|  1|   V|   V|0435|150720|  OK|INA0|\n",
      "|79065668497298|  1|BOM|JAI|  9W|  9W|131.83|USD|  1|   Q|   Q|0416|150722|  OK|INA0|\n",
      "|79065668445222|  1|TRV|BOM|  9W|  9W| 110.9|USD|  1|   H|   H|0389|150817|  OK|INA0|\n",
      "|79065668452128|  1|BOM|DEL|  9W|  9W| 44.99|USD|  1|   B|   B|0351|150719|  OK|INA0|\n",
      "|79065668463477|  1|GOI|BOM|  9W|  9W| 29.79|USD|  1|   O|   O|0627|150801|  OK|INJ0|\n",
      "|79065668463477|  2|BOM|IDR|  9W|  9W| 34.62|USD|  1|   O|   O|2385|150801|  OK|INJ0|\n",
      "|79065668469751|  1|BOM|RAJ|  S2|  9W|113.58|USD|  1|   Q|   Q|7205|150719|  OK|INA0|\n",
      "|79065668479293|  1|BOM|DEL|  9W|  9W|264.28|USD|  1|   P|   P|0351|150720|  OK|INA0|\n",
      "|79065668421345|  1|BOM|MAA|  9W|  9W| 84.95|USD|  1|   H|   H|0350|150719|  OK|INA0|\n",
      "|79065668437180|  1|BLR|COK|  9W|  9W| 36.18|USD|  1|   H|   H|2613|150719|  OK|INA0|\n",
      "|79065668448803|  1|BOM|DEL|  9W|  9W| 44.99|USD|  1|   B|   B|0351|150720|  OK|INA0|\n",
      "|79065668456374|  1|COK|BLR|  9W|  9W|  29.5|USD|  1|   V|   V|2730|151025|  OK|INA0|\n",
      "|79065668456376|  1|COK|BLR|  9W|  9W|  29.5|USD|  1|   V|   V|2730|151025|  OK|INA0|\n",
      "|79065668464185|  1|RJA|BLR|  9W|  9W| 210.8|USD|  1|   M|   M|2802|150721|  OK|INA0|\n",
      "|79065668474995|  1|PNQ|AUH|  9W|  9W| 51.73|USD|  1|   W|   W|0514|150719|  OK|INAQ|\n",
      "|79065668476105|  1|BOM|HYD|  9W|  9W| 48.77|USD|  1|   V|   V|0391|150723|  OK|INA0|\n",
      "|79065668479217|  1|BOM|AMD|  9W|  9W| 48.77|USD|  1|   V|   V|0323|150720|  OK|INA0|\n",
      "|79065668484736|  1|IDR|DEL|  S2|  9W| 48.77|USD|  1|   V|   V|7061|150722|  OK|INA0|\n",
      "|79065668500280|  1|BHO|BOM|  9W|  9W| 84.95|USD|  1|   K|   K|2121|150719|  OK|INA0|\n",
      "|79065668486084|  1|DEL|PNQ|  9W|  9W| 67.64|USD|  1|   O|   O|0795|150723|  OK|INA0|\n",
      "|79065668489348|  1|DEL|PNQ|  9W|  9W|127.42|USD|  1|   K|   K|0363|150722|  OK|INA0|\n",
      "|79065668491956|  1|IXE|BLR|  9W|  9W|  71.1|USD|  1|   K|   K|2736|150720|  OK|INA0|\n",
      "|79065668492025|  1|BOM|JAI|  9W|  9W|  64.5|USD|  1|   V|   V|0416|150720|  OK|INA0|\n",
      "|79065668493473|  1|IXS|CCU|  9W|  9W| 36.62|USD|  1|   O|   O|2882|150819|  OK|INJ0|\n",
      "|79065668493473|  2|CCU|DEL|  9W|  9W| 71.69|USD|  1|   O|   O|0904|150819|  OK|INJ0|\n",
      "|79065668503651|  1|COK|AUH|  9W|  9W|176.56|USD|  1|   K|   K|0576|150925|  OK|INAQ|\n",
      "|79065668504592|  1|GOI|BOM|  9W|  9W|244.62|USD|  1|   Y|   Y|0427|150719|  OK|INA0|\n",
      "|79065668507456|  1|JAI|DEL|  S2|  9W| 22.02|USD|  1|   W|   W|7018|150720|  OK|INA0|\n",
      "|79065668453806|  1|MAA|DEL|  S2|  9W| 51.91|USD|  1|   B|   B|7056|151118|  OK|INA0|\n",
      "|79065668453808|  1|MAA|DEL|  S2|  9W| 51.91|USD|  1|   B|   B|7056|151118|  OK|INA0|\n",
      "|79065668453810|  1|MAA|DEL|  S2|  9W| 14.99|USD|  1|   B|   B|7056|151118|  NS|INAQ|\n",
      "|79065668455416|  1|DEL|BOM|  9W|  9W| 44.99|USD|  1|   B|   B|0352|150719|  OK|INA0|\n",
      "|79065668468345|  1|AMD|BOM|  S2|  9W| 16.06|USD|  1|   B|   B|7104|151022|  OK|INA0|\n",
      "|79065668469687|  1|IXE|BLR|  9W|  9W| 39.64|USD|  1|   O|   O|2756|150727|  OK|INA0|\n",
      "|79065668484127|  1|DEL|BOM|  9W|  9W| 44.99|USD|  1|   B|   B|0384|150719|  OK|INA0|\n",
      "|79065668506586|  1|NAG|BOM|  S2|  9W| 54.63|USD|  1|   H|   H|7005|150727|  OK|INJ0|\n",
      "|79065668506586|  2|BOM|BLR|  9W|  9W| 63.35|USD|  1|   H|   H|0394|150727|  OK|INJ0|\n",
      "|79065668508880|  1|LKO|DEL|  9W|  9W| 39.33|USD|  1|   O|   O|0367|151114|  OK|INA0|\n",
      "|79065668512613|  1|CCU|BOM|  9W|  9W|  82.2|USD|  1|   W|   W|0626|150722|  OK|INA0|\n",
      "|79065668513407|  1|BOM|DXB|  9W|  9W|105.22|USD|  1|   H|   H|0542|151106|  OK|INAQ|\n",
      "|79065668513407|  2|DXB|BOM|  9W|  9W| 47.97|USD|  2|   O|   O|0537|151110|  OK|INA0|\n",
      "|79065668514491|  1|DEL|UDR|  9W|  9W|108.55|USD|  1|   Q|   Q|2629|150721|  OK|INA0|\n",
      "|79065668513061|  1|BOM|DEL|  9W|  9W| 44.99|USD|  1|   B|   B|0361|150719|  OK|INA0|\n",
      "|79065668520944|  1|BOM|MAA|  9W|  9W|  43.5|USD|  1|   W|   W|0350|151025|  OK|INA0|\n",
      "|79065668521443|  1|BOM|CCU|  9W|  9W| 77.27|USD|  1|   W|   W|0617|150720|  OK|INA0|\n",
      "|79065668522693|  1|DEL|BOM|  9W|  9W| 44.99|USD|  1|   B|   B|0362|150719|  OK|INA0|\n",
      "|79065668523167|  1|DEL|CCU|  9W|  9W| 50.34|USD|  1|   W|   W|0903|150814|  OK|INA0|\n",
      "|79062005520373|  1|KWI|BOM|  9W|  9W|193.67|USD|  1|   K|   K|0573|150723|  OK|INJQ|\n",
      "|79062005520373|  2|BOM|CCJ|  9W|  9W| 64.66|USD|  1|   T|   T|0423|150723|  OK|INJ0|\n",
      "|79065668535577|  1|MAA|DEL|  9W|  9W|119.56|USD|  1|   H|   H|0830|150729|  OK|INA0|\n",
      "|79065668537923|  1|DEL|GAU|  9W|  9W| 91.24|USD|  1|   W|   W|0721|150823|  OK|INA0|\n",
      "|79065668538503|  1|AMD|LKO|  9W|  9W| 67.64|USD|  1|   V|   V|0689|150810|  OK|INA0|\n",
      "|79065668435703|  1|BOM|GOI|  9W|  9W| 30.68|USD|  1|   O|   O|0426|150719|  OK|INA0|\n",
      "|79065668440319|  1|IXJ|DEL|  S2|  9W| 37.28|USD|  1|   W|   W|7021|151024|  OK|INA0|\n",
      "|79065668450754|  1|JDH|DEL|  9W|  9W| 78.95|USD|  1|   Q|   Q|2552|150719|  OK|INA0|\n",
      "|79065668452620|  1|CCU|BOM|  9W|  9W|119.56|USD|  1|   H|   H|0626|150720|  OK|INA0|\n",
      "|79065668453322|  1|IXB|CCU|  9W|  9W| 34.61|USD|  1|   W|   W|0624|150720|  OK|INA0|\n",
      "|79065668493212|  1|MAA|CJB|  9W|  9W| 53.49|USD|  1|   V|   V|2767|150722|  OK|INA0|\n",
      "|79065668423871|  1|BOM|JAI|  9W|  9W|  64.5|USD|  1|   V|   V|0416|150804|  OK|INA0|\n",
      "|79065668440400|  1|AUH|HYD|  9W|  9W|144.29|USD|  1|   V|   V|0549|150815|  OK|INA0|\n",
      "|79065668454303|  1|BOM|LKO|  9W|  9W| 78.66|USD|  1|   O|   O|0359|150720|  OK|INA0|\n",
      "|79065668470367|  1|GAU|DEL|  9W|  9W| 49.65|USD|  1|   O|   O|0722|150805|  OK|INJ0|\n",
      "|79065668470367|  2|DEL|BLR|  9W|  9W| 55.97|USD|  1|   O|   O|0834|150805|  OK|INJ0|\n",
      "|79065668471264|  1|DEL|JAI|  S2|  9W| 22.02|USD|  1|   W|   W|7015|151017|  OK|INA0|\n",
      "|79065668420767|  1|AMD|BOM|  9W|  9W| 25.41|USD|  1|   W|   W|0411|150723|  OK|INA0|\n",
      "|79065668424672|  1|BOM|IDR|  9W|  9W| 48.77|USD|  1|   V|   V|2383|150719|  OK|INA0|\n",
      "|79065668424674|  1|BOM|IDR|  9W|  9W| 48.77|USD|  1|   V|   V|2383|150719|  OK|INA0|\n",
      "|79065668447100|  1|SXR|DEL|  9W|  9W| 78.95|USD|  1|   Q|   Q|0604|150720|  OK|INA0|\n",
      "|79065668448799|  1|HYD|PNQ|  9W|  9W| 53.49|USD|  1|   V|   V|2574|151102|  OK|INA0|\n",
      "|79065668457804|  1|DEL|MAA|  S2|  9W| 82.35|USD|  1|   O|   O|7039|151223|  OK|INA0|\n",
      "|79065668459547|  1|IXM|MAA|  9W|  9W| 41.84|USD|  1|   W|   W|2728|150722|  OK|INA0|\n",
      "|79065668476846|  1|GOI|BOM|  9W|  9W| 35.94|USD|  1|   T|   T|0627|150731|  OK|INJ0|\n",
      "|79065668476846|  2|BOM|BAH|  9W|  9W|171.89|USD|  1|   K|   K|0592|150731|  OK|INJQ|\n",
      "|79065668430736|  1|BOM|MAA|  9W|  9W| 73.54|USD|  1|   V|   V|0467|150719|  OK|INA0|\n",
      "|79065668461664|  1|COK|BOM|  9W|  9W| 52.46|USD|  1|   B|   B|0408|150724|  OK|INA0|\n",
      "|79065668461665|  1|COK|BOM|  9W|  9W| 52.46|USD|  1|   B|   B|0408|150724|  OK|INA0|\n",
      "|79065668461667|  1|COK|BOM|  9W|  9W| 52.46|USD|  1|   B|   B|0408|150724|  OK|INA0|\n",
      "|79065668462044|  1|DEL|BLR|  9W|  9W|  64.5|USD|  1|   W|   W|0827|150728|  OK|INA0|\n",
      "|79065668463611|  1|PNQ|BOM|  9W|  9W| 39.34|USD|  1|   K|   K|0617|150721|  OK|INJ0|\n",
      "|79065668463611|  2|BOM|BDQ|  9W|  9W| 86.31|USD|  1|   K|   K|0343|150721|  OK|INJ0|\n",
      "|79065668466897|  1|DEL|HYD|  9W|  9W| 79.85|USD|  1|   H|   H|2627|150721|  OK|INA0|\n",
      "|79065668507563|  1|DEL|BLR|  S2|  9W|103.83|USD|  1|   H|   H|7125|150720|  OK|INA0|\n",
      "|79065668423387|  1|LHR|BOM|  9W|  9W| 57.35|USD|  1|   V|   V|0119|150914|  OK|IAF0|\n",
      "|79065668423387|  2|BOM|GOI|  9W|  9W|  5.79|USD|  1|   T|   T|0446|150915|  OK|IAN0|\n",
      "|79065668423387|  3|GOI|BOM|  9W|  9W|  5.79|USD|  1|   T|   T|0480|150926|  OK|IAN0|\n",
      "|79065668423387|  4|BOM|LHR|  9W|  9W| 57.35|USD|  1|   V|   V|0118|150926|  OK|IAF0|\n",
      "|79065668430851|  1|BOM|MAA|  9W|  9W| 53.41|USD|  1|   V|   V|0463|150723|  OK|INA0|\n",
      "|79065668453926|  1|DEL|BOM|  9W|  9W| 29.89|USD|  1|   B|   B|0373|150918|  OK|INA0|\n",
      "|79065668454719|  1|MAA|BDQ|  9W|  9W| 59.78|USD|  1|   W|   W|0460|150804|  OK|INA0|\n",
      "|79065668455222|  1|CCU|BOM|  9W|  9W| 139.0|USD|  1|   K|   K|0616|150722|  OK|INA0|\n",
      "|79065668455759|  1|MAA|IXZ|  9W|  9W| 65.28|USD|  1|   B|   B|0613|150720|  OK|INA0|\n",
      "|79065668461655|  1|ATQ|DEL|  9W|  9W| 33.04|USD|  1|   W|   W|0739|150803|  OK|INA0|\n",
      "|79065668435413|  1|MAA|CJB|  9W|  9W| 50.34|USD|  1|   V|   V|2349|150719|  OK|INA0|\n",
      "|79065668443907|  1|MAA|BOM|  9W|  9W|167.77|USD|  1|   Q|   Q|0462|150719|  OK|INAQ|\n",
      "|79065668449810|  1|DEL|KTM|  9W|  9W| 18.39|USD|  1|   B|   B|0264|150724|  OK|INAQ|\n",
      "+--------------+---+---+---+----+----+------+---+---+----+----+----+------+----+----+\n",
      "only showing top 600 rows\n",
      "\n"
     ]
    }
   ],
   "source": [
    "raw_coupons.show(600)"
   ]
  },
  {
   "cell_type": "code",
   "execution_count": 46,
   "metadata": {},
   "outputs": [
    {
     "name": "stdout",
     "output_type": "stream",
     "text": [
      "+--------------+---+---+---+---+---+------+\n",
      "|           _c0|_c1|_c2|_c3|_c4|_c5|   _c6|\n",
      "+--------------+---+---+---+---+---+------+\n",
      "|79062005639642|  4|BRU|MAD| UX| UX| 21.02|\n",
      "|79065668754871|  6|BRU|MAD| SN| 9W| 27.66|\n",
      "|79065668917696|  2|CDG|MAD| AF| AF| 46.97|\n",
      "|79062006133090|  2|CDG|MAD| AF| AF|  3.38|\n",
      "|79062006110497|  1|CDG|MAD| AF| AF| 26.02|\n",
      "|79062006110505|  1|CDG|MAD| AF| AF| 26.02|\n",
      "|79062006137072|  3|ORY|MAD| UX| AF|  87.2|\n",
      "|79062006116586|  2|CDG|MAD| AF| AF| 31.51|\n",
      "|79062006128336|  4|CDG|MAD| AF| AF| 26.63|\n",
      "|79062006163025|  2|JFK|MAD| DL| AF|110.28|\n",
      "|79062006146358|  2|PRG|MAD| IB| OK| 72.03|\n",
      "|79062006146359|  2|PRG|MAD| IB| OK| 72.03|\n",
      "|79062006025679|  1|PRG|MAD| OK| OK| 82.16|\n",
      "|79062006015995|  4|CDG|MAD| AF| AF|158.96|\n",
      "|79062006060426|  1|ORY|MAD| UX| AF|141.23|\n",
      "|79062006070095|  1|ORY|MAD| UX| AF| 85.53|\n",
      "|79062006074377|  1|CDG|MAD| AF| AF| 85.53|\n",
      "|79062006078177|  2|CDG|MAD| AF| AF|  9.11|\n",
      "|79062006080228|  2|CDG|MAD| AF| AF| 20.25|\n",
      "|79062005980557|  1|CDG|MAD| AF| AF|  6.74|\n",
      "+--------------+---+---+---+---+---+------+\n",
      "only showing top 20 rows\n",
      "\n"
     ]
    }
   ],
   "source": [
    "raw_coupons.registerTempTable(\"records\")\n",
    "ndf = session.sql('select _c0, _c1, _c2, _c3, _c4, _c5, _c6 from records where _c3 = \"MAD\"').show()"
   ]
  },
  {
   "cell_type": "code",
   "execution_count": null,
   "metadata": {
    "collapsed": true
   },
   "outputs": [],
   "source": []
  },
  {
   "cell_type": "markdown",
   "metadata": {},
   "source": [
    "#### Exercise\n",
    "\n",
    "Repeat the exercise from the previous notebook, but this time with DataFrames.\n",
    "\n",
    "Get stats for all tickets with destination MAD from `coupons150720.csv`.\n",
    "\n",
    "You will need to extract ticket amounts with destination MAD, and then calculate:\n",
    "\n",
    "1. Total ticket amounts per origin\n",
    "2. Top 10 airlines by average amount"
   ]
  },
  {
   "cell_type": "code",
   "execution_count": null,
   "metadata": {
    "collapsed": true
   },
   "outputs": [],
   "source": []
  },
  {
   "cell_type": "markdown",
   "metadata": {},
   "source": [
    "## Further Reading\n",
    "\n",
    "https://databricks.com/blog/2016/07/14/a-tale-of-three-apache-spark-apis-rdds-dataframes-and-datasets.html\n",
    "\n",
    "https://www.datacamp.com/community/tutorials/apache-spark-python\n",
    "\n",
    "https://spark.apache.org/docs/2.2.0/sql-programming-guide.html\n",
    "\n",
    "https://ogirardot.wordpress.com/2015/05/29/rdds-are-the-new-bytecode-of-apache-spark/\n",
    "\n",
    "https://stackoverflow.com/questions/36822224/what-are-the-pros-and-cons-of-parquet-format-compared-to-other-formats\n",
    "\n"
   ]
  }
 ],
 "metadata": {
  "anaconda-cloud": {},
  "kernelspec": {
   "display_name": "Python 3",
   "language": "python",
   "name": "python3"
  },
  "language_info": {
   "codemirror_mode": {
    "name": "ipython",
    "version": 3
   },
   "file_extension": ".py",
   "mimetype": "text/x-python",
   "name": "python",
   "nbconvert_exporter": "python",
   "pygments_lexer": "ipython3",
   "version": "3.6.2"
  }
 },
 "nbformat": 4,
 "nbformat_minor": 2
}
