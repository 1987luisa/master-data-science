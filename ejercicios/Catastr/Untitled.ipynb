{
 "cells": [
  {
   "cell_type": "code",
   "execution_count": 1,
   "metadata": {},
   "outputs": [
    {
     "name": "stdout",
     "output_type": "stream",
     "text": [
      "Yeah, you are god\n"
     ]
    }
   ],
   "source": [
    "imgod = 'yeah im god /n because...'\n",
    "\n",
    "if imgod.startswith('yeah'):\n",
    "        print('Yeah, you are god')\n",
    "else:\n",
    "        print('disgusting')"
   ]
  },
  {
   "cell_type": "code",
   "execution_count": 2,
   "metadata": {
    "collapsed": true
   },
   "outputs": [],
   "source": [
    "!git add ."
   ]
  },
  {
   "cell_type": "code",
   "execution_count": 3,
   "metadata": {},
   "outputs": [
    {
     "name": "stdout",
     "output_type": "stream",
     "text": [
      "[master 6214fae] New Exercises and tryings to enter to the catastro CSV.\r\n",
      " 4 files changed, 9340 insertions(+)\r\n",
      " create mode 100644 ejercicios/Catastr/.ipynb_checkpoints/Catastry-checkpoint.ipynb\r\n",
      " create mode 100644 ejercicios/Catastr/.ipynb_checkpoints/Untitled-checkpoint.ipynb\r\n",
      " create mode 100644 ejercicios/Catastr/Catastry.ipynb\r\n",
      " create mode 100644 ejercicios/Catastr/Untitled.ipynb\r\n"
     ]
    }
   ],
   "source": [
    "!git commit"
   ]
  },
  {
   "cell_type": "code",
   "execution_count": null,
   "metadata": {
    "collapsed": true
   },
   "outputs": [],
   "source": []
  }
 ],
 "metadata": {
  "kernelspec": {
   "display_name": "Python 3",
   "language": "python",
   "name": "python3"
  },
  "language_info": {
   "codemirror_mode": {
    "name": "ipython",
    "version": 3
   },
   "file_extension": ".py",
   "mimetype": "text/x-python",
   "name": "python",
   "nbconvert_exporter": "python",
   "pygments_lexer": "ipython3",
   "version": "3.6.2"
  }
 },
 "nbformat": 4,
 "nbformat_minor": 2
}
