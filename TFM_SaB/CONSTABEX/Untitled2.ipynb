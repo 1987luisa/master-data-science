{
 "cells": [
  {
   "cell_type": "code",
   "execution_count": 31,
   "metadata": {
    "collapsed": true
   },
   "outputs": [],
   "source": [
    "import numpy as np"
   ]
  },
  {
   "cell_type": "code",
   "execution_count": 27,
   "metadata": {},
   "outputs": [],
   "source": [
    "yeswords = [\"Whoops! It looks like a typical delayed project!\\n\", \"I also think the team will suffer delays with that budget.\\n\",\"Me too! Somebody should have some words with whoever is responsible of planning.\\n\"]\n",
    "nowords=[\"Well, I don't see problems at all with this project.\\n\", \"It looks fine to me.\\n\", \"Everithing OK! It seems like a some construction manager has done a good planning job!\\n\"]\n",
    "team={'kanye':0,'logreg':1,'Randfor':0}"
   ]
  },
  {
   "cell_type": "code",
   "execution_count": 64,
   "metadata": {},
   "outputs": [
    {
     "data": {
      "text/plain": [
       "[0, 1, 0]"
      ]
     },
     "execution_count": 64,
     "metadata": {},
     "output_type": "execute_result"
    }
   ],
   "source": [
    "list(team.values()  )   \n"
   ]
  },
  {
   "cell_type": "code",
   "execution_count": 79,
   "metadata": {},
   "outputs": [
    {
     "data": {
      "text/plain": [
       "[\"Well, I don't see problems at all with this project.\\n\",\n",
       " 'Whoops! It looks like a typical delayed project!\\n',\n",
       " 'It looks fine to me.\\n']"
      ]
     },
     "execution_count": 79,
     "metadata": {},
     "output_type": "execute_result"
    }
   ],
   "source": [
    "def listcreator():\n",
    "    a =[]\n",
    "    n=0\n",
    "    m=0\n",
    "    for i in team.values():\n",
    "        if i == 0:\n",
    "            a.append(nowords[n])\n",
    "            n+=1\n",
    "        else:\n",
    "            a.append(yeswords[m])\n",
    "            m+=1\n",
    "    return a\n",
    "lisi = listcreator()\n",
    "lisi "
   ]
  },
  {
   "cell_type": "code",
   "execution_count": 76,
   "metadata": {},
   "outputs": [
    {
     "data": {
      "text/plain": [
       "['Whoops! It looks like a typical delayed project!\\n',\n",
       " 'I also think the team will suffer delays with that budget.\\n',\n",
       " 'Me too! Somebody should have some words with whoever is responsible of planning.\\n']"
      ]
     },
     "execution_count": 76,
     "metadata": {},
     "output_type": "execute_result"
    }
   ],
   "source": [
    "yeswords"
   ]
  },
  {
   "cell_type": "code",
   "execution_count": null,
   "metadata": {
    "collapsed": true
   },
   "outputs": [],
   "source": []
  }
 ],
 "metadata": {
  "kernelspec": {
   "display_name": "Python 3",
   "language": "python",
   "name": "python3"
  },
  "language_info": {
   "codemirror_mode": {
    "name": "ipython",
    "version": 3
   },
   "file_extension": ".py",
   "mimetype": "text/x-python",
   "name": "python",
   "nbconvert_exporter": "python",
   "pygments_lexer": "ipython3",
   "version": "3.6.3"
  }
 },
 "nbformat": 4,
 "nbformat_minor": 2
}
