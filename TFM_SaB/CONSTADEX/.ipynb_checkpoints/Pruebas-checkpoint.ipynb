{
 "cells": [
  {
   "cell_type": "markdown",
   "metadata": {},
   "source": [
    "#  PRUEBAS"
   ]
  },
  {
   "cell_type": "code",
   "execution_count": 1,
   "metadata": {
    "collapsed": true
   },
   "outputs": [],
   "source": [
    "import pandas as pd\n",
    "import random as rnd\n",
    "import numpy as np\n",
    "\n",
    "%matplotlib inline"
   ]
  },
  {
   "cell_type": "code",
   "execution_count": 2,
   "metadata": {
    "collapsed": true
   },
   "outputs": [],
   "source": [
    "\n",
    "\n",
    "# const_ruido=pd.DataFrame.from_dict({'modul_precio':np.random.normal(600,260,1000), \n",
    "#                                     \"retrasos_sems\":np.random.normal(15,20,1000)})\n",
    "\n",
    "# const_ruido2=pd.DataFrame.from_dict({'modul_precio':np.random.normal(600,260,500), \n",
    "#                                     \"retrasos_sems\":np.random.normal(15,20,500)})\n",
    "\n",
    "# constot=pd.concat([const_ruido,const_ruido2])\n",
    "\n",
    "# print(constot.describe())\n",
    "\n",
    "# const_ruido.plot.scatter(x='modul_precio', y='retrasos_sems', title=\"restrasos VS mod.Precio\", alpha=0.1)"
   ]
  },
  {
   "cell_type": "code",
   "execution_count": null,
   "metadata": {
    "collapsed": true
   },
   "outputs": [],
   "source": [
    "# # Los costes \"aceptables\" variarán de los 390€/m2 a los 610€/m2. Con mínimos en 215€ y máximos en 1100€/m2.\n",
    "\n",
    "\n",
    "\n",
    "\n",
    "# const_ruido=pd.DataFrame.from_dict({'modul_precio':ranl(445,1136,450), \n",
    "#                                     \"retrasos_sems\":ranl(0,73,450),\n",
    "#                                     \"duracion_sems\":ranl(12,121,450),\n",
    "#                                     \"superf_const\": ranl(110,11352,450)})\n",
    "\n",
    "# print(const_ruido.describe())\n",
    "\n",
    "# const_ruido2=pd.DataFrame.from_dict({'modul_precio':ranl(341,1312,250), \n",
    "#                                     \"retrasos_sems\":ranl(0,40,250),\n",
    "#                                     \"duracion_sems\":ranl(7,112,250),\n",
    "#                                     \"superf_const\": ranl(97,7350,250)})\n",
    "\n",
    "# print(const_ruido2.describe())\n",
    "\n",
    "# const_ruido3=pd.DataFrame.from_dict({'modul_precio':ranl(189,780,100), \n",
    "#                                     \"retrasos_sems\":ranl(0,7,100),\n",
    "#                                     \"duracion_sems\":ranl(34,121,100),\n",
    "#                                     \"superf_const\": ranl(1020,22213,100)})\n",
    "# print(const_ruido3.describe())\n",
    "\n",
    "# const_ruido4=pd.DataFrame.from_dict({'modul_precio':ranl(189,857,632), \n",
    "#                                     \"retrasos_sems\":ranl(0,13,632),\n",
    "#                                     \"duracion_sems\":ranl(28,97,632),\n",
    "#                                     \"superf_const\": ranl(4220,12213,632)})\n",
    "\n",
    "# print(const_ruido4.describe())\n",
    "\n",
    "\n",
    "# const_tot = pd.concat([const_ruido2 , const_ruido,const_ruido3,const_ruido4])\n"
   ]
  }
 ],
 "metadata": {
  "kernelspec": {
   "display_name": "Python 3",
   "language": "python",
   "name": "python3"
  },
  "language_info": {
   "codemirror_mode": {
    "name": "ipython",
    "version": 3
   },
   "file_extension": ".py",
   "mimetype": "text/x-python",
   "name": "python",
   "nbconvert_exporter": "python",
   "pygments_lexer": "ipython3",
   "version": "3.6.3"
  }
 },
 "nbformat": 4,
 "nbformat_minor": 2
}
