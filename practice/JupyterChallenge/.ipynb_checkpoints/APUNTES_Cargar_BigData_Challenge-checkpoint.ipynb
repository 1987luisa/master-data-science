{
 "cells": [
  {
   "cell_type": "markdown",
   "metadata": {
    "collapsed": true
   },
   "source": [
    "## Top 10 arrival airports in the world in 2013 (using the bookings file)\n",
    "\n",
    "Arrival airport is the column arr_port. It is the IATA code for the airport\n",
    "\n",
    "To get the total number of passengers for an airport, you can sum the \"pax\" column, grouping by arr_port.\n",
    "\n",
    "Note that there is negative pax. That corresponds to cancelations. So to get the total number of passengers that have actually booked, you should sum including the negatives (that will remove the canceled bookings).\n",
    "\n",
    "Print the top 10 arrival airports in the standard output, including the number of passengers.\n",
    "\n",
    "Bonus point: Get the name of the city or airport corresponding to that airport (programatically, we suggest to have a look at GeoBases in Github)\n",
    "\n",
    "Bonus point: Solve this problem using pandas (instead of any other approach)\n"
   ]
  },
  {
   "cell_type": "markdown",
   "metadata": {},
   "source": [
    "Suggestion: follow the below plan of action:\n",
    "\n",
    "* Get familiar with the data\n",
    "* Select columns of interest\n",
    "* Decide what to do with NaNs\n",
    "\n",
    "* Make processing plan\n",
    "* Develop code that works with a sample\n",
    "\n",
    "* Adjust the code to work with Big data\n",
    "* Test big data approach on a sample\n",
    "\n",
    "* Run program with big data\n"
   ]
  },
  {
   "cell_type": "markdown",
   "metadata": {},
   "source": [
    "## 1) Get familiar with data"
   ]
  },
  {
   "cell_type": "code",
   "execution_count": 1,
   "metadata": {
    "collapsed": true
   },
   "outputs": [],
   "source": [
    "import pandas as pd\n",
    "import numpy as np\n",
    "import matplotlib.pyplot as plt\n",
    "%matplotlib inline\n",
    "plt.style.use('ggplot')\n",
    "\n",
    "file = '../../../../Data/challenge/bookings.csv'\n"
   ]
  },
  {
   "cell_type": "code",
   "execution_count": 3,
   "metadata": {},
   "outputs": [
    {
     "name": "stdout",
     "output_type": "stream",
     "text": [
      "/home/dsc/Repositories/master-data-science/practice/JupyterChallenge\n"
     ]
    }
   ],
   "source": [
    "cd /home/dsc/Repositories/master-data-science/practice/JupyterChallenge\n"
   ]
  },
  {
   "cell_type": "code",
   "execution_count": 17,
   "metadata": {},
   "outputs": [
    {
     "name": "stdout",
     "output_type": "stream",
     "text": [
      "\r\n",
      "bzcat: I/O or other error, bailing out.  Possible reason follows.\r\n",
      "bzcat: Broken pipe\r\n",
      "\tInput file = ./../../../../Data/challenge/bookings.csv.bz2, output file = (stdout)\r\n"
     ]
    }
   ],
   "source": [
    "!bzcat ./../../../../Data/challenge/bookings.csv.bz2 | head -n 100000 > bookings.sample.csv"
   ]
  },
  {
   "cell_type": "code",
   "execution_count": 2,
   "metadata": {},
   "outputs": [
    {
     "name": "stdout",
     "output_type": "stream",
     "text": [
      "-rw-rw-r-- 1 dsc dsc 41M Jan 26 21:10 bookings.sample.csv\r\n"
     ]
    }
   ],
   "source": [
    "!ls  -lah bookings.sample.csv"
   ]
  },
  {
   "cell_type": "markdown",
   "metadata": {},
   "source": [
    "### What if we dont want to read the whole file?"
   ]
  },
  {
   "cell_type": "markdown",
   "metadata": {},
   "source": [
    "Options:\n",
    "\n",
    "* prepare the sample\n",
    "\n",
    "* read_csv with nrows option"
   ]
  },
  {
   "cell_type": "code",
   "execution_count": 20,
   "metadata": {},
   "outputs": [
    {
     "data": {
      "text/plain": [
       "(10000, 38)"
      ]
     },
     "execution_count": 20,
     "metadata": {},
     "output_type": "execute_result"
    }
   ],
   "source": [
    "sample_df = pd.read_csv(file, sep='^',skip_blank_lines=True,nrows=10000)\n",
    "sample_df.shape"
   ]
  },
  {
   "cell_type": "markdown",
   "metadata": {},
   "source": [
    "Clean the column names"
   ]
  },
  {
   "cell_type": "code",
   "execution_count": 21,
   "metadata": {
    "collapsed": true
   },
   "outputs": [],
   "source": [
    "# le quitamos los espacios.\n",
    "sample_df.columns = sample_df.columns.str.strip()\n"
   ]
  },
  {
   "cell_type": "markdown",
   "metadata": {},
   "source": [
    "## 2) Select the columns of interest "
   ]
  },
  {
   "cell_type": "code",
   "execution_count": 23,
   "metadata": {},
   "outputs": [
    {
     "data": {
      "text/html": [
       "<div>\n",
       "<style>\n",
       "    .dataframe thead tr:only-child th {\n",
       "        text-align: right;\n",
       "    }\n",
       "\n",
       "    .dataframe thead th {\n",
       "        text-align: left;\n",
       "    }\n",
       "\n",
       "    .dataframe tbody tr th {\n",
       "        vertical-align: top;\n",
       "    }\n",
       "</style>\n",
       "<table border=\"1\" class=\"dataframe\">\n",
       "  <thead>\n",
       "    <tr style=\"text-align: right;\">\n",
       "      <th></th>\n",
       "      <th>arr_port</th>\n",
       "      <th>off_time</th>\n",
       "      <th>pax</th>\n",
       "    </tr>\n",
       "  </thead>\n",
       "  <tbody>\n",
       "    <tr>\n",
       "      <th>0</th>\n",
       "      <td>LHR</td>\n",
       "      <td>2013-03-07 11:33:37</td>\n",
       "      <td>-1</td>\n",
       "    </tr>\n",
       "    <tr>\n",
       "      <th>1</th>\n",
       "      <td>CLT</td>\n",
       "      <td>2013-04-12 22:05:40</td>\n",
       "      <td>1</td>\n",
       "    </tr>\n",
       "    <tr>\n",
       "      <th>2</th>\n",
       "      <td>CLT</td>\n",
       "      <td>2013-07-15 11:34:51</td>\n",
       "      <td>1</td>\n",
       "    </tr>\n",
       "    <tr>\n",
       "      <th>3</th>\n",
       "      <td>SVO</td>\n",
       "      <td>2013-04-25 16:06:31</td>\n",
       "      <td>1</td>\n",
       "    </tr>\n",
       "    <tr>\n",
       "      <th>4</th>\n",
       "      <td>SVO</td>\n",
       "      <td>2013-05-16 10:44:50</td>\n",
       "      <td>1</td>\n",
       "    </tr>\n",
       "  </tbody>\n",
       "</table>\n",
       "</div>"
      ],
      "text/plain": [
       "   arr_port             off_time  pax\n",
       "0  LHR       2013-03-07 11:33:37   -1\n",
       "1  CLT       2013-04-12 22:05:40    1\n",
       "2  CLT       2013-07-15 11:34:51    1\n",
       "3  SVO       2013-04-25 16:06:31    1\n",
       "4  SVO       2013-05-16 10:44:50    1"
      ]
     },
     "execution_count": 23,
     "metadata": {},
     "output_type": "execute_result"
    }
   ],
   "source": [
    "sample_df['arr_port']\n",
    "sample_df['off_time'].iloc[0][:4]\n",
    "sample_cols = sample_df[['arr_port','off_time','pax']]\n",
    "sample_cols.head()"
   ]
  },
  {
   "cell_type": "markdown",
   "metadata": {},
   "source": [
    " 3) What to do with NaN?\n",
    "\n"
   ]
  },
  {
   "cell_type": "code",
   "execution_count": 24,
   "metadata": {},
   "outputs": [
    {
     "data": {
      "text/plain": [
       "arr_port    0\n",
       "off_time    0\n",
       "pax         0\n",
       "dtype: int64"
      ]
     },
     "execution_count": 24,
     "metadata": {},
     "output_type": "execute_result"
    }
   ],
   "source": [
    "sample_cols.isnull().sum()"
   ]
  },
  {
   "cell_type": "code",
   "execution_count": null,
   "metadata": {
    "collapsed": true
   },
   "outputs": [],
   "source": [
    "nulls_per_airport = sample_cols.groupby('arr_port').apply(lambda df : df.isnull.sum())\n",
    "nulls_per_airport.head()"
   ]
  },
  {
   "cell_type": "markdown",
   "metadata": {},
   "source": [
    "In the sample everything might be ok, but we should prepare for NaN case"
   ]
  },
  {
   "cell_type": "code",
   "execution_count": null,
   "metadata": {
    "collapsed": true
   },
   "outputs": [],
   "source": []
  },
  {
   "cell_type": "markdown",
   "metadata": {},
   "source": [
    "## 4) Make processing plan\n",
    "1) get only the bookings from 2013\n",
    "\n",
    "2) group by arr_port, sum\n",
    "\n",
    "3) sort \n",
    "\n",
    "4) get top 10"
   ]
  },
  {
   "cell_type": "markdown",
   "metadata": {},
   "source": [
    "#### 4.1) Get only the booking from 2013"
   ]
  },
  {
   "cell_type": "code",
   "execution_count": 29,
   "metadata": {
    "collapsed": true
   },
   "outputs": [],
   "source": [
    "arrivals_2013 = sample_cols['off_time'].str[:4] == '2013'\n",
    "sample_cols = sample_cols[arrivals_2013]"
   ]
  },
  {
   "cell_type": "markdown",
   "metadata": {},
   "source": [
    "#### 4.2) group by arr_port, sum"
   ]
  },
  {
   "cell_type": "code",
   "execution_count": 31,
   "metadata": {
    "collapsed": true,
    "scrolled": true
   },
   "outputs": [],
   "source": [
    "pax_per_airport = sample_cols.groupby('arr_port')['pax'].sum()"
   ]
  },
  {
   "cell_type": "code",
   "execution_count": null,
   "metadata": {
    "collapsed": true
   },
   "outputs": [],
   "source": [
    "# 4.3,4)sort,get top10"
   ]
  },
  {
   "cell_type": "code",
   "execution_count": null,
   "metadata": {
    "collapsed": true
   },
   "outputs": [],
   "source": [
    "pax_per_airport.sort_values(ascending=False).head(10)"
   ]
  },
  {
   "cell_type": "markdown",
   "metadata": {},
   "source": [
    "## 5) Adjust the code to work with Big data\n",
    "\n",
    "\n",
    "Hint: check out https://pandas.pydata.org/pandas-docs/stable/io.html#io-chunking"
   ]
  },
  {
   "cell_type": "code",
   "execution_count": 8,
   "metadata": {
    "collapsed": true
   },
   "outputs": [],
   "source": [
    "chunks = pd.read_csv(file, sep='^',skip_blank_lines=True,nrows=10000000,chunksize=1000000)"
   ]
  },
  {
   "cell_type": "markdown",
   "metadata": {},
   "source": [
    "### We have to read the whole file, but with nrows we are reading always the first N rows\n"
   ]
  },
  {
   "cell_type": "code",
   "execution_count": null,
   "metadata": {
    "collapsed": true
   },
   "outputs": [],
   "source": []
  },
  {
   "cell_type": "code",
   "execution_count": null,
   "metadata": {
    "collapsed": true
   },
   "outputs": [],
   "source": []
  },
  {
   "cell_type": "code",
   "execution_count": 9,
   "metadata": {},
   "outputs": [
    {
     "name": "stdout",
     "output_type": "stream",
     "text": [
      "0\n",
      "1\n",
      "2\n",
      "3\n",
      "4\n"
     ]
    },
    {
     "name": "stderr",
     "output_type": "stream",
     "text": [
      "/home/dsc/anaconda3/lib/python3.6/site-packages/IPython/core/interactiveshell.py:2698: DtypeWarning: Columns (7,8,27) have mixed types. Specify dtype option on import or set low_memory=False.\n",
      "  interactivity=interactivity, compiler=compiler, result=result)\n"
     ]
    },
    {
     "name": "stdout",
     "output_type": "stream",
     "text": [
      "5\n",
      "6\n",
      "7\n",
      "8\n",
      "9\n"
     ]
    },
    {
     "data": {
      "text/plain": [
       "arr_port\n",
       "AAB            3\n",
       "AAE           81\n",
       "AAL           75\n",
       "AAN            2\n",
       "AAQ          165\n",
       "AAR           50\n",
       "ABA            9\n",
       "ABB            4\n",
       "ABE           83\n",
       "ABI           15\n",
       "ABJ          250\n",
       "ABK            0\n",
       "ABQ          404\n",
       "ABR            0\n",
       "ABS           31\n",
       "ABT           29\n",
       "ABV          188\n",
       "ABX           30\n",
       "ABY            9\n",
       "ABZ          358\n",
       "ACA           69\n",
       "ACC          353\n",
       "ACE          155\n",
       "ACH            2\n",
       "ACI            4\n",
       "ACK           20\n",
       "ACT           16\n",
       "ACV           14\n",
       "ACY           19\n",
       "ADA           98\n",
       "            ... \n",
       "ZAZ            5\n",
       "ZBF           11\n",
       "ZBL            9\n",
       "ZCL           15\n",
       "ZCO           58\n",
       "ZDH            4\n",
       "ZFQ            4\n",
       "ZFV           12\n",
       "ZHA            0\n",
       "ZIG            4\n",
       "ZIH           68\n",
       "ZLN            0\n",
       "ZLO           49\n",
       "ZNE          138\n",
       "ZNZ           94\n",
       "ZOS            4\n",
       "ZQN          136\n",
       "ZRH         1905\n",
       "ZSA            1\n",
       "ZSE            1\n",
       "ZTH            5\n",
       "ZUH            4\n",
       "ZVE            4\n",
       "ZVJ            2\n",
       "ZVK            2\n",
       "ZWE            3\n",
       "ZWS           57\n",
       "ZYL           86\n",
       "ZYN            2\n",
       "ZYR          102\n",
       "Name: pax, Length: 2261, dtype: int64"
      ]
     },
     "execution_count": 9,
     "metadata": {},
     "output_type": "execute_result"
    }
   ],
   "source": [
    "partial_results =[]\n",
    "chunk_num= 0\n",
    "for chunk in chunks:\n",
    "    chunk.columns = chunk.columns.str.strip()\n",
    "    chunk =chunk[['arr_port','off_time', 'pax']]\n",
    "    chunk = chunk [chunk['off_time'].str[:4] == '2013']\n",
    "    \n",
    "    partial_results = chunk.groupby('arr_port')['pax'].sum()\n",
    "    \n",
    "    partial_results.append(partial_results)\n",
    "    print(chunk_num)\n",
    "    chunk_num +=1\n",
    "    \n",
    "partial_results"
   ]
  },
  {
   "cell_type": "code",
   "execution_count": null,
   "metadata": {
    "collapsed": true
   },
   "outputs": [],
   "source": [
    "s = pd.concat(partial_results)\n",
    "s.groupby('arr_port').sum().sort_values(ascending=False).head()"
   ]
  },
  {
   "cell_type": "markdown",
   "metadata": {},
   "source": [
    "#### Now we need to put together the results from all the chunks"
   ]
  },
  {
   "cell_type": "markdown",
   "metadata": {
    "collapsed": true
   },
   "source": [
    "Options:\n",
    "\n",
    "* df.append()\n",
    "\n",
    "* pd.concat()\n",
    "    "
   ]
  },
  {
   "cell_type": "markdown",
   "metadata": {},
   "source": [
    "#### 1) df.append()"
   ]
  },
  {
   "cell_type": "code",
   "execution_count": null,
   "metadata": {
    "collapsed": true
   },
   "outputs": [],
   "source": []
  },
  {
   "cell_type": "markdown",
   "metadata": {},
   "source": [
    "#### 2) pd.concat()"
   ]
  },
  {
   "cell_type": "code",
   "execution_count": null,
   "metadata": {
    "collapsed": true
   },
   "outputs": [],
   "source": []
  },
  {
   "cell_type": "markdown",
   "metadata": {},
   "source": [
    "## Complete Solution"
   ]
  },
  {
   "cell_type": "code",
   "execution_count": null,
   "metadata": {
    "collapsed": true
   },
   "outputs": [],
   "source": []
  }
 ],
 "metadata": {
  "kernelspec": {
   "display_name": "Python 3",
   "language": "python",
   "name": "python3"
  },
  "language_info": {
   "codemirror_mode": {
    "name": "ipython",
    "version": 3
   },
   "file_extension": ".py",
   "mimetype": "text/x-python",
   "name": "python",
   "nbconvert_exporter": "python",
   "pygments_lexer": "ipython3",
   "version": "3.6.2"
  }
 },
 "nbformat": 4,
 "nbformat_minor": 1
}
