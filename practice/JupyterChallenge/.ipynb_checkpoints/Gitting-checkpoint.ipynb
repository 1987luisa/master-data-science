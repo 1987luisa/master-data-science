{
 "cells": [
  {
   "cell_type": "code",
   "execution_count": 35,
   "metadata": {},
   "outputs": [
    {
     "data": {
      "text/plain": [
       "'/home/dsc/Repositories'"
      ]
     },
     "execution_count": 35,
     "metadata": {},
     "output_type": "execute_result"
    }
   ],
   "source": [
    "pwd"
   ]
  },
  {
   "cell_type": "code",
   "execution_count": 2,
   "metadata": {},
   "outputs": [
    {
     "name": "stdout",
     "output_type": "stream",
     "text": [
      "/home/dsc\n"
     ]
    }
   ],
   "source": [
    "cd ..\n"
   ]
  },
  {
   "cell_type": "code",
   "execution_count": 3,
   "metadata": {},
   "outputs": [
    {
     "name": "stdout",
     "output_type": "stream",
     "text": [
      "/home\n"
     ]
    }
   ],
   "source": [
    "cd ..\n"
   ]
  },
  {
   "cell_type": "code",
   "execution_count": 21,
   "metadata": {},
   "outputs": [
    {
     "name": "stdout",
     "output_type": "stream",
     "text": [
      "./dsc/Repositories/master-data-science\r\n"
     ]
    }
   ],
   "source": [
    "!find -maxdepth 3 -type d -iname 'master*'"
   ]
  },
  {
   "cell_type": "code",
   "execution_count": 22,
   "metadata": {},
   "outputs": [
    {
     "name": "stdout",
     "output_type": "stream",
     "text": [
      "/home/dsc/Repositories/master-data-science\n"
     ]
    }
   ],
   "source": [
    "cd ./dsc/Repositories/master-data-science"
   ]
  },
  {
   "cell_type": "code",
   "execution_count": 23,
   "metadata": {},
   "outputs": [
    {
     "name": "stdout",
     "output_type": "stream",
     "text": [
      "\u001b[0m\u001b[01;34mHist_cmd\u001b[0m/  \u001b[01;34mpractice\u001b[0m/  README.md\r\n"
     ]
    }
   ],
   "source": [
    "#Este archivo tiene cambios. deberían visualizarse en la web github"
   ]
  },
  {
   "cell_type": "code",
   "execution_count": 1,
   "metadata": {
    "collapsed": true
   },
   "outputs": [],
   "source": [
    "!git add .\n"
   ]
  },
  {
   "cell_type": "code",
   "execution_count": 4,
   "metadata": {},
   "outputs": [
    {
     "name": "stdout",
     "output_type": "stream",
     "text": [
      "Counting objects: 6, done.\n",
      "Delta compression using up to 4 threads.\n",
      "Compressing objects: 100% (6/6), done.\n",
      "Writing objects: 100% (6/6), 1.12 KiB | 286.00 KiB/s, done.\n",
      "Total 6 (delta 1), reused 0 (delta 0)\n",
      "remote: Resolving deltas: 100% (1/1), completed with 1 local object.\u001b[K\n",
      "To https://github.com/hguadalupe/master-data-science.git\n",
      "   c8305bf..c5d59df  master -> master\n"
     ]
    }
   ],
   "source": [
    "!git push\n"
   ]
  },
  {
   "cell_type": "code",
   "execution_count": 36,
   "metadata": {},
   "outputs": [
    {
     "name": "stdout",
     "output_type": "stream",
     "text": [
      "/home/dsc/Repositories/master-data-science/practice\n"
     ]
    }
   ],
   "source": [
    "cd ./master-data-science/practice/"
   ]
  },
  {
   "cell_type": "code",
   "execution_count": 8,
   "metadata": {},
   "outputs": [
    {
     "name": "stdout",
     "output_type": "stream",
     "text": [
      "../../../Data\r\n"
     ]
    }
   ],
   "source": [
    "!find ../../../ -maxdepth 2 -iname 'data' "
   ]
  },
  {
   "cell_type": "code",
   "execution_count": 37,
   "metadata": {
    "collapsed": true
   },
   "outputs": [],
   "source": [
    "arr_route = '../../../Data/challenge'"
   ]
  },
  {
   "cell_type": "code",
   "execution_count": 36,
   "metadata": {},
   "outputs": [
    {
     "name": "stdout",
     "output_type": "stream",
     "text": [
      "../../../../Data/challenge/bookings.csv.bz2\r\n",
      "../../../../Data/challenge/bookings.csv\r\n"
     ]
    }
   ],
   "source": [
    "!find ../../../../Data/challenge -maxdepth 4 -type f -iname 'book*' "
   ]
  },
  {
   "cell_type": "code",
   "execution_count": 16,
   "metadata": {},
   "outputs": [
    {
     "name": "stdout",
     "output_type": "stream",
     "text": [
      "bzip2: Can't open input file ../../../Data/challenge!ls/bookings.csv.bz2: No such file or directory.\r\n"
     ]
    }
   ],
   "source": [
    "!bzip2 -dk ../../../Data/challenge/bookings.csv.bz2\n"
   ]
  },
  {
   "cell_type": "code",
   "execution_count": 6,
   "metadata": {},
   "outputs": [
    {
     "name": "stdout",
     "output_type": "stream",
     "text": [
      "bookings.csv  bookings.csv.bz2\tsearches.csv.bz2\r\n"
     ]
    }
   ],
   "source": [
    "!ls ../../../../Data/challenge"
   ]
  },
  {
   "cell_type": "code",
   "execution_count": 10,
   "metadata": {},
   "outputs": [
    {
     "name": "stdout",
     "output_type": "stream",
     "text": [
      "head: cannot open '2' for reading: No such file or directory\r\n",
      "==> ../../../../Data/challenge/bookings.csv <==\r\n",
      "act_date           ^source^pos_ctry^pos_iata^pos_oid  ^rloc          ^cre_date           ^duration^distance^dep_port^dep_city^dep_ctry^arr_port^arr_city^arr_ctry^lst_port^lst_city^lst_ctry^brd_port^brd_city^brd_ctry^off_port^off_city^off_ctry^mkt_port^mkt_city^mkt_ctry^intl^route          ^carrier^bkg_class^cab_class^brd_time           ^off_time           ^pax^year^month^oid      \r\n",
      "2013-03-05 00:00:00^1A    ^DE      ^a68dd7ae953c8acfb187a1af2dcbe123^1a11ae49fcbf545fd2afc1a24d88d2b7^ea65900e72d71f4626378e2ebd298267^2013-02-22 00:00:00^1708^0^ZRH     ^ZRH     ^CH      ^LHR     ^LON     ^GB      ^ZRH     ^ZRH     ^CH      ^LHR     ^LON     ^GB      ^ZRH     ^ZRH     ^CH      ^LHRZRH  ^LONZRH  ^CHGB    ^1^LHRZRH         ^VI^T        ^Y        ^2013-03-07 08:50:00^2013-03-07 11:33:37^-1^2013^3^NULL     \r\n",
      "2013-03-26 00:00:00^1A    ^US      ^e612b9eeeee6f17f42d9b0d3b79e75ca^7437560d8f276d6d05eeb806d9e7edee^737295a86982c941f1c2da9a46a14043^2013-03-26 00:00:00^135270^0^SAL     ^SAL     ^SV      ^CLT     ^CLT     ^US      ^SAL     ^SAL     ^SV      ^SAL     ^SAL     ^SV      ^CLT     ^CLT     ^US      ^CLTSAL  ^CLTSAL  ^SVUS    ^1^SALATLCLT      ^NV^L        ^Y        ^2013-04-12 13:04:00^2013-04-12 22:05:40^1^2013^3^NULL     \r\n",
      "2013-03-26 00:00:00^1A    ^US      ^e612b9eeeee6f17f42d9b0d3b79e75ca^7437560d8f276d6d05eeb806d9e7edee^737295a86982c941f1c2da9a46a14043^2013-03-26 00:00:00^135270^0^SAL     ^SAL     ^SV      ^CLT     ^CLT     ^US      ^SAL     ^SAL     ^SV      ^CLT     ^CLT     ^US      ^SAL     ^SAL     ^SV      ^CLTSAL  ^CLTSAL  ^SVUS    ^1^CLTATLSAL      ^NV^U        ^Y        ^2013-07-15 07:00:00^2013-07-15 11:34:51^1^2013^3^NULL     \r\n",
      "2013-03-26 00:00:00^1A    ^AU      ^0f984b3bb6bd06661c95529bbd6193bc^36472c6dbaf7afec9136ac40364e2794^5ecf00fdcbcec761c43dc7285253d0c1^2013-03-26 00:00:00^30885^0^AKL     ^AKL     ^NZ      ^SVO     ^MOW     ^RU      ^AKL     ^AKL     ^NZ      ^AKL     ^AKL     ^NZ      ^SVO     ^MOW     ^RU      ^AKLSVO  ^AKLMOW  ^NZRU    ^1^AKLHKGSVO      ^XK^G        ^Y        ^2013-04-24 23:59:00^2013-04-25 16:06:31^1^2013^3^SYDA82546\r\n",
      "2013-03-26 00:00:00^1A    ^AU      ^0f984b3bb6bd06661c95529bbd6193bc^36472c6dbaf7afec9136ac40364e2794^5ecf00fdcbcec761c43dc7285253d0c1^2013-03-26 00:00:00^30885^0^AKL     ^AKL     ^NZ      ^SVO     ^MOW     ^RU      ^AKL     ^AKL     ^NZ      ^SVO     ^MOW     ^RU      ^AKL     ^AKL     ^NZ      ^AKLSVO  ^AKLMOW  ^NZRU    ^1^SVOHKGAKL      ^XK^G        ^Y        ^2013-05-14 20:15:00^2013-05-16 10:44:50^1^2013^3^SYDA82546\r\n",
      "2013-03-20 00:00:00^1V    ^US      ^0283592e45e392871f7e14b1e22a9aaf^2d0f8e7e1bb792625d2f34f221bc38f1^d54708298686de200f8270e7c637af5e^2013-03-20 00:00:00^5923^0^DEN     ^DEN     ^US      ^LGA     ^NYC     ^US      ^DEN     ^DEN     ^US      ^DEN     ^DEN     ^US      ^LGA     ^NYC     ^US      ^DENLGA  ^DENNYC  ^USUS    ^0^DENLGA         ^FK^W        ^Y        ^2013-04-07 10:23:00^2013-04-07 16:14:24^1^2013^3^NULL     \r\n",
      "2013-03-20 00:00:00^1V    ^US      ^0283592e45e392871f7e14b1e22a9aaf^2d0f8e7e1bb792625d2f34f221bc38f1^d54708298686de200f8270e7c637af5e^2013-03-20 00:00:00^5923^0^DEN     ^DEN     ^US      ^LGA     ^NYC     ^US      ^DEN     ^DEN     ^US      ^LGA     ^NYC     ^US      ^DEN     ^DEN     ^US      ^DENLGA  ^DENNYC  ^USUS    ^0^LGADEN         ^FK^K        ^Y        ^2013-04-11 11:15:00^2013-04-11 13:06:24^1^2013^3^NULL     \r\n",
      "2013-03-25 00:00:00^1V    ^JP      ^5af045902bd23cab579915611d99e1e0^5073861d8597467c33596bfe16f23c56^a37584d1485cb35991e4ff1a2ba92262^2013-03-25 00:00:00^8371^60^NRT     ^TYO     ^JP      ^SIN     ^SIN     ^SG      ^HND     ^TYO     ^JP      ^NRT     ^TYO     ^JP      ^SIN     ^SIN     ^SG      ^NRTSIN  ^SINTYO  ^JPSG    ^1^NRTSIN         ^XR^Q        ^Y        ^2013-04-14 11:05:00^2013-04-14 17:10:56^2^2013^3^NULL     \r\n",
      "2013-03-25 00:00:00^1V    ^JP      ^5af045902bd23cab579915611d99e1e0^5073861d8597467c33596bfe16f23c56^a37584d1485cb35991e4ff1a2ba92262^2013-03-25 00:00:00^8371^60^NRT     ^TYO     ^JP      ^SIN     ^SIN     ^SG      ^HND     ^TYO     ^JP      ^SIN     ^SIN     ^SG      ^PEN     ^PEN     ^MY      ^PENSIN  ^PENSIN  ^MYSG    ^1^SINPEN         ^WS^Y        ^Y        ^2013-04-16 15:45:00^2013-04-16 17:15:29^2^2013^3^NULL     \r\n"
     ]
    }
   ],
   "source": [
    "!head ../../../../Data/challenge/bookings.csv"
   ]
  },
  {
   "cell_type": "code",
   "execution_count": 4,
   "metadata": {
    "collapsed": true
   },
   "outputs": [],
   "source": [
    "import pandas as pd\n",
    "import numpy as np\n",
    "import csv\n",
    "from sqlalchemy import create_engine"
   ]
  },
  {
   "cell_type": "code",
   "execution_count": 5,
   "metadata": {},
   "outputs": [
    {
     "name": "stdout",
     "output_type": "stream",
     "text": [
      "10000011 ../../../../Data/challenge/bookings.csv\r\n"
     ]
    }
   ],
   "source": [
    "#Ejercicio 1. Recuento de líneas (versión linux)\n",
    "!wc -l ../../../../Data/challenge/bookings.csv "
   ]
  },
  {
   "cell_type": "code",
   "execution_count": 15,
   "metadata": {
    "collapsed": true
   },
   "outputs": [],
   "source": [
    "file = '../../../../Data/challenge/bookings.csv'\n"
   ]
  },
  {
   "cell_type": "code",
   "execution_count": 23,
   "metadata": {},
   "outputs": [
    {
     "name": "stdout",
     "output_type": "stream",
     "text": [
      "4.0G ../../../../Data/challenge/bookings.csv\n",
      "['act_date           ', 'source', 'pos_ctry', 'pos_iata', 'pos_oid  ', 'rloc          ', 'cre_date           ', 'duration', 'distance', 'dep_port', 'dep_city', 'dep_ctry', 'arr_port', 'arr_city', 'arr_ctry', 'lst_port', 'lst_city', 'lst_ctry', 'brd_port', 'brd_city', 'brd_ctry', 'off_port', 'off_city', 'off_ctry', 'mkt_port', 'mkt_city', 'mkt_ctry', 'intl', 'route          ', 'carrier', 'bkg_class', 'cab_class', 'brd_time           ', 'off_time           ', 'pax', 'year', 'month', 'oid      ']\n",
      "   act_date             source  pos_ctry                          pos_iata  \\\n",
      "0  2013-03-05 00:00:00  1A      DE        a68dd7ae953c8acfb187a1af2dcbe123   \n",
      "1  2013-03-26 00:00:00  1A      US        e612b9eeeee6f17f42d9b0d3b79e75ca   \n",
      "2  2013-03-26 00:00:00  1A      US        e612b9eeeee6f17f42d9b0d3b79e75ca   \n",
      "3  2013-03-26 00:00:00  1A      AU        0f984b3bb6bd06661c95529bbd6193bc   \n",
      "4  2013-03-26 00:00:00  1A      AU        0f984b3bb6bd06661c95529bbd6193bc   \n",
      "5  2013-03-20 00:00:00  1V      US        0283592e45e392871f7e14b1e22a9aaf   \n",
      "6  2013-03-20 00:00:00  1V      US        0283592e45e392871f7e14b1e22a9aaf   \n",
      "7  2013-03-25 00:00:00  1V      JP        5af045902bd23cab579915611d99e1e0   \n",
      "8  2013-03-25 00:00:00  1V      JP        5af045902bd23cab579915611d99e1e0   \n",
      "9  2013-03-25 00:00:00  1V      JP        5af045902bd23cab579915611d99e1e0   \n",
      "\n",
      "                          pos_oid                      rloc            \\\n",
      "0  1a11ae49fcbf545fd2afc1a24d88d2b7  ea65900e72d71f4626378e2ebd298267   \n",
      "1  7437560d8f276d6d05eeb806d9e7edee  737295a86982c941f1c2da9a46a14043   \n",
      "2  7437560d8f276d6d05eeb806d9e7edee  737295a86982c941f1c2da9a46a14043   \n",
      "3  36472c6dbaf7afec9136ac40364e2794  5ecf00fdcbcec761c43dc7285253d0c1   \n",
      "4  36472c6dbaf7afec9136ac40364e2794  5ecf00fdcbcec761c43dc7285253d0c1   \n",
      "5  2d0f8e7e1bb792625d2f34f221bc38f1  d54708298686de200f8270e7c637af5e   \n",
      "6  2d0f8e7e1bb792625d2f34f221bc38f1  d54708298686de200f8270e7c637af5e   \n",
      "7  5073861d8597467c33596bfe16f23c56  a37584d1485cb35991e4ff1a2ba92262   \n",
      "8  5073861d8597467c33596bfe16f23c56  a37584d1485cb35991e4ff1a2ba92262   \n",
      "9  5073861d8597467c33596bfe16f23c56  a37584d1485cb35991e4ff1a2ba92262   \n",
      "\n",
      "   cre_date             duration  distance  dep_port    ...      \\\n",
      "0  2013-02-22 00:00:00      1708         0  ZRH         ...       \n",
      "1  2013-03-26 00:00:00    135270         0  SAL         ...       \n",
      "2  2013-03-26 00:00:00    135270         0  SAL         ...       \n",
      "3  2013-03-26 00:00:00     30885         0  AKL         ...       \n",
      "4  2013-03-26 00:00:00     30885         0  AKL         ...       \n",
      "5  2013-03-20 00:00:00      5923         0  DEN         ...       \n",
      "6  2013-03-20 00:00:00      5923         0  DEN         ...       \n",
      "7  2013-03-25 00:00:00      8371        60  NRT         ...       \n",
      "8  2013-03-25 00:00:00      8371        60  NRT         ...       \n",
      "9  2013-03-25 00:00:00      8371        60  NRT         ...       \n",
      "\n",
      "   route           carrier  bkg_class  cab_class  brd_time             \\\n",
      "0  LHRZRH               VI  T          Y          2013-03-07 08:50:00   \n",
      "1  SALATLCLT            NV  L          Y          2013-04-12 13:04:00   \n",
      "2  CLTATLSAL            NV  U          Y          2013-07-15 07:00:00   \n",
      "3  AKLHKGSVO            XK  G          Y          2013-04-24 23:59:00   \n",
      "4  SVOHKGAKL            XK  G          Y          2013-05-14 20:15:00   \n",
      "5  DENLGA               FK  W          Y          2013-04-07 10:23:00   \n",
      "6  LGADEN               FK  K          Y          2013-04-11 11:15:00   \n",
      "7  NRTSIN               XR  Q          Y          2013-04-14 11:05:00   \n",
      "8  SINPEN               WS  Y          Y          2013-04-16 15:45:00   \n",
      "9  PENBKK               EQ  Y          Y          2013-04-18 08:00:00   \n",
      "\n",
      "   off_time            pax  year month  oid        \n",
      "0  2013-03-07 11:33:37  -1  2013     3  NULL       \n",
      "1  2013-04-12 22:05:40   1  2013     3  NULL       \n",
      "2  2013-07-15 11:34:51   1  2013     3  NULL       \n",
      "3  2013-04-25 16:06:31   1  2013     3  SYDA82546  \n",
      "4  2013-05-16 10:44:50   1  2013     3  SYDA82546  \n",
      "5  2013-04-07 16:14:24   1  2013     3  NULL       \n",
      "6  2013-04-11 13:06:24   1  2013     3  NULL       \n",
      "7  2013-04-14 17:10:56   2  2013     3  NULL       \n",
      "8  2013-04-16 17:15:29   2  2013     3  NULL       \n",
      "9  2013-04-18 08:53:56   2  2013     3  NULL       \n",
      "\n",
      "[10 rows x 38 columns]\n"
     ]
    },
    {
     "data": {
      "text/plain": [
       "pandas.core.frame.DataFrame"
      ]
     },
     "execution_count": 23,
     "metadata": {},
     "output_type": "execute_result"
    }
   ],
   "source": [
    "#Ejercicio 1. Tantea el archivo con cuidado, para ver contenido y tamaño.\n",
    "pd_opening = pd.read_csv(file, sep='^',skip_blank_lines=True,nrows=10)\n",
    "!ls -sh ../../../../Data/challenge/bookings.csv\n",
    "print(list(pd_opening))\n",
    "print(pd_opening)\n",
    "#MALO pd_opening = pd.read_csv('../../../../Data/challenge/bookings.csv', sep='^',skip_blank_lines=True)\n",
    "\n",
    "type(pd_opening)"
   ]
  },
  {
   "cell_type": "code",
   "execution_count": 63,
   "metadata": {
    "scrolled": true
   },
   "outputs": [
    {
     "ename": "TypeError",
     "evalue": "unhashable type: 'list'",
     "output_type": "error",
     "traceback": [
      "\u001b[0;31m---------------------------------------------------------------------------\u001b[0m",
      "\u001b[0;31mTypeError\u001b[0m                                 Traceback (most recent call last)",
      "\u001b[0;32m<ipython-input-63-36cb73cdd23d>\u001b[0m in \u001b[0;36m<module>\u001b[0;34m()\u001b[0m\n\u001b[1;32m      8\u001b[0m     \u001b[0mkeyname\u001b[0m \u001b[0;34m=\u001b[0m \u001b[0;34m[\u001b[0m\u001b[0;34m'chunk_'\u001b[0m \u001b[0;34m+\u001b[0m \u001b[0mstr\u001b[0m\u001b[0;34m(\u001b[0m\u001b[0mnumbers\u001b[0m\u001b[0;34m[\u001b[0m\u001b[0mcounter\u001b[0m\u001b[0;34m]\u001b[0m\u001b[0;34m)\u001b[0m\u001b[0;34m]\u001b[0m\u001b[0;34m\u001b[0m\u001b[0m\n\u001b[1;32m      9\u001b[0m     \u001b[0mdict_of_dfs\u001b[0m\u001b[0;34m=\u001b[0m\u001b[0;34m{\u001b[0m\u001b[0;34m}\u001b[0m\u001b[0;34m\u001b[0m\u001b[0m\n\u001b[0;32m---> 10\u001b[0;31m     \u001b[0mdict_of_dfs\u001b[0m\u001b[0;34m[\u001b[0m\u001b[0mkeyname\u001b[0m\u001b[0;34m]\u001b[0m \u001b[0;34m=\u001b[0m \u001b[0mstr\u001b[0m\u001b[0;34m(\u001b[0m\u001b[0mdf1\u001b[0m\u001b[0;34m)\u001b[0m\u001b[0;34m\u001b[0m\u001b[0m\n\u001b[0m\u001b[1;32m     11\u001b[0m     \u001b[0mcounter\u001b[0m\u001b[0;34m+=\u001b[0m\u001b[0;36m1\u001b[0m\u001b[0;34m\u001b[0m\u001b[0m\n\u001b[1;32m     12\u001b[0m \u001b[0;34m\u001b[0m\u001b[0m\n",
      "\u001b[0;31mTypeError\u001b[0m: unhashable type: 'list'"
     ]
    }
   ],
   "source": [
    "#Tenemos un archivo de 4Gigas y 10 millones de filas. VAmos a tener que dividirlo en partes. \n",
    "#Podemos dividirlo en \"chunks\" de 100000 líneas con sqlalchemy, iterando sobre el CSV.\n",
    "chunksize = 100\n",
    "\n",
    "for df1 in pd.read_csv(route,chunksize=chunksize,sep='^',skip_blank_lines=True, iterator=True, nrows=100):\n",
    "    counter = 0\n",
    "    numbers= list(range(10000))\n",
    "    keyname = ['chunk_' + str(numbers[counter])]\n",
    "    dict_of_dfs={}\n",
    "    dict_of_dfs[keyname] = df1\n",
    "    counter+=1\n",
    "    \n",
    "    \n",
    "#CAUTION df_top10= pd.read_csv(route, sep='^',skip_blank_lines=True).loc[:,'arr_port'].sum()\n",
    "\n",
    "#df.columns.str.replace('\\s+','')"
   ]
  },
  {
   "cell_type": "code",
   "execution_count": null,
   "metadata": {
    "collapsed": true
   },
   "outputs": [],
   "source": [
    "chunksize = 10000\n",
    "tp = pd.read_csv(route,chunksize=chunksize,sep='^',skip_blank_lines=True)\n",
    "df = pd.concat(tp, ignore_index=True)\n",
    "print (df.head())\n",
    "\n",
    "\n",
    "\n",
    "\n"
   ]
  },
  {
   "cell_type": "code",
   "execution_count": 9,
   "metadata": {},
   "outputs": [
    {
     "data": {
      "text/plain": [
       "'/home/dsc/Repositories/master-data-science/practice/JupyterChallenge'"
      ]
     },
     "execution_count": 9,
     "metadata": {},
     "output_type": "execute_result"
    }
   ],
   "source": [
    "pwd"
   ]
  },
  {
   "cell_type": "code",
   "execution_count": 35,
   "metadata": {},
   "outputs": [
    {
     "name": "stdout",
     "output_type": "stream",
     "text": [
      "find: paths must precede expression: ./bookings.csv\r\n",
      "Usage: find [-H] [-L] [-P] [-Olevel] [-D help|tree|search|stat|rates|opt|exec] [path...] [expression]\r\n"
     ]
    }
   ],
   "source": [
    "!find ../../../../../ -maxdepth 4 './bookings.csv'"
   ]
  },
  {
   "cell_type": "code",
   "execution_count": 49,
   "metadata": {},
   "outputs": [],
   "source": [
    "file = '../../../../Data/challenge/bookings.csv'\n",
    "    \n",
    "def csv_opener(route,chunksize,nrows):\n",
    "    reader = pd.read_csv(route,chunksize=chunksize,sep='^',skip_blank_lines=True,iterator=True, nrows=1000)\n",
    "    for chunk in reader:\n",
    "        dict1={}\n",
    "        nchunks=int(round(nrows/chunksize))\n",
    "        for x in range(nchunks):\n",
    "            dict1['chunk{0}'.format(x)]=chunk.to_dict()\n",
    "        \n",
    "            return dict1\n",
    "        \n",
    "\n",
    "a=csv_opener(file,10,100)\n"
   ]
  },
  {
   "cell_type": "code",
   "execution_count": 51,
   "metadata": {},
   "outputs": [
    {
     "data": {
      "text/html": [
       "<div>\n",
       "<style>\n",
       "    .dataframe thead tr:only-child th {\n",
       "        text-align: right;\n",
       "    }\n",
       "\n",
       "    .dataframe thead th {\n",
       "        text-align: left;\n",
       "    }\n",
       "\n",
       "    .dataframe tbody tr th {\n",
       "        vertical-align: top;\n",
       "    }\n",
       "</style>\n",
       "<table border=\"1\" class=\"dataframe\">\n",
       "  <thead>\n",
       "    <tr style=\"text-align: right;\">\n",
       "      <th></th>\n",
       "      <th>act_date</th>\n",
       "      <th>source</th>\n",
       "      <th>pos_ctry</th>\n",
       "      <th>pos_iata</th>\n",
       "      <th>pos_oid</th>\n",
       "      <th>rloc</th>\n",
       "      <th>cre_date</th>\n",
       "      <th>duration</th>\n",
       "      <th>distance</th>\n",
       "      <th>dep_port</th>\n",
       "      <th>...</th>\n",
       "      <th>route</th>\n",
       "      <th>carrier</th>\n",
       "      <th>bkg_class</th>\n",
       "      <th>cab_class</th>\n",
       "      <th>brd_time</th>\n",
       "      <th>off_time</th>\n",
       "      <th>pax</th>\n",
       "      <th>year</th>\n",
       "      <th>month</th>\n",
       "      <th>oid</th>\n",
       "    </tr>\n",
       "  </thead>\n",
       "  <tbody>\n",
       "    <tr>\n",
       "      <th>chunk0</th>\n",
       "      <td>{0: '2013-03-05 00:00:00', 1: '2013-03-26 00:0...</td>\n",
       "      <td>{0: '1A    ', 1: '1A    ', 2: '1A    ', 3: '1A...</td>\n",
       "      <td>{0: 'DE      ', 1: 'US      ', 2: 'US      ', ...</td>\n",
       "      <td>{0: 'a68dd7ae953c8acfb187a1af2dcbe123', 1: 'e6...</td>\n",
       "      <td>{0: '1a11ae49fcbf545fd2afc1a24d88d2b7', 1: '74...</td>\n",
       "      <td>{0: 'ea65900e72d71f4626378e2ebd298267', 1: '73...</td>\n",
       "      <td>{0: '2013-02-22 00:00:00', 1: '2013-03-26 00:0...</td>\n",
       "      <td>{0: 1708, 1: 135270, 2: 135270, 3: 30885, 4: 3...</td>\n",
       "      <td>{0: 0, 1: 0, 2: 0, 3: 0, 4: 0, 5: 0, 6: 0, 7: ...</td>\n",
       "      <td>{0: 'ZRH     ', 1: 'SAL     ', 2: 'SAL     ', ...</td>\n",
       "      <td>...</td>\n",
       "      <td>{0: 'LHRZRH         ', 1: 'SALATLCLT      ', 2...</td>\n",
       "      <td>{0: 'VI', 1: 'NV', 2: 'NV', 3: 'XK', 4: 'XK', ...</td>\n",
       "      <td>{0: 'T        ', 1: 'L        ', 2: 'U        ...</td>\n",
       "      <td>{0: 'Y        ', 1: 'Y        ', 2: 'Y        ...</td>\n",
       "      <td>{0: '2013-03-07 08:50:00', 1: '2013-04-12 13:0...</td>\n",
       "      <td>{0: '2013-03-07 11:33:37', 1: '2013-04-12 22:0...</td>\n",
       "      <td>{0: -1, 1: 1, 2: 1, 3: 1, 4: 1, 5: 1, 6: 1, 7:...</td>\n",
       "      <td>{0: 2013, 1: 2013, 2: 2013, 3: 2013, 4: 2013, ...</td>\n",
       "      <td>{0: 3, 1: 3, 2: 3, 3: 3, 4: 3, 5: 3, 6: 3, 7: ...</td>\n",
       "      <td>{0: 'NULL     ', 1: 'NULL     ', 2: 'NULL     ...</td>\n",
       "    </tr>\n",
       "  </tbody>\n",
       "</table>\n",
       "<p>1 rows × 38 columns</p>\n",
       "</div>"
      ],
      "text/plain": [
       "                                      act_date             \\\n",
       "chunk0  {0: '2013-03-05 00:00:00', 1: '2013-03-26 00:0...   \n",
       "\n",
       "                                                   source  \\\n",
       "chunk0  {0: '1A    ', 1: '1A    ', 2: '1A    ', 3: '1A...   \n",
       "\n",
       "                                                 pos_ctry  \\\n",
       "chunk0  {0: 'DE      ', 1: 'US      ', 2: 'US      ', ...   \n",
       "\n",
       "                                                 pos_iata  \\\n",
       "chunk0  {0: 'a68dd7ae953c8acfb187a1af2dcbe123', 1: 'e6...   \n",
       "\n",
       "                                                pos_oid    \\\n",
       "chunk0  {0: '1a11ae49fcbf545fd2afc1a24d88d2b7', 1: '74...   \n",
       "\n",
       "                                           rloc            \\\n",
       "chunk0  {0: 'ea65900e72d71f4626378e2ebd298267', 1: '73...   \n",
       "\n",
       "                                      cre_date             \\\n",
       "chunk0  {0: '2013-02-22 00:00:00', 1: '2013-03-26 00:0...   \n",
       "\n",
       "                                                 duration  \\\n",
       "chunk0  {0: 1708, 1: 135270, 2: 135270, 3: 30885, 4: 3...   \n",
       "\n",
       "                                                 distance  \\\n",
       "chunk0  {0: 0, 1: 0, 2: 0, 3: 0, 4: 0, 5: 0, 6: 0, 7: ...   \n",
       "\n",
       "                                                 dep_port  \\\n",
       "chunk0  {0: 'ZRH     ', 1: 'SAL     ', 2: 'SAL     ', ...   \n",
       "\n",
       "                              ...                          \\\n",
       "chunk0                        ...                           \n",
       "\n",
       "                                          route            \\\n",
       "chunk0  {0: 'LHRZRH         ', 1: 'SALATLCLT      ', 2...   \n",
       "\n",
       "                                                  carrier  \\\n",
       "chunk0  {0: 'VI', 1: 'NV', 2: 'NV', 3: 'XK', 4: 'XK', ...   \n",
       "\n",
       "                                                bkg_class  \\\n",
       "chunk0  {0: 'T        ', 1: 'L        ', 2: 'U        ...   \n",
       "\n",
       "                                                cab_class  \\\n",
       "chunk0  {0: 'Y        ', 1: 'Y        ', 2: 'Y        ...   \n",
       "\n",
       "                                      brd_time             \\\n",
       "chunk0  {0: '2013-03-07 08:50:00', 1: '2013-04-12 13:0...   \n",
       "\n",
       "                                      off_time             \\\n",
       "chunk0  {0: '2013-03-07 11:33:37', 1: '2013-04-12 22:0...   \n",
       "\n",
       "                                                      pax  \\\n",
       "chunk0  {0: -1, 1: 1, 2: 1, 3: 1, 4: 1, 5: 1, 6: 1, 7:...   \n",
       "\n",
       "                                                     year  \\\n",
       "chunk0  {0: 2013, 1: 2013, 2: 2013, 3: 2013, 4: 2013, ...   \n",
       "\n",
       "                                                    month  \\\n",
       "chunk0  {0: 3, 1: 3, 2: 3, 3: 3, 4: 3, 5: 3, 6: 3, 7: ...   \n",
       "\n",
       "                                                oid        \n",
       "chunk0  {0: 'NULL     ', 1: 'NULL     ', 2: 'NULL     ...  \n",
       "\n",
       "[1 rows x 38 columns]"
      ]
     },
     "execution_count": 51,
     "metadata": {},
     "output_type": "execute_result"
    }
   ],
   "source": [
    "pd.DataFrame.from_dict(a,orient='index')"
   ]
  },
  {
   "cell_type": "code",
   "execution_count": 69,
   "metadata": {},
   "outputs": [],
   "source": [
    "%history > 20180125HISTORY.txt"
   ]
  },
  {
   "cell_type": "code",
   "execution_count": 70,
   "metadata": {},
   "outputs": [
    {
     "name": "stdout",
     "output_type": "stream",
     "text": [
      "bigcsv.csv  Gitting.ipynb\r\n"
     ]
    }
   ],
   "source": [
    "ls"
   ]
  },
  {
   "cell_type": "code",
   "execution_count": 71,
   "metadata": {},
   "outputs": [],
   "source": [
    "!history"
   ]
  },
  {
   "cell_type": "code",
   "execution_count": null,
   "metadata": {
    "collapsed": true
   },
   "outputs": [],
   "source": []
  }
 ],
 "metadata": {
  "kernelspec": {
   "display_name": "Python 3",
   "language": "python",
   "name": "python3"
  },
  "language_info": {
   "codemirror_mode": {
    "name": "ipython",
    "version": 3
   },
   "file_extension": ".py",
   "mimetype": "text/x-python",
   "name": "python",
   "nbconvert_exporter": "python",
   "pygments_lexer": "ipython3",
   "version": "3.6.2"
  }
 },
 "nbformat": 4,
 "nbformat_minor": 2
}
