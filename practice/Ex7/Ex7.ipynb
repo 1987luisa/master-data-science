{
 "cells": [
  {
   "cell_type": "markdown",
   "metadata": {},
   "source": [
    "# Ejercicios de repaso de Pandas\n",
    "\n",
    "En este notebook vamos a repasar algunos conceptos de Pandas. Este notebook está vacío, pero viene acompanhado de otro notebook con todas las soluciones.\n",
    "\n",
    "**Es extremadamente importante evitar consultar las soluciones hasta que no hayas terminado los ejercicios en este notebook**. Las soluciones pueden parecer sencillas cuando las ves, pero sacarlas por uno mismo puede ser mucho más difícil. **Por favor, solo consulta las soluciones si no puedes avanzar después de varios intentos**."
   ]
  },
  {
   "cell_type": "code",
   "execution_count": 1,
   "metadata": {},
   "outputs": [
    {
     "data": {
      "text/plain": [
       "'/home/dsc/Repositories/master-data-science/practice/Ex7'"
      ]
     },
     "execution_count": 1,
     "metadata": {},
     "output_type": "execute_result"
    }
   ],
   "source": [
    "pwd"
   ]
  },
  {
   "cell_type": "code",
   "execution_count": 2,
   "metadata": {
    "scrolled": true
   },
   "outputs": [
    {
     "name": "stdout",
     "output_type": "stream",
     "text": [
      "Usage: wc [OPTION]... [FILE]...\r\n",
      "  or:  wc [OPTION]... --files0-from=F\r\n",
      "Print newline, word, and byte counts for each FILE, and a total line if\r\n",
      "more than one FILE is specified.  A word is a non-zero-length sequence of\r\n",
      "characters delimited by white space.\r\n",
      "\r\n",
      "With no FILE, or when FILE is -, read standard input.\r\n",
      "\r\n",
      "The options below may be used to select which counts are printed, always in\r\n",
      "the following order: newline, word, character, byte, maximum line length.\r\n",
      "  -c, --bytes            print the byte counts\r\n",
      "  -m, --chars            print the character counts\r\n",
      "  -l, --lines            print the newline counts\r\n",
      "      --files0-from=F    read input from the files specified by\r\n",
      "                           NUL-terminated names in file F;\r\n",
      "                           If F is - then read names from standard input\r\n",
      "  -L, --max-line-length  print the maximum display width\r\n",
      "  -w, --words            print the word counts\r\n",
      "      --help     display this help and exit\r\n",
      "      --version  output version information and exit\r\n",
      "\r\n",
      "GNU coreutils online help: <http://www.gnu.org/software/coreutils/>\r\n",
      "Full documentation at: <http://www.gnu.org/software/coreutils/wc>\r\n",
      "or available locally via: info '(coreutils) wc invocation'\r\n"
     ]
    }
   ],
   "source": [
    "!wc --help"
   ]
  },
  {
   "cell_type": "markdown",
   "metadata": {},
   "source": [
    "## Datos\n",
    "\n",
    "Los datos se encuentran en el directorio `data`. Se trata de un fichero CSV, usando comas como separador, y con los nombres de las columnas en la primera fila.\n",
    "\n",
    "*Puedes intentar usar la shell antes para comprobar cómo es el fichero*.\n",
    "\n",
    "**Ejercicio:** Usa la shell antes de cargar el CSV para comprobar cómo de grande es. **Es posible cargar todo el fichero en memoria?**"
   ]
  },
  {
   "cell_type": "code",
   "execution_count": 3,
   "metadata": {
    "scrolled": true
   },
   "outputs": [
    {
     "name": "stdout",
     "output_type": "stream",
     "text": [
      "32K weather_year.csv\r\n"
     ]
    }
   ],
   "source": [
    "!ls -sh weather_year.csv"
   ]
  },
  {
   "cell_type": "code",
   "execution_count": 4,
   "metadata": {},
   "outputs": [
    {
     "name": "stdout",
     "output_type": "stream",
     "text": [
      "EDT,Max TemperatureF,Mean TemperatureF,Min TemperatureF,Max Dew PointF,MeanDew PointF,Min DewpointF,Max Humidity, Mean Humidity, Min Humidity, Max Sea Level PressureIn, Mean Sea Level PressureIn, Min Sea Level PressureIn, Max VisibilityMiles, Mean VisibilityMiles, Min VisibilityMiles, Max Wind SpeedMPH, Mean Wind SpeedMPH, Max Gust SpeedMPH,PrecipitationIn, CloudCover, Events, WindDirDegrees\r\n",
      "2012-3-10,56,40,24,24,20,16,74,50,26,30.53,30.45,30.34,10,10,10,13,6,17,0.00,0,,138\r\n",
      "2012-3-11,67,49,30,43,31,24,78,53,28,30.37,30.27,30.13,10,10,10,22,7,32,T,1,Rain,163\r\n",
      "2012-3-12,71,62,53,59,55,43,90,76,61,30.13,29.99,29.88,10,10,6,24,14,36,0.03,6,Rain,190\r\n",
      "2012-3-13,76,63,50,57,53,47,93,66,38,30.12,30.06,29.97,10,10,4,16,5,24,0.00,0,,242\r\n",
      "2012-3-14,80,62,44,58,52,43,93,68,42,30.15,30.10,30.04,10,10,10,16,6,22,0.00,0,,202\r\n",
      "2012-3-15,79,69,58,61,58,53,90,69,48,30.13,30.08,30.02,10,10,10,31,10,41,0.04,3,Rain-Thunderstorm,209\r\n",
      "2012-3-16,75,64,52,57,54,51,100,75,49,30.14,30.10,30.07,10,10,10,14,5,20,T,2,,169\r\n",
      "2012-3-17,78,62,46,60,54,46,100,78,56,30.15,30.11,30.04,10,5,0,12,5,17,T,3,Fog-Thunderstorm,162\r\n",
      "2012-3-18,80,70,59,61,58,57,93,69,45,30.14,30.07,30.02,10,10,9,18,8,25,T,2,Rain,197\r\n",
      "2012-3-19,84,72,59,58,56,50,90,66,42,30.09,30.03,29.98,10,10,10,17,6,23,0.00,1,,165\r\n",
      "2012-3-20,84,71,58,56,54,50,78,58,37,30.09,30.04,29.99,10,10,10,17,5,24,0.00,0,,154\r\n",
      "2012-3-21,84,71,57,56,54,52,84,58,32,30.14,30.07,30.02,10,10,10,17,6,23,0.00,1,,152\r\n",
      "2012-3-22,81,69,57,63,57,51,87,65,42,30.11,30.07,30.01,10,10,2,31,4,41,0.14,3,Rain,159\r\n",
      "2012-3-23,73,64,55,61,58,54,97,79,61,30.03,29.90,29.76,10,9,2,21,6,24,0.86,7,Rain-Thunderstorm,129\r\n",
      "2012-3-24,65,56,46,54,49,43,100,80,48,29.88,29.83,29.79,10,8,0,12,5,14,0.06,5,Fog-Rain,222\r\n",
      "2012-3-25,69,61,52,55,53,51,100,82,63,30.05,29.96,29.88,10,8,4,14,5,20,0.00,6,,353\r\n",
      "2012-3-26,63,54,44,52,38,30,96,64,32,30.26,30.18,30.05,10,10,9,17,9,22,0.00,2,,48\r\n",
      "2012-3-27,70,54,38,42,32,25,64,46,27,30.26,30.15,29.98,10,10,10,15,8,20,0.00,0,,140\r\n",
      "2012-3-28,77,64,51,56,46,33,73,47,21,29.97,29.93,29.90,10,10,10,20,9,25,T,2,Thunderstorm,269\r\n",
      "2012-3-29,69,58,46,45,39,35,76,55,34,30.08,30.00,29.94,10,10,10,14,6,17,T,2,Rain,84\r\n",
      "2012-3-30,81,66,51,61,50,42,78,59,39,29.93,29.79,29.66,10,10,10,25,11,37,0.01,4,Rain-Thunderstorm,182\r\n",
      "2012-3-31,66,58,49,54,47,44,93,71,48,29.91,29.87,29.80,10,8,4,13,6,16,0.00,4,,28\r\n",
      "2012-4-1,79,64,48,62,52,44,96,75,54,29.89,29.78,29.65,10,6,1,24,7,31,0.51,4,Rain-Thunderstorm,169\r\n",
      "2012-4-2,68,62,55,60,51,45,97,73,48,29.90,29.81,29.66,10,9,5,16,9,21,0.01,3,,109\r\n",
      "2012-4-3,84,69,53,60,51,41,66,53,40,29.92,29.85,29.78,10,10,10,14,6,18,0.00,0,,188\r\n",
      "2012-4-4,68,62,55,59,54,42,90,74,57,29.82,29.79,29.76,10,8,3,15,7,18,0.01,6,Rain-Thunderstorm,42\r\n",
      "2012-4-5,61,53,44,43,35,30,92,64,36,30.01,29.87,29.77,10,9,2,20,12,28,0.69,3,Rain,66\r\n",
      "2012-4-6,61,48,35,35,31,28,79,56,32,30.21,30.16,30.03,10,10,10,16,8,22,0.00,0,,55\r\n",
      "2012-4-7,67,50,32,43,31,26,82,52,22,30.30,30.23,30.16,10,10,10,10,3,14,0.00,1,,131\r\n"
     ]
    }
   ],
   "source": [
    "!head -30 weather_year.csv"
   ]
  },
  {
   "cell_type": "markdown",
   "metadata": {},
   "source": [
    "## El dataframe\n",
    "\n",
    "**Ejercicio**: Cuántas filas tiene el dataframe? Y cuántas columnas?\n",
    "\n",
    "*Solución*: 366 filas y 23 columnas"
   ]
  },
  {
   "cell_type": "code",
   "execution_count": 5,
   "metadata": {
    "collapsed": true
   },
   "outputs": [],
   "source": [
    "import pandas as pd\n",
    "import numpy as np"
   ]
  },
  {
   "cell_type": "code",
   "execution_count": 6,
   "metadata": {},
   "outputs": [
    {
     "data": {
      "text/plain": [
       "(366, 23)"
      ]
     },
     "execution_count": 6,
     "metadata": {},
     "output_type": "execute_result"
    }
   ],
   "source": [
    "route = 'weather_year.csv'\n",
    "df_weather = pd.read_csv(route,sep=',')\n",
    "df_weather.shape"
   ]
  },
  {
   "cell_type": "code",
   "execution_count": 7,
   "metadata": {},
   "outputs": [
    {
     "data": {
      "text/plain": [
       "['EDT',\n",
       " 'Max TemperatureF',\n",
       " 'Mean TemperatureF',\n",
       " 'Min TemperatureF',\n",
       " 'Max Dew PointF',\n",
       " 'MeanDew PointF',\n",
       " 'Min DewpointF',\n",
       " 'Max Humidity',\n",
       " ' Mean Humidity',\n",
       " ' Min Humidity',\n",
       " ' Max Sea Level PressureIn',\n",
       " ' Mean Sea Level PressureIn',\n",
       " ' Min Sea Level PressureIn',\n",
       " ' Max VisibilityMiles',\n",
       " ' Mean VisibilityMiles',\n",
       " ' Min VisibilityMiles',\n",
       " ' Max Wind SpeedMPH',\n",
       " ' Mean Wind SpeedMPH',\n",
       " ' Max Gust SpeedMPH',\n",
       " 'PrecipitationIn',\n",
       " ' CloudCover',\n",
       " ' Events',\n",
       " ' WindDirDegrees']"
      ]
     },
     "execution_count": 7,
     "metadata": {},
     "output_type": "execute_result"
    }
   ],
   "source": [
    "list(df_weather)"
   ]
  },
  {
   "cell_type": "markdown",
   "metadata": {},
   "source": [
    "## Transformar los datos\n",
    "\n",
    "Los datos de la columna EDT parecen ser fechas, pero sin embargo no se han leído como fechas al cargar el data frame.\n",
    "\n",
    "**Ejercicio**: Comprueba de qué tipo son los datos incluidos en la columna EDT. **Vuelve a leer el dataframe (sobre-escribiendo la variable d) para que los datos sea lean como una fecha**."
   ]
  },
  {
   "cell_type": "code",
   "execution_count": 8,
   "metadata": {},
   "outputs": [
    {
     "data": {
      "text/plain": [
       "str"
      ]
     },
     "execution_count": 8,
     "metadata": {},
     "output_type": "execute_result"
    }
   ],
   "source": [
    "type(df_weather.iloc[3,0])"
   ]
  },
  {
   "cell_type": "code",
   "execution_count": 9,
   "metadata": {
    "scrolled": true
   },
   "outputs": [
    {
     "data": {
      "text/plain": [
       "0     2012-03-10\n",
       "1     2012-03-11\n",
       "2     2012-03-12\n",
       "3     2012-03-13\n",
       "4     2012-03-14\n",
       "5     2012-03-15\n",
       "6     2012-03-16\n",
       "7     2012-03-17\n",
       "8     2012-03-18\n",
       "9     2012-03-19\n",
       "10    2012-03-20\n",
       "11    2012-03-21\n",
       "12    2012-03-22\n",
       "13    2012-03-23\n",
       "14    2012-03-24\n",
       "15    2012-03-25\n",
       "16    2012-03-26\n",
       "17    2012-03-27\n",
       "18    2012-03-28\n",
       "19    2012-03-29\n",
       "20    2012-03-30\n",
       "21    2012-03-31\n",
       "22    2012-04-01\n",
       "23    2012-04-02\n",
       "24    2012-04-03\n",
       "25    2012-04-04\n",
       "26    2012-04-05\n",
       "27    2012-04-06\n",
       "28    2012-04-07\n",
       "29    2012-04-08\n",
       "         ...    \n",
       "336   2013-02-09\n",
       "337   2013-02-10\n",
       "338   2013-02-11\n",
       "339   2013-02-12\n",
       "340   2013-02-13\n",
       "341   2013-02-14\n",
       "342   2013-02-15\n",
       "343   2013-02-16\n",
       "344   2013-02-17\n",
       "345   2013-02-18\n",
       "346   2013-02-19\n",
       "347   2013-02-20\n",
       "348   2013-02-21\n",
       "349   2013-02-22\n",
       "350   2013-02-23\n",
       "351   2013-02-24\n",
       "352   2013-02-25\n",
       "353   2013-02-26\n",
       "354   2013-02-27\n",
       "355   2013-02-28\n",
       "356   2013-03-01\n",
       "357   2013-03-02\n",
       "358   2013-03-03\n",
       "359   2013-03-04\n",
       "360   2013-03-05\n",
       "361   2013-03-06\n",
       "362   2013-03-07\n",
       "363   2013-03-08\n",
       "364   2013-03-09\n",
       "365   2013-03-10\n",
       "Name: EDT, Length: 366, dtype: datetime64[ns]"
      ]
     },
     "execution_count": 9,
     "metadata": {},
     "output_type": "execute_result"
    }
   ],
   "source": [
    "dates = pd.to_datetime(df_weather.iloc[:,0])\n",
    "dates"
   ]
  },
  {
   "cell_type": "markdown",
   "metadata": {},
   "source": [
    "Para comprobar que los datos se han leído correctamente como una fecha, obtén el año, mes y semana (semana dentro del año, de 1 a 52) de la fecha que está en la cuarta fila en la columna EDT\n",
    "\n",
    "*Solución*: 2012, 3 y 11"
   ]
  },
  {
   "cell_type": "code",
   "execution_count": 10,
   "metadata": {},
   "outputs": [
    {
     "data": {
      "text/plain": [
       "11"
      ]
     },
     "execution_count": 10,
     "metadata": {},
     "output_type": "execute_result"
    }
   ],
   "source": [
    "dates[3].weekofyear"
   ]
  },
  {
   "cell_type": "code",
   "execution_count": 54,
   "metadata": {
    "collapsed": true
   },
   "outputs": [],
   "source": [
    "route = 'weather_year.csv'\n",
    "df_weather = pd.read_csv(route,sep=',',parse_dates=['EDT'])"
   ]
  },
  {
   "cell_type": "code",
   "execution_count": null,
   "metadata": {
    "collapsed": true
   },
   "outputs": [],
   "source": [
    "print('año: %d') % ()"
   ]
  },
  {
   "cell_type": "markdown",
   "metadata": {},
   "source": [
    "## Renombrar columnas\n",
    "\n",
    "Vamos a cambiar los nombres de todas las columnas para que sea más sencillo manejarlas"
   ]
  },
  {
   "cell_type": "code",
   "execution_count": 55,
   "metadata": {
    "collapsed": true
   },
   "outputs": [],
   "source": [
    "df_weather.columns=['date',\n",
    " 'max_tempf',\n",
    " 'mean_tempf',\n",
    " 'min_tempf',\n",
    " 'max_dewpointf',\n",
    " 'mean_dewpointf',\n",
    " 'min_dewpointf',\n",
    " 'max_humid',\n",
    " 'mean_humid',\n",
    " 'min_humid',\n",
    " 'max_sea_lvpress_in',\n",
    " 'mean_sea_lvpress_in',\n",
    " 'min_sea_lvpress_in',\n",
    " 'max_visib_miles',\n",
    " 'mean_visib_miles',\n",
    " 'min_visib_miles',\n",
    " 'max_wind_speedmph',\n",
    " 'mean_wind_speedmph',\n",
    " 'max_gust_speedmph',\n",
    " 'precipit_in',\n",
    " 'cloudcover',\n",
    " 'events',\n",
    " 'wind_dir_degrees']\n"
   ]
  },
  {
   "cell_type": "code",
   "execution_count": 13,
   "metadata": {},
   "outputs": [
    {
     "data": {
      "text/plain": [
       "pandas._libs.tslib.Timestamp"
      ]
     },
     "execution_count": 13,
     "metadata": {},
     "output_type": "execute_result"
    }
   ],
   "source": [
    "type(df_weather.iloc[3,0])"
   ]
  },
  {
   "cell_type": "markdown",
   "metadata": {},
   "source": [
    "## Propiedades de las columnas\n",
    "\n",
    "Obtén la media, desviación estándar, mínimo y máximo, y los cuartiles de la columna mean_temp\n",
    "\n",
    "Hay un método para dataframes y columnas de dataframes (series) que te permite obtener todos esos valores de una vez. **Puedes encontrar qué método es?**\n",
    "\n",
    "*Solución*:\n",
    "mean      55.683060\n",
    "std       18.436506\n",
    "min       11.000000\n",
    "25%       41.000000\n",
    "50%       59.000000\n",
    "75%       70.750000\n",
    "max       89.000000"
   ]
  },
  {
   "cell_type": "code",
   "execution_count": 14,
   "metadata": {},
   "outputs": [
    {
     "name": "stdout",
     "output_type": "stream",
     "text": [
      "55.68306010928962\n",
      "18.41130228522461\n",
      "41.0\n",
      "11\n",
      "89\n",
      "count    366.000000\n",
      "mean      55.683060\n",
      "std       18.436506\n",
      "min       11.000000\n",
      "25%       41.000000\n",
      "50%       59.000000\n",
      "75%       70.750000\n",
      "max       89.000000\n",
      "Name: mean_tempf, dtype: float64\n"
     ]
    }
   ],
   "source": [
    "meantemp = df_weather.loc[:,'mean_tempf']\n",
    "mean_meantemp=meantemp.mean()\n",
    "std_meantemp= meantemp.std(ddof=0)\n",
    "quant_meantemp=meantemp.quantile(0.25)\n",
    "min_meantemp = meantemp.min()\n",
    "max_meantemp = meantemp.max()\n",
    "\n",
    "print(mean_meantemp)\n",
    "print(std_meantemp)\n",
    "print(quant_meantemp)\n",
    "print(min_meantemp)\n",
    "print(max_meantemp)\n",
    "\n",
    "print(meantemp.describe())"
   ]
  },
  {
   "cell_type": "markdown",
   "metadata": {},
   "source": [
    "Ahora vamos a dibujar la evolución de mean_temp.\n",
    "\n",
    "Extrae la columna mean_temp e intenta usar el método plot sobre ella"
   ]
  },
  {
   "cell_type": "code",
   "execution_count": 19,
   "metadata": {
    "scrolled": false
   },
   "outputs": [
    {
     "data": {
      "text/plain": [
       "<matplotlib.axes._subplots.AxesSubplot at 0x7fa64f57db70>"
      ]
     },
     "execution_count": 19,
     "metadata": {},
     "output_type": "execute_result"
    },
    {
     "data": {
      "image/png": "[encoded data removed]",
      "text/plain": [
       "<matplotlib.figure.Figure at 0x7fa64f586128>"
      ]
     },
     "metadata": {},
     "output_type": "display_data"
    }
   ],
   "source": [
    "import matplotlib as plt\n",
    "%matplotlib inline\n",
    "\n",
    "#adecuamos la serie con la fecha como índice.\n",
    "\n",
    "\n",
    "df_weather['mean_tempf'].plot()\n"
   ]
  },
  {
   "cell_type": "markdown",
   "metadata": {},
   "source": [
    "En el eje horizontal se incluye el 'indice de la serie, que en este caso es un n'umero autocorrelativo.\n",
    "\n",
    "Vamos a sustituir el 'indice del dataframe por la columna date, de manera que ahora la fecha sea el 'indice, y por tanto se dibuje en el eje horizontal."
   ]
  },
  {
   "cell_type": "code",
   "execution_count": 59,
   "metadata": {},
   "outputs": [
    {
     "data": {
      "text/plain": [
       "<matplotlib.axes._subplots.AxesSubplot at 0x7fa64f898eb8>"
      ]
     },
     "execution_count": 59,
     "metadata": {},
     "output_type": "execute_result"
    },
    {
     "data": {
      "image/png": "[encoded data removed]",
      "text/plain": [
       "<matplotlib.figure.Figure at 0x7fa64f955ef0>"
      ]
     },
     "metadata": {},
     "output_type": "display_data"
    }
   ],
   "source": [
    "df2_weather.index=df_weather['date']\n",
    "df2_weather['mean_tempf'].plot()"
   ]
  },
  {
   "cell_type": "markdown",
   "metadata": {},
   "source": [
    "Comprueba que ahora al dibujar la columna mean_temp, en el eje horizontal vemos la fecha en vez del 'indice autocorrelativo"
   ]
  },
  {
   "cell_type": "markdown",
   "metadata": {},
   "source": [
    "Sin embargo, ahora el dataframe tiene a la vez el índice y la columna date con los mismos valores. La columna date es redundante. **Podrías eliminarla?**\n",
    "\n",
    "Ten cuidado, porque al eliminar una columna no actúas sobre el dataframe, sino que obtienes una copia del dataframe con la columna eliminada. No necesitamos el dataframe original, así que sobreescribe d con el nuevo dataframe sin la columna date."
   ]
  },
  {
   "cell_type": "code",
   "execution_count": null,
   "metadata": {
    "collapsed": true,
    "scrolled": true
   },
   "outputs": [],
   "source": []
  },
  {
   "cell_type": "markdown",
   "metadata": {},
   "source": [
    "Al usar plot, obtenemos un gráfico de la serie temporal de la columna mean_temp. Vamos ahora a dibujar un histograma de esta columna, usando hist en vez de plot. **Intenta entender cuál es la diferencia entre ambos gráficos. Por qué ya no aparece la fecha en el gráfico? Qué valores se muestran en cada uno de los ejes?**\n",
    "\n",
    "**En qué situaciones es útil un histograma?**"
   ]
  },
  {
   "cell_type": "code",
   "execution_count": 67,
   "metadata": {},
   "outputs": [
    {
     "data": {
      "text/plain": [
       "<matplotlib.axes._subplots.AxesSubplot at 0x7fa64f086ba8>"
      ]
     },
     "execution_count": 67,
     "metadata": {},
     "output_type": "execute_result"
    },
    {
     "data": {
      "image/png": "[encoded data removed]",
      "text/plain": [
       "<matplotlib.figure.Figure at 0x7fa64f09e1d0>"
      ]
     },
     "metadata": {},
     "output_type": "display_data"
    }
   ],
   "source": [
    "df2_weather['mean_tempf'].hist()"
   ]
  },
  {
   "cell_type": "markdown",
   "metadata": {},
   "source": [
    "Los valores de la temperatura estan en grados Farenheit, unas unidades que son difíciles de interpretar para la mayoría de nosotros.\n",
    "\n",
    "Vamos a crear una columna mean_tempC que contenga los valores de mean_temp, pero transformados a grados centígrados, más fáciles de interpretar para nosotros. Para ello haremos uso de la función definida en la siguiente celda:"
   ]
  },
  {
   "cell_type": "code",
   "execution_count": 146,
   "metadata": {},
   "outputs": [
    {
     "data": {
      "text/plain": [
       "date\n",
       "2012-03-10     4.444444\n",
       "2012-03-11     9.444444\n",
       "2012-03-12    16.666667\n",
       "2012-03-13    17.222222\n",
       "2012-03-14    16.666667\n",
       "Name: mean_tempc, dtype: float64"
      ]
     },
     "execution_count": 146,
     "metadata": {},
     "output_type": "execute_result"
    }
   ],
   "source": [
    "df2_weather['mean_tempc']= (df2_weather['mean_tempf'] - 32)/1.8\n",
    "df2_weather['mean_tempc'].head()"
   ]
  },
  {
   "cell_type": "markdown",
   "metadata": {},
   "source": [
    "Usa la función para crear la columna adicional con los valores en grados centígrados (grados Celsius), de nombre **mean_tempC**"
   ]
  },
  {
   "cell_type": "code",
   "execution_count": 145,
   "metadata": {
    "scrolled": true
   },
   "outputs": [
    {
     "data": {
      "text/html": [
       "<div>\n",
       "<style>\n",
       "    .dataframe thead tr:only-child th {\n",
       "        text-align: right;\n",
       "    }\n",
       "\n",
       "    .dataframe thead th {\n",
       "        text-align: left;\n",
       "    }\n",
       "\n",
       "    .dataframe tbody tr th {\n",
       "        vertical-align: top;\n",
       "    }\n",
       "</style>\n",
       "<table border=\"1\" class=\"dataframe\">\n",
       "  <thead>\n",
       "    <tr style=\"text-align: right;\">\n",
       "      <th></th>\n",
       "      <th>max_tempf</th>\n",
       "      <th>mean_tempf</th>\n",
       "      <th>min_tempf</th>\n",
       "      <th>max_dewpointf</th>\n",
       "      <th>mean_dewpointf</th>\n",
       "      <th>min_dewpointf</th>\n",
       "      <th>max_humid</th>\n",
       "      <th>mean_humid</th>\n",
       "      <th>min_humid</th>\n",
       "      <th>max_sea_lvpress_in</th>\n",
       "      <th>...</th>\n",
       "      <th>mean_wind_speedmph</th>\n",
       "      <th>max_gust_speedmph</th>\n",
       "      <th>precipit_in</th>\n",
       "      <th>cloudcover</th>\n",
       "      <th>events</th>\n",
       "      <th>wind_dir_degrees</th>\n",
       "      <th>mean_tempc</th>\n",
       "      <th>min_tempc</th>\n",
       "      <th>max_tempc</th>\n",
       "      <th>precipitationN</th>\n",
       "    </tr>\n",
       "    <tr>\n",
       "      <th>date</th>\n",
       "      <th></th>\n",
       "      <th></th>\n",
       "      <th></th>\n",
       "      <th></th>\n",
       "      <th></th>\n",
       "      <th></th>\n",
       "      <th></th>\n",
       "      <th></th>\n",
       "      <th></th>\n",
       "      <th></th>\n",
       "      <th></th>\n",
       "      <th></th>\n",
       "      <th></th>\n",
       "      <th></th>\n",
       "      <th></th>\n",
       "      <th></th>\n",
       "      <th></th>\n",
       "      <th></th>\n",
       "      <th></th>\n",
       "      <th></th>\n",
       "      <th></th>\n",
       "    </tr>\n",
       "  </thead>\n",
       "  <tbody>\n",
       "    <tr>\n",
       "      <th>2012-03-10</th>\n",
       "      <td>56</td>\n",
       "      <td>40</td>\n",
       "      <td>24</td>\n",
       "      <td>24</td>\n",
       "      <td>20</td>\n",
       "      <td>16</td>\n",
       "      <td>74</td>\n",
       "      <td>50</td>\n",
       "      <td>26</td>\n",
       "      <td>30.53</td>\n",
       "      <td>...</td>\n",
       "      <td>6</td>\n",
       "      <td>17.0</td>\n",
       "      <td>0.00</td>\n",
       "      <td>0</td>\n",
       "      <td>NaN</td>\n",
       "      <td>138</td>\n",
       "      <td>4.444444</td>\n",
       "      <td>-4.444444</td>\n",
       "      <td>13.333333</td>\n",
       "      <td>0.00</td>\n",
       "    </tr>\n",
       "    <tr>\n",
       "      <th>2012-03-11</th>\n",
       "      <td>67</td>\n",
       "      <td>49</td>\n",
       "      <td>30</td>\n",
       "      <td>43</td>\n",
       "      <td>31</td>\n",
       "      <td>24</td>\n",
       "      <td>78</td>\n",
       "      <td>53</td>\n",
       "      <td>28</td>\n",
       "      <td>30.37</td>\n",
       "      <td>...</td>\n",
       "      <td>7</td>\n",
       "      <td>32.0</td>\n",
       "      <td>T</td>\n",
       "      <td>1</td>\n",
       "      <td>Rain</td>\n",
       "      <td>163</td>\n",
       "      <td>9.444444</td>\n",
       "      <td>-1.111111</td>\n",
       "      <td>19.444444</td>\n",
       "      <td>0.00</td>\n",
       "    </tr>\n",
       "    <tr>\n",
       "      <th>2012-03-12</th>\n",
       "      <td>71</td>\n",
       "      <td>62</td>\n",
       "      <td>53</td>\n",
       "      <td>59</td>\n",
       "      <td>55</td>\n",
       "      <td>43</td>\n",
       "      <td>90</td>\n",
       "      <td>76</td>\n",
       "      <td>61</td>\n",
       "      <td>30.13</td>\n",
       "      <td>...</td>\n",
       "      <td>14</td>\n",
       "      <td>36.0</td>\n",
       "      <td>0.03</td>\n",
       "      <td>6</td>\n",
       "      <td>Rain</td>\n",
       "      <td>190</td>\n",
       "      <td>16.666667</td>\n",
       "      <td>11.666667</td>\n",
       "      <td>21.666667</td>\n",
       "      <td>0.03</td>\n",
       "    </tr>\n",
       "    <tr>\n",
       "      <th>2012-03-13</th>\n",
       "      <td>76</td>\n",
       "      <td>63</td>\n",
       "      <td>50</td>\n",
       "      <td>57</td>\n",
       "      <td>53</td>\n",
       "      <td>47</td>\n",
       "      <td>93</td>\n",
       "      <td>66</td>\n",
       "      <td>38</td>\n",
       "      <td>30.12</td>\n",
       "      <td>...</td>\n",
       "      <td>5</td>\n",
       "      <td>24.0</td>\n",
       "      <td>0.00</td>\n",
       "      <td>0</td>\n",
       "      <td>NaN</td>\n",
       "      <td>242</td>\n",
       "      <td>17.222222</td>\n",
       "      <td>10.000000</td>\n",
       "      <td>24.444444</td>\n",
       "      <td>0.00</td>\n",
       "    </tr>\n",
       "    <tr>\n",
       "      <th>2012-03-14</th>\n",
       "      <td>80</td>\n",
       "      <td>62</td>\n",
       "      <td>44</td>\n",
       "      <td>58</td>\n",
       "      <td>52</td>\n",
       "      <td>43</td>\n",
       "      <td>93</td>\n",
       "      <td>68</td>\n",
       "      <td>42</td>\n",
       "      <td>30.15</td>\n",
       "      <td>...</td>\n",
       "      <td>6</td>\n",
       "      <td>22.0</td>\n",
       "      <td>0.00</td>\n",
       "      <td>0</td>\n",
       "      <td>NaN</td>\n",
       "      <td>202</td>\n",
       "      <td>16.666667</td>\n",
       "      <td>6.666667</td>\n",
       "      <td>26.666667</td>\n",
       "      <td>0.00</td>\n",
       "    </tr>\n",
       "  </tbody>\n",
       "</table>\n",
       "<p>5 rows × 26 columns</p>\n",
       "</div>"
      ],
      "text/plain": [
       "            max_tempf  mean_tempf  min_tempf  max_dewpointf  mean_dewpointf  \\\n",
       "date                                                                          \n",
       "2012-03-10         56          40         24             24              20   \n",
       "2012-03-11         67          49         30             43              31   \n",
       "2012-03-12         71          62         53             59              55   \n",
       "2012-03-13         76          63         50             57              53   \n",
       "2012-03-14         80          62         44             58              52   \n",
       "\n",
       "            min_dewpointf  max_humid  mean_humid  min_humid  \\\n",
       "date                                                          \n",
       "2012-03-10             16         74          50         26   \n",
       "2012-03-11             24         78          53         28   \n",
       "2012-03-12             43         90          76         61   \n",
       "2012-03-13             47         93          66         38   \n",
       "2012-03-14             43         93          68         42   \n",
       "\n",
       "            max_sea_lvpress_in       ...        mean_wind_speedmph  \\\n",
       "date                                 ...                             \n",
       "2012-03-10               30.53       ...                         6   \n",
       "2012-03-11               30.37       ...                         7   \n",
       "2012-03-12               30.13       ...                        14   \n",
       "2012-03-13               30.12       ...                         5   \n",
       "2012-03-14               30.15       ...                         6   \n",
       "\n",
       "            max_gust_speedmph  precipit_in  cloudcover  events  \\\n",
       "date                                                             \n",
       "2012-03-10               17.0         0.00           0     NaN   \n",
       "2012-03-11               32.0            T           1    Rain   \n",
       "2012-03-12               36.0         0.03           6    Rain   \n",
       "2012-03-13               24.0         0.00           0     NaN   \n",
       "2012-03-14               22.0         0.00           0     NaN   \n",
       "\n",
       "            wind_dir_degrees  mean_tempc  min_tempc  max_tempc  precipitationN  \n",
       "date                                                                            \n",
       "2012-03-10               138    4.444444  -4.444444  13.333333            0.00  \n",
       "2012-03-11               163    9.444444  -1.111111  19.444444            0.00  \n",
       "2012-03-12               190   16.666667  11.666667  21.666667            0.03  \n",
       "2012-03-13               242   17.222222  10.000000  24.444444            0.00  \n",
       "2012-03-14               202   16.666667   6.666667  26.666667            0.00  \n",
       "\n",
       "[5 rows x 26 columns]"
      ]
     },
     "execution_count": 145,
     "metadata": {},
     "output_type": "execute_result"
    }
   ],
   "source": [
    "df2_weather.head()"
   ]
  },
  {
   "cell_type": "markdown",
   "metadata": {},
   "source": [
    "Dibuja ahora la serie temporal con esta nueva columna, usando plot. Incluye una rejilla (grid) en el gráfico para que sea más fácil de leer e interpretar"
   ]
  },
  {
   "cell_type": "code",
   "execution_count": 73,
   "metadata": {},
   "outputs": [
    {
     "data": {
      "text/plain": [
       "<matplotlib.axes._subplots.AxesSubplot at 0x7fa64efaf438>"
      ]
     },
     "execution_count": 73,
     "metadata": {},
     "output_type": "execute_result"
    },
    {
     "data": {
      "image/png": "[encoded data removed]",
      "text/plain": [
       "<matplotlib.figure.Figure at 0x7fa64efc0be0>"
      ]
     },
     "metadata": {},
     "output_type": "display_data"
    }
   ],
   "source": [
    "df2_weather['mean_tempc'].plot(grid=True)"
   ]
  },
  {
   "cell_type": "markdown",
   "metadata": {},
   "source": [
    "Dibuja ahora también un histograma de esta nueva columna. **Cuál es el rango de temperaturas más frecuente en los datos?**"
   ]
  },
  {
   "cell_type": "code",
   "execution_count": 74,
   "metadata": {},
   "outputs": [
    {
     "data": {
      "text/plain": [
       "<matplotlib.axes._subplots.AxesSubplot at 0x7fa64eecefd0>"
      ]
     },
     "execution_count": 74,
     "metadata": {},
     "output_type": "execute_result"
    },
    {
     "data": {
      "image/png": "[encoded data removed]",
      "text/plain": [
       "<matplotlib.figure.Figure at 0x7fa64f27e940>"
      ]
     },
     "metadata": {},
     "output_type": "display_data"
    }
   ],
   "source": [
    "df2_weather['mean_tempc'].hist(grid=True)\n",
    "#parece que 17ºC"
   ]
  },
  {
   "cell_type": "markdown",
   "metadata": {},
   "source": [
    "Como se puede ver en ambos gráficos, hay algunos días con temperaturas bajo 0.\n",
    "\n",
    "**En qué día ocurrió la temperatura más baja? Cuál fue la temperature media ese día?**\n",
    "\n",
    "**Cuántos días de temperaturas bajo cero hay en los datos?**\n",
    "\n",
    "*Solución: El 1 de febrero de 2013 con -11.67 C, 44 d'ias"
   ]
  },
  {
   "cell_type": "code",
   "execution_count": 86,
   "metadata": {},
   "outputs": [
    {
     "name": "stdout",
     "output_type": "stream",
     "text": [
      "-11.6666666667\n",
      "44\n"
     ]
    }
   ],
   "source": [
    "#registro de temperaturas bajo cero.\n",
    "under0= df2_weather['mean_tempc'][df2_weather['mean_tempc']<0]\n",
    "\n",
    "#COntamos el número de hits bajo cero.\n",
    "under0count=under0.value_counts().sum()\n",
    "\n",
    "#mínima absoluta en ºC\n",
    "supermin_tempc=df2_weather['mean_tempc'].min()\n",
    "print(supermin_tempc)\n",
    "print(under0count)\n",
    "\n"
   ]
  },
  {
   "cell_type": "markdown",
   "metadata": {},
   "source": [
    "En el dataframe tenemos también las columnas min_temp y max_temp, que están también en grados Farenheit.\n",
    "\n",
    "Crea dos columnas nuevas min_tempC y max_tempC, que contengan las temperaturas en grados centígrados. Recuerda que tienes la función f2c disponible."
   ]
  },
  {
   "cell_type": "code",
   "execution_count": 144,
   "metadata": {},
   "outputs": [
    {
     "name": "stdout",
     "output_type": "stream",
     "text": [
      "            max_tempf  mean_tempf  min_tempf  max_dewpointf  mean_dewpointf  \\\n",
      "date                                                                          \n",
      "2012-03-10         56          40         24             24              20   \n",
      "2012-03-11         67          49         30             43              31   \n",
      "2012-03-12         71          62         53             59              55   \n",
      "2012-03-13         76          63         50             57              53   \n",
      "2012-03-14         80          62         44             58              52   \n",
      "\n",
      "            min_dewpointf  max_humid  mean_humid  min_humid  \\\n",
      "date                                                          \n",
      "2012-03-10             16         74          50         26   \n",
      "2012-03-11             24         78          53         28   \n",
      "2012-03-12             43         90          76         61   \n",
      "2012-03-13             47         93          66         38   \n",
      "2012-03-14             43         93          68         42   \n",
      "\n",
      "            max_sea_lvpress_in       ...        mean_wind_speedmph  \\\n",
      "date                                 ...                             \n",
      "2012-03-10               30.53       ...                         6   \n",
      "2012-03-11               30.37       ...                         7   \n",
      "2012-03-12               30.13       ...                        14   \n",
      "2012-03-13               30.12       ...                         5   \n",
      "2012-03-14               30.15       ...                         6   \n",
      "\n",
      "            max_gust_speedmph  precipit_in  cloudcover  events  \\\n",
      "date                                                             \n",
      "2012-03-10               17.0         0.00           0     NaN   \n",
      "2012-03-11               32.0            T           1    Rain   \n",
      "2012-03-12               36.0         0.03           6    Rain   \n",
      "2012-03-13               24.0         0.00           0     NaN   \n",
      "2012-03-14               22.0         0.00           0     NaN   \n",
      "\n",
      "            wind_dir_degrees  mean_tempc  min_tempc  max_tempc  precipitationN  \n",
      "date                                                                            \n",
      "2012-03-10               138    4.444444  -4.444444  13.333333            0.00  \n",
      "2012-03-11               163    9.444444  -1.111111  19.444444            0.00  \n",
      "2012-03-12               190   16.666667  11.666667  21.666667            0.03  \n",
      "2012-03-13               242   17.222222  10.000000  24.444444            0.00  \n",
      "2012-03-14               202   16.666667   6.666667  26.666667            0.00  \n",
      "\n",
      "[5 rows x 26 columns]\n"
     ]
    }
   ],
   "source": [
    "def f2c(f):\n",
    "    c = (f-32)/1.8\n",
    "    return c\n",
    "\n",
    "df2_weather['min_tempc']=df2_weather['min_tempf'].apply(lambda x: f2c(x))\n",
    "df2_weather['max_tempc']=df2_weather['max_tempf'].apply(lambda x: f2c(x))\n",
    "print(df2_weather.head())"
   ]
  },
  {
   "cell_type": "markdown",
   "metadata": {},
   "source": [
    "Dibuja las series temporales de min_tempC, mean_tempC y max_tempC en una misma gráfica con tres curvas de diferentes columnas y leyenda. Añade una rejilla (grid) al gr'afico.\n",
    "\n",
    "*Pista*: Si tienes un dataframe con la fecha en el índice y solo esas tres columnas, puedes usar el método plot del dataframe para obtener justo ese gráfico. Intenta extraer solo las tres columnas del dataframe d"
   ]
  },
  {
   "cell_type": "code",
   "execution_count": 107,
   "metadata": {},
   "outputs": [
    {
     "data": {
      "text/plain": [
       "<matplotlib.axes._subplots.AxesSubplot at 0x7fa64eb9ef28>"
      ]
     },
     "execution_count": 107,
     "metadata": {},
     "output_type": "execute_result"
    },
    {
     "data": {
      "image/png": "[encoded data removed]",
      "text/plain": [
       "<matplotlib.figure.Figure at 0x7fa64ebb4b70>"
      ]
     },
     "metadata": {},
     "output_type": "display_data"
    }
   ],
   "source": [
    "df2_weather.plot(y=['min_tempc','max_tempc','mean_tempc'],grid=True)\n"
   ]
  },
  {
   "cell_type": "markdown",
   "metadata": {},
   "source": [
    "La columna precipitation contiene la cantidad de lluvias diarias. Pero tenemos un problema, no todos los datos son numéricos. Obtén los primeros diez valores de la columna precipitation y comprueba si existe algún valor no numérico. **Que valor no numérico has encontrado?**\n",
    "\n",
    "*Solución*: Hay valores que contienen T"
   ]
  },
  {
   "cell_type": "code",
   "execution_count": 143,
   "metadata": {},
   "outputs": [
    {
     "data": {
      "text/plain": [
       "date\n",
       "2012-03-10    0.00\n",
       "2012-03-11       T\n",
       "2012-03-12    0.03\n",
       "2012-03-13    0.00\n",
       "2012-03-14    0.00\n",
       "Name: precipit_in, dtype: object"
      ]
     },
     "execution_count": 143,
     "metadata": {},
     "output_type": "execute_result"
    }
   ],
   "source": [
    "#hay valores que contienen T\n",
    "df2_weather[:]['precipit_in'].head()\n"
   ]
  },
  {
   "cell_type": "markdown",
   "metadata": {},
   "source": [
    "Además, el resto de datos de la columna se han interpretado como texto. **Usa la siguiente función para crear una columna de nombre precipitationN que contendrá los valores numéricos**.\n",
    "\n",
    "Lo que vamos a hacer es transformar en un número si encontramos un valor numérico, y en el caso de que encontremos T, el valor correspondiente será 0.00. El valor T significa que en ese día hubo trazas de lluvia. Es decir, llovió, pero muy poco, y no ha quedado registrado el volumen de precipitación."
   ]
  },
  {
   "cell_type": "code",
   "execution_count": 142,
   "metadata": {},
   "outputs": [
    {
     "name": "stdout",
     "output_type": "stream",
     "text": [
      "date\n",
      "2012-03-10    0.00\n",
      "2012-03-11    0.00\n",
      "2012-03-12    0.03\n",
      "2012-03-13    0.00\n",
      "2012-03-14    0.00\n",
      "Name: precipitationN, dtype: float64\n"
     ]
    }
   ],
   "source": [
    "def precip_num(p):\n",
    "    if p == \"T\":\n",
    "        value = 0.00\n",
    "    else:\n",
    "        value = float(p)\n",
    "    return value\n",
    "\n",
    "df2_weather['precipitationN'] = df2_weather['precipit_in'].apply(lambda x: precip_num(x))\n",
    "print(df2_weather['precipitationN'].head())"
   ]
  },
  {
   "cell_type": "markdown",
   "metadata": {},
   "source": [
    "Desde este momento, vamos a trabajar solo con las siguientes columnas:\n",
    "* min_tempC\n",
    "* mean_tempC\n",
    "* max_tempC\n",
    "* precipitationN\n",
    "\n",
    "El índice del dataframe lo vamos a conservar también, para tener las fechas para dibujar diversos gráficos.\n",
    "\n",
    "**Crea un dataframe de nombre w que contenga solo esas columnas, pero que conserve el índice de d**"
   ]
  },
  {
   "cell_type": "code",
   "execution_count": 147,
   "metadata": {},
   "outputs": [
    {
     "name": "stdout",
     "output_type": "stream",
     "text": [
      "            min_tempc  mean_tempc  max_tempc  precipitationN\n",
      "date                                                        \n",
      "2012-03-10  -4.444444    4.444444  13.333333            0.00\n",
      "2012-03-11  -1.111111    9.444444  19.444444            0.00\n",
      "2012-03-12  11.666667   16.666667  21.666667            0.03\n",
      "2012-03-13  10.000000   17.222222  24.444444            0.00\n",
      "2012-03-14   6.666667   16.666667  26.666667            0.00\n"
     ]
    }
   ],
   "source": [
    "w = df2_weather[['min_tempc','mean_tempc','max_tempc','precipitationN']]\n",
    "print(w.head())"
   ]
  },
  {
   "cell_type": "markdown",
   "metadata": {},
   "source": [
    "A modo de ejemplo, vemos cómo realizar una nube de puntos relacionando precipitación con la temperatura media.\n",
    "\n",
    "Existen muchos gráficos que se pueden hacer directamente con Pandas y sus Series y Dataframes. Para más información, consulta la documentación en http://pandas.pydata.org/pandas-docs/stable/visualization.html\n",
    "\n",
    "**Llovió algún día en los que la temperatura media era menor que 0?**\n",
    "\n",
    "*Solución*: Sí, algunos puntos con temperaturas negativas tienen precipitaciones positivas."
   ]
  },
  {
   "cell_type": "code",
   "execution_count": 158,
   "metadata": {},
   "outputs": [
    {
     "ename": "SyntaxError",
     "evalue": "invalid syntax (<ipython-input-158-572de9a62431>, line 1)",
     "output_type": "error",
     "traceback": [
      "\u001b[0;36m  File \u001b[0;32m\"<ipython-input-158-572de9a62431>\"\u001b[0;36m, line \u001b[0;32m1\u001b[0m\n\u001b[0;31m    (w['precipitationN']>0 and w['mean_tempc']<0]).all()\u001b[0m\n\u001b[0m                                                ^\u001b[0m\n\u001b[0;31mSyntaxError\u001b[0m\u001b[0;31m:\u001b[0m invalid syntax\n"
     ]
    }
   ],
   "source": [
    "(w['precipitationN']>0 and w['mean_tempc']<0]).all()"
   ]
  },
  {
   "cell_type": "code",
   "execution_count": 159,
   "metadata": {},
   "outputs": [
    {
     "data": {
      "text/plain": [
       "<matplotlib.axes._subplots.AxesSubplot at 0x7fa64d1dc9b0>"
      ]
     },
     "execution_count": 159,
     "metadata": {},
     "output_type": "execute_result"
    },
    {
     "data": {
      "image/png": "[encoded data removed]",
      "text/plain": [
       "<matplotlib.figure.Figure at 0x7fa64d1c9518>"
      ]
     },
     "metadata": {},
     "output_type": "display_data"
    }
   ],
   "source": [
    "w.plot(kind='scatter',x='mean_tempc',y='precipitationN',grid=True)"
   ]
  },
  {
   "cell_type": "code",
   "execution_count": null,
   "metadata": {
    "collapsed": true
   },
   "outputs": [],
   "source": []
  }
 ],
 "metadata": {
  "kernelspec": {
   "display_name": "Python 3",
   "language": "python",
   "name": "python3"
  },
  "language_info": {
   "codemirror_mode": {
    "name": "ipython",
    "version": 3
   },
   "file_extension": ".py",
   "mimetype": "text/x-python",
   "name": "python",
   "nbconvert_exporter": "python",
   "pygments_lexer": "ipython3",
   "version": "3.6.2"
  }
 },
 "nbformat": 4,
 "nbformat_minor": 1
}
